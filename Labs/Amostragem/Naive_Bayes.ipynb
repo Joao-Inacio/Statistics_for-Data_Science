{
 "cells": [
  {
   "cell_type": "markdown",
   "metadata": {},
   "source": [
    "## EXERCÍCIO"
   ]
  },
  {
   "cell_type": "code",
   "execution_count": 1,
   "metadata": {},
   "outputs": [],
   "source": [
    "# Importação das bibliotecas\n",
    "import pandas as pd\n",
    "import seaborn as sns\n",
    "from sklearn.model_selection import train_test_split\n",
    "from sklearn.preprocessing import LabelEncoder\n",
    "from sklearn.metrics import confusion_matrix, accuracy_score\n",
    "from sklearn.ensemble import RandomForestClassifier"
   ]
  },
  {
   "cell_type": "code",
   "execution_count": 2,
   "metadata": {},
   "outputs": [
    {
     "data": {
      "text/html": [
       "<div>\n",
       "<style scoped>\n",
       "    .dataframe tbody tr th:only-of-type {\n",
       "        vertical-align: middle;\n",
       "    }\n",
       "\n",
       "    .dataframe tbody tr th {\n",
       "        vertical-align: top;\n",
       "    }\n",
       "\n",
       "    .dataframe thead th {\n",
       "        text-align: right;\n",
       "    }\n",
       "</style>\n",
       "<table border=\"1\" class=\"dataframe\">\n",
       "  <thead>\n",
       "    <tr style=\"text-align: right;\">\n",
       "      <th></th>\n",
       "      <th>feedbacks</th>\n",
       "      <th>reviews</th>\n",
       "      <th>blacklist</th>\n",
       "      <th>mextraversion</th>\n",
       "      <th>cextraversion</th>\n",
       "      <th>sextraversion</th>\n",
       "      <th>mneuroticism</th>\n",
       "      <th>cneuroticism</th>\n",
       "      <th>sneuroticism</th>\n",
       "      <th>mconscientiousness</th>\n",
       "      <th>...</th>\n",
       "      <th>need_practicaly</th>\n",
       "      <th>need_selfexpression</th>\n",
       "      <th>need_stability</th>\n",
       "      <th>need_structure</th>\n",
       "      <th>value_conservation</th>\n",
       "      <th>value_openess</th>\n",
       "      <th>value_hedonism</th>\n",
       "      <th>value_selfenhancement</th>\n",
       "      <th>value_selftranscendence</th>\n",
       "      <th>reputation</th>\n",
       "    </tr>\n",
       "  </thead>\n",
       "  <tbody>\n",
       "    <tr>\n",
       "      <th>2</th>\n",
       "      <td>0</td>\n",
       "      <td>49</td>\n",
       "      <td>N</td>\n",
       "      <td>4.181642</td>\n",
       "      <td>0.6</td>\n",
       "      <td>1</td>\n",
       "      <td>2.777591</td>\n",
       "      <td>0.6</td>\n",
       "      <td>0</td>\n",
       "      <td>4.085460</td>\n",
       "      <td>...</td>\n",
       "      <td>0.696359</td>\n",
       "      <td>0.698786</td>\n",
       "      <td>0.756963</td>\n",
       "      <td>0.660119</td>\n",
       "      <td>0.619416</td>\n",
       "      <td>0.746372</td>\n",
       "      <td>0.640073</td>\n",
       "      <td>0.598037</td>\n",
       "      <td>0.828716</td>\n",
       "      <td>Bom</td>\n",
       "    </tr>\n",
       "    <tr>\n",
       "      <th>3</th>\n",
       "      <td>0</td>\n",
       "      <td>56</td>\n",
       "      <td>N</td>\n",
       "      <td>4.007042</td>\n",
       "      <td>0.6</td>\n",
       "      <td>0</td>\n",
       "      <td>2.698650</td>\n",
       "      <td>0.6</td>\n",
       "      <td>0</td>\n",
       "      <td>4.187338</td>\n",
       "      <td>...</td>\n",
       "      <td>0.715300</td>\n",
       "      <td>0.664572</td>\n",
       "      <td>0.728806</td>\n",
       "      <td>0.660740</td>\n",
       "      <td>0.588969</td>\n",
       "      <td>0.735915</td>\n",
       "      <td>0.644465</td>\n",
       "      <td>0.603042</td>\n",
       "      <td>0.809379</td>\n",
       "      <td>Bom</td>\n",
       "    </tr>\n",
       "    <tr>\n",
       "      <th>4</th>\n",
       "      <td>0</td>\n",
       "      <td>50</td>\n",
       "      <td>N</td>\n",
       "      <td>4.538230</td>\n",
       "      <td>0.7</td>\n",
       "      <td>1</td>\n",
       "      <td>2.298492</td>\n",
       "      <td>0.5</td>\n",
       "      <td>1</td>\n",
       "      <td>5.085833</td>\n",
       "      <td>...</td>\n",
       "      <td>0.720150</td>\n",
       "      <td>0.694678</td>\n",
       "      <td>0.669652</td>\n",
       "      <td>0.627962</td>\n",
       "      <td>0.553523</td>\n",
       "      <td>0.766618</td>\n",
       "      <td>0.655470</td>\n",
       "      <td>0.645042</td>\n",
       "      <td>0.826039</td>\n",
       "      <td>Bom</td>\n",
       "    </tr>\n",
       "    <tr>\n",
       "      <th>5</th>\n",
       "      <td>72</td>\n",
       "      <td>0</td>\n",
       "      <td>N</td>\n",
       "      <td>4.692854</td>\n",
       "      <td>0.3</td>\n",
       "      <td>0</td>\n",
       "      <td>2.987231</td>\n",
       "      <td>0.5</td>\n",
       "      <td>0</td>\n",
       "      <td>4.831320</td>\n",
       "      <td>...</td>\n",
       "      <td>0.739793</td>\n",
       "      <td>0.637027</td>\n",
       "      <td>0.697221</td>\n",
       "      <td>0.638587</td>\n",
       "      <td>0.675289</td>\n",
       "      <td>0.752234</td>\n",
       "      <td>0.679661</td>\n",
       "      <td>0.674438</td>\n",
       "      <td>0.813391</td>\n",
       "      <td>Bom</td>\n",
       "    </tr>\n",
       "    <tr>\n",
       "      <th>6</th>\n",
       "      <td>76</td>\n",
       "      <td>0</td>\n",
       "      <td>N</td>\n",
       "      <td>4.966753</td>\n",
       "      <td>0.3</td>\n",
       "      <td>0</td>\n",
       "      <td>3.048730</td>\n",
       "      <td>0.5</td>\n",
       "      <td>0</td>\n",
       "      <td>4.725294</td>\n",
       "      <td>...</td>\n",
       "      <td>0.718530</td>\n",
       "      <td>0.616852</td>\n",
       "      <td>0.692761</td>\n",
       "      <td>0.646695</td>\n",
       "      <td>0.677245</td>\n",
       "      <td>0.699785</td>\n",
       "      <td>0.648607</td>\n",
       "      <td>0.616075</td>\n",
       "      <td>0.816841</td>\n",
       "      <td>Bom</td>\n",
       "    </tr>\n",
       "  </tbody>\n",
       "</table>\n",
       "<p>5 rows × 75 columns</p>\n",
       "</div>"
      ],
      "text/plain": [
       "   feedbacks  reviews blacklist  mextraversion  cextraversion  sextraversion  \\\n",
       "2          0       49         N       4.181642            0.6              1   \n",
       "3          0       56         N       4.007042            0.6              0   \n",
       "4          0       50         N       4.538230            0.7              1   \n",
       "5         72        0         N       4.692854            0.3              0   \n",
       "6         76        0         N       4.966753            0.3              0   \n",
       "\n",
       "   mneuroticism  cneuroticism  sneuroticism  mconscientiousness  ...  \\\n",
       "2      2.777591           0.6             0            4.085460  ...   \n",
       "3      2.698650           0.6             0            4.187338  ...   \n",
       "4      2.298492           0.5             1            5.085833  ...   \n",
       "5      2.987231           0.5             0            4.831320  ...   \n",
       "6      3.048730           0.5             0            4.725294  ...   \n",
       "\n",
       "   need_practicaly  need_selfexpression  need_stability  need_structure  \\\n",
       "2         0.696359             0.698786        0.756963        0.660119   \n",
       "3         0.715300             0.664572        0.728806        0.660740   \n",
       "4         0.720150             0.694678        0.669652        0.627962   \n",
       "5         0.739793             0.637027        0.697221        0.638587   \n",
       "6         0.718530             0.616852        0.692761        0.646695   \n",
       "\n",
       "   value_conservation  value_openess  value_hedonism  value_selfenhancement  \\\n",
       "2            0.619416       0.746372        0.640073               0.598037   \n",
       "3            0.588969       0.735915        0.644465               0.603042   \n",
       "4            0.553523       0.766618        0.655470               0.645042   \n",
       "5            0.675289       0.752234        0.679661               0.674438   \n",
       "6            0.677245       0.699785        0.648607               0.616075   \n",
       "\n",
       "   value_selftranscendence  reputation  \n",
       "2                 0.828716         Bom  \n",
       "3                 0.809379         Bom  \n",
       "4                 0.826039         Bom  \n",
       "5                 0.813391         Bom  \n",
       "6                 0.816841         Bom  \n",
       "\n",
       "[5 rows x 75 columns]"
      ]
     },
     "execution_count": 2,
     "metadata": {},
     "output_type": "execute_result"
    }
   ],
   "source": [
    "# Base de dados\n",
    "df = pd.read_csv('./csv_result-ebay_confianca_completo.csv')\n",
    "df.head()"
   ]
  },
  {
   "cell_type": "code",
   "execution_count": 3,
   "metadata": {},
   "outputs": [
    {
     "name": "stdout",
     "output_type": "stream",
     "text": [
      "<class 'pandas.core.frame.DataFrame'>\n",
      "Int64Index: 5806 entries, 2 to 5807\n",
      "Data columns (total 75 columns):\n",
      " #   Column                   Non-Null Count  Dtype  \n",
      "---  ------                   --------------  -----  \n",
      " 0   feedbacks                5806 non-null   int64  \n",
      " 1   reviews                  5806 non-null   int64  \n",
      " 2   blacklist                5806 non-null   object \n",
      " 3   mextraversion            5806 non-null   float64\n",
      " 4   cextraversion            5806 non-null   float64\n",
      " 5   sextraversion            5806 non-null   int64  \n",
      " 6   mneuroticism             5806 non-null   float64\n",
      " 7   cneuroticism             5806 non-null   float64\n",
      " 8   sneuroticism             5806 non-null   int64  \n",
      " 9   mconscientiousness       5806 non-null   float64\n",
      " 10  cconscientiousness       5806 non-null   float64\n",
      " 11  sconscientiousness       5806 non-null   int64  \n",
      " 12  magreeableness           5806 non-null   float64\n",
      " 13  cagreeableness           5806 non-null   float64\n",
      " 14  sagreeableness           5806 non-null   int64  \n",
      " 15  mopenness                5806 non-null   float64\n",
      " 16  copenness                5806 non-null   float64\n",
      " 17  sopenness                5806 non-null   int64  \n",
      " 18  agreeablenessIndico      5806 non-null   float64\n",
      " 19  conscientiousnessIndico  5806 non-null   float64\n",
      " 20  extraversionIndico       5806 non-null   float64\n",
      " 21  opennessIndico           5806 non-null   float64\n",
      " 22  openessWatson            5806 non-null   float64\n",
      " 23  conscientiousnessWatson  5806 non-null   float64\n",
      " 24  extraversionWatson       5806 non-null   float64\n",
      " 25  agreeablenessWatson      5806 non-null   float64\n",
      " 26  neuroticismWatson        5806 non-null   float64\n",
      " 27  o_adventure              5806 non-null   float64\n",
      " 28  o_artistic               5806 non-null   float64\n",
      " 29  o_emotionality           5806 non-null   float64\n",
      " 30  o_imagination            5806 non-null   float64\n",
      " 31  o_intelect               5806 non-null   float64\n",
      " 32  o_liberalism             5806 non-null   float64\n",
      " 33  c_achievement            5806 non-null   float64\n",
      " 34  c_cautiouness            5806 non-null   float64\n",
      " 35  c_dutifulness            5806 non-null   float64\n",
      " 36  c_orderliness            5806 non-null   float64\n",
      " 37  c_discipline             5806 non-null   float64\n",
      " 38  c_efficacy               5806 non-null   float64\n",
      " 39  e_activity               5806 non-null   float64\n",
      " 40  e_assertiveness          5806 non-null   float64\n",
      " 41  e_cheerfulness           5806 non-null   float64\n",
      " 42  e_excitement             5806 non-null   float64\n",
      " 43  e_friend                 5806 non-null   float64\n",
      " 44  e_gregariouness          5806 non-null   float64\n",
      " 45  a_altruism               5806 non-null   float64\n",
      " 46  a_cooperation            5806 non-null   float64\n",
      " 47  a_modesty                5806 non-null   float64\n",
      " 48  a_morality               5806 non-null   float64\n",
      " 49  a_simpathy               5806 non-null   float64\n",
      " 50  a_trust                  5806 non-null   float64\n",
      " 51  n_anger                  5806 non-null   float64\n",
      " 52  n_anxiety                5806 non-null   float64\n",
      " 53  n_depression             5806 non-null   float64\n",
      " 54  n_immoderation           5806 non-null   float64\n",
      " 55  n_selfconsciouness       5806 non-null   float64\n",
      " 56  n_vulnerability          5806 non-null   float64\n",
      " 57  need_chalenge            5806 non-null   float64\n",
      " 58  need_closeness           5806 non-null   float64\n",
      " 59  need_curiosity           5806 non-null   float64\n",
      " 60  need_excitement          5806 non-null   float64\n",
      " 61  need_harmony             5806 non-null   float64\n",
      " 62  need_ideal               5806 non-null   float64\n",
      " 63  need_liberty             5806 non-null   float64\n",
      " 64  need_love                5806 non-null   float64\n",
      " 65  need_practicaly          5806 non-null   float64\n",
      " 66  need_selfexpression      5806 non-null   float64\n",
      " 67  need_stability           5806 non-null   float64\n",
      " 68  need_structure           5806 non-null   float64\n",
      " 69  value_conservation       5806 non-null   float64\n",
      " 70  value_openess            5806 non-null   float64\n",
      " 71  value_hedonism           5806 non-null   float64\n",
      " 72  value_selfenhancement    5806 non-null   float64\n",
      " 73  value_selftranscendence  5806 non-null   float64\n",
      " 74  reputation               5806 non-null   object \n",
      "dtypes: float64(66), int64(7), object(2)\n",
      "memory usage: 3.4+ MB\n"
     ]
    }
   ],
   "source": [
    "# Informação\n",
    "df.info()"
   ]
  },
  {
   "cell_type": "code",
   "execution_count": 4,
   "metadata": {},
   "outputs": [
    {
     "data": {
      "text/plain": [
       "(5806, 75)"
      ]
     },
     "execution_count": 4,
     "metadata": {},
     "output_type": "execute_result"
    }
   ],
   "source": [
    "# Verificando o tamanho\n",
    "df.shape"
   ]
  },
  {
   "cell_type": "code",
   "execution_count": 5,
   "metadata": {},
   "outputs": [],
   "source": [
    "# Dividido as classes\n",
    "previsores = df.iloc[:, 0:74].values\n",
    "classe = df.iloc[:,74].values"
   ]
  },
  {
   "cell_type": "code",
   "execution_count": 6,
   "metadata": {},
   "outputs": [],
   "source": [
    "# Transformação dos atributos categóricos em atributos numéricos, passando o \n",
    "# índice de cada atributo categórico\n",
    "labelencoder = LabelEncoder()\n",
    "previsores[:,2] = labelencoder.fit_transform(previsores[:,2])"
   ]
  },
  {
   "cell_type": "code",
   "execution_count": 7,
   "metadata": {},
   "outputs": [],
   "source": [
    "# Divisão da base de dados entre treinamento e teste \n",
    "X_treinamento, X_teste, y_treinamento, y_teste = train_test_split(\n",
    "    previsores, classe, test_size = 0.2, stratify=classe\n",
    ")"
   ]
  },
  {
   "cell_type": "code",
   "execution_count": 8,
   "metadata": {},
   "outputs": [
    {
     "data": {
      "text/html": [
       "<style>#sk-container-id-1 {color: black;background-color: white;}#sk-container-id-1 pre{padding: 0;}#sk-container-id-1 div.sk-toggleable {background-color: white;}#sk-container-id-1 label.sk-toggleable__label {cursor: pointer;display: block;width: 100%;margin-bottom: 0;padding: 0.3em;box-sizing: border-box;text-align: center;}#sk-container-id-1 label.sk-toggleable__label-arrow:before {content: \"▸\";float: left;margin-right: 0.25em;color: #696969;}#sk-container-id-1 label.sk-toggleable__label-arrow:hover:before {color: black;}#sk-container-id-1 div.sk-estimator:hover label.sk-toggleable__label-arrow:before {color: black;}#sk-container-id-1 div.sk-toggleable__content {max-height: 0;max-width: 0;overflow: hidden;text-align: left;background-color: #f0f8ff;}#sk-container-id-1 div.sk-toggleable__content pre {margin: 0.2em;color: black;border-radius: 0.25em;background-color: #f0f8ff;}#sk-container-id-1 input.sk-toggleable__control:checked~div.sk-toggleable__content {max-height: 200px;max-width: 100%;overflow: auto;}#sk-container-id-1 input.sk-toggleable__control:checked~label.sk-toggleable__label-arrow:before {content: \"▾\";}#sk-container-id-1 div.sk-estimator input.sk-toggleable__control:checked~label.sk-toggleable__label {background-color: #d4ebff;}#sk-container-id-1 div.sk-label input.sk-toggleable__control:checked~label.sk-toggleable__label {background-color: #d4ebff;}#sk-container-id-1 input.sk-hidden--visually {border: 0;clip: rect(1px 1px 1px 1px);clip: rect(1px, 1px, 1px, 1px);height: 1px;margin: -1px;overflow: hidden;padding: 0;position: absolute;width: 1px;}#sk-container-id-1 div.sk-estimator {font-family: monospace;background-color: #f0f8ff;border: 1px dotted black;border-radius: 0.25em;box-sizing: border-box;margin-bottom: 0.5em;}#sk-container-id-1 div.sk-estimator:hover {background-color: #d4ebff;}#sk-container-id-1 div.sk-parallel-item::after {content: \"\";width: 100%;border-bottom: 1px solid gray;flex-grow: 1;}#sk-container-id-1 div.sk-label:hover label.sk-toggleable__label {background-color: #d4ebff;}#sk-container-id-1 div.sk-serial::before {content: \"\";position: absolute;border-left: 1px solid gray;box-sizing: border-box;top: 0;bottom: 0;left: 50%;z-index: 0;}#sk-container-id-1 div.sk-serial {display: flex;flex-direction: column;align-items: center;background-color: white;padding-right: 0.2em;padding-left: 0.2em;position: relative;}#sk-container-id-1 div.sk-item {position: relative;z-index: 1;}#sk-container-id-1 div.sk-parallel {display: flex;align-items: stretch;justify-content: center;background-color: white;position: relative;}#sk-container-id-1 div.sk-item::before, #sk-container-id-1 div.sk-parallel-item::before {content: \"\";position: absolute;border-left: 1px solid gray;box-sizing: border-box;top: 0;bottom: 0;left: 50%;z-index: -1;}#sk-container-id-1 div.sk-parallel-item {display: flex;flex-direction: column;z-index: 1;position: relative;background-color: white;}#sk-container-id-1 div.sk-parallel-item:first-child::after {align-self: flex-end;width: 50%;}#sk-container-id-1 div.sk-parallel-item:last-child::after {align-self: flex-start;width: 50%;}#sk-container-id-1 div.sk-parallel-item:only-child::after {width: 0;}#sk-container-id-1 div.sk-dashed-wrapped {border: 1px dashed gray;margin: 0 0.4em 0.5em 0.4em;box-sizing: border-box;padding-bottom: 0.4em;background-color: white;}#sk-container-id-1 div.sk-label label {font-family: monospace;font-weight: bold;display: inline-block;line-height: 1.2em;}#sk-container-id-1 div.sk-label-container {text-align: center;}#sk-container-id-1 div.sk-container {/* jupyter's `normalize.less` sets `[hidden] { display: none; }` but bootstrap.min.css set `[hidden] { display: none !important; }` so we also need the `!important` here to be able to override the default hidden behavior on the sphinx rendered scikit-learn.org. See: https://github.com/scikit-learn/scikit-learn/issues/21755 */display: inline-block !important;position: relative;}#sk-container-id-1 div.sk-text-repr-fallback {display: none;}</style><div id=\"sk-container-id-1\" class=\"sk-top-container\"><div class=\"sk-text-repr-fallback\"><pre>RandomForestClassifier()</pre><b>In a Jupyter environment, please rerun this cell to show the HTML representation or trust the notebook. <br />On GitHub, the HTML representation is unable to render, please try loading this page with nbviewer.org.</b></div><div class=\"sk-container\" hidden><div class=\"sk-item\"><div class=\"sk-estimator sk-toggleable\"><input class=\"sk-toggleable__control sk-hidden--visually\" id=\"sk-estimator-id-1\" type=\"checkbox\" checked><label for=\"sk-estimator-id-1\" class=\"sk-toggleable__label sk-toggleable__label-arrow\">RandomForestClassifier</label><div class=\"sk-toggleable__content\"><pre>RandomForestClassifier()</pre></div></div></div></div></div>"
      ],
      "text/plain": [
       "RandomForestClassifier()"
      ]
     },
     "execution_count": 8,
     "metadata": {},
     "output_type": "execute_result"
    }
   ],
   "source": [
    "# Criação do modelo, treinamento, obtenção das previsões e da taxa de acerto\n",
    "floresta = RandomForestClassifier()\n",
    "floresta.fit(X_treinamento, y_treinamento)"
   ]
  },
  {
   "cell_type": "code",
   "execution_count": 9,
   "metadata": {},
   "outputs": [
    {
     "data": {
      "text/html": [
       "<style>#sk-container-id-2 {color: black;background-color: white;}#sk-container-id-2 pre{padding: 0;}#sk-container-id-2 div.sk-toggleable {background-color: white;}#sk-container-id-2 label.sk-toggleable__label {cursor: pointer;display: block;width: 100%;margin-bottom: 0;padding: 0.3em;box-sizing: border-box;text-align: center;}#sk-container-id-2 label.sk-toggleable__label-arrow:before {content: \"▸\";float: left;margin-right: 0.25em;color: #696969;}#sk-container-id-2 label.sk-toggleable__label-arrow:hover:before {color: black;}#sk-container-id-2 div.sk-estimator:hover label.sk-toggleable__label-arrow:before {color: black;}#sk-container-id-2 div.sk-toggleable__content {max-height: 0;max-width: 0;overflow: hidden;text-align: left;background-color: #f0f8ff;}#sk-container-id-2 div.sk-toggleable__content pre {margin: 0.2em;color: black;border-radius: 0.25em;background-color: #f0f8ff;}#sk-container-id-2 input.sk-toggleable__control:checked~div.sk-toggleable__content {max-height: 200px;max-width: 100%;overflow: auto;}#sk-container-id-2 input.sk-toggleable__control:checked~label.sk-toggleable__label-arrow:before {content: \"▾\";}#sk-container-id-2 div.sk-estimator input.sk-toggleable__control:checked~label.sk-toggleable__label {background-color: #d4ebff;}#sk-container-id-2 div.sk-label input.sk-toggleable__control:checked~label.sk-toggleable__label {background-color: #d4ebff;}#sk-container-id-2 input.sk-hidden--visually {border: 0;clip: rect(1px 1px 1px 1px);clip: rect(1px, 1px, 1px, 1px);height: 1px;margin: -1px;overflow: hidden;padding: 0;position: absolute;width: 1px;}#sk-container-id-2 div.sk-estimator {font-family: monospace;background-color: #f0f8ff;border: 1px dotted black;border-radius: 0.25em;box-sizing: border-box;margin-bottom: 0.5em;}#sk-container-id-2 div.sk-estimator:hover {background-color: #d4ebff;}#sk-container-id-2 div.sk-parallel-item::after {content: \"\";width: 100%;border-bottom: 1px solid gray;flex-grow: 1;}#sk-container-id-2 div.sk-label:hover label.sk-toggleable__label {background-color: #d4ebff;}#sk-container-id-2 div.sk-serial::before {content: \"\";position: absolute;border-left: 1px solid gray;box-sizing: border-box;top: 0;bottom: 0;left: 50%;z-index: 0;}#sk-container-id-2 div.sk-serial {display: flex;flex-direction: column;align-items: center;background-color: white;padding-right: 0.2em;padding-left: 0.2em;position: relative;}#sk-container-id-2 div.sk-item {position: relative;z-index: 1;}#sk-container-id-2 div.sk-parallel {display: flex;align-items: stretch;justify-content: center;background-color: white;position: relative;}#sk-container-id-2 div.sk-item::before, #sk-container-id-2 div.sk-parallel-item::before {content: \"\";position: absolute;border-left: 1px solid gray;box-sizing: border-box;top: 0;bottom: 0;left: 50%;z-index: -1;}#sk-container-id-2 div.sk-parallel-item {display: flex;flex-direction: column;z-index: 1;position: relative;background-color: white;}#sk-container-id-2 div.sk-parallel-item:first-child::after {align-self: flex-end;width: 50%;}#sk-container-id-2 div.sk-parallel-item:last-child::after {align-self: flex-start;width: 50%;}#sk-container-id-2 div.sk-parallel-item:only-child::after {width: 0;}#sk-container-id-2 div.sk-dashed-wrapped {border: 1px dashed gray;margin: 0 0.4em 0.5em 0.4em;box-sizing: border-box;padding-bottom: 0.4em;background-color: white;}#sk-container-id-2 div.sk-label label {font-family: monospace;font-weight: bold;display: inline-block;line-height: 1.2em;}#sk-container-id-2 div.sk-label-container {text-align: center;}#sk-container-id-2 div.sk-container {/* jupyter's `normalize.less` sets `[hidden] { display: none; }` but bootstrap.min.css set `[hidden] { display: none !important; }` so we also need the `!important` here to be able to override the default hidden behavior on the sphinx rendered scikit-learn.org. See: https://github.com/scikit-learn/scikit-learn/issues/21755 */display: inline-block !important;position: relative;}#sk-container-id-2 div.sk-text-repr-fallback {display: none;}</style><div id=\"sk-container-id-2\" class=\"sk-top-container\"><div class=\"sk-text-repr-fallback\"><pre>DecisionTreeClassifier(max_features=&#x27;sqrt&#x27;, random_state=1186827130)</pre><b>In a Jupyter environment, please rerun this cell to show the HTML representation or trust the notebook. <br />On GitHub, the HTML representation is unable to render, please try loading this page with nbviewer.org.</b></div><div class=\"sk-container\" hidden><div class=\"sk-item\"><div class=\"sk-estimator sk-toggleable\"><input class=\"sk-toggleable__control sk-hidden--visually\" id=\"sk-estimator-id-2\" type=\"checkbox\" checked><label for=\"sk-estimator-id-2\" class=\"sk-toggleable__label sk-toggleable__label-arrow\">DecisionTreeClassifier</label><div class=\"sk-toggleable__content\"><pre>DecisionTreeClassifier(max_features=&#x27;sqrt&#x27;, random_state=1186827130)</pre></div></div></div></div></div>"
      ],
      "text/plain": [
       "DecisionTreeClassifier(max_features='sqrt', random_state=1186827130)"
      ]
     },
     "execution_count": 9,
     "metadata": {},
     "output_type": "execute_result"
    }
   ],
   "source": [
    "# Visualização dos atributos principais\n",
    "floresta.estimators_[1]"
   ]
  },
  {
   "cell_type": "code",
   "execution_count": 10,
   "metadata": {},
   "outputs": [
    {
     "data": {
      "text/plain": [
       "0.7478485370051635"
      ]
     },
     "execution_count": 10,
     "metadata": {},
     "output_type": "execute_result"
    }
   ],
   "source": [
    "# Fazendo a previsões\n",
    "previsoes = floresta.predict(X_teste)\n",
    "confusao = confusion_matrix(y_teste, previsoes)\n",
    "taxa_acerto = accuracy_score(y_teste, previsoes)\n",
    "taxa_acerto\n"
   ]
  },
  {
   "cell_type": "code",
   "execution_count": 11,
   "metadata": {},
   "outputs": [
    {
     "data": {
      "text/plain": [
       "<AxesSubplot: >"
      ]
     },
     "execution_count": 11,
     "metadata": {},
     "output_type": "execute_result"
    },
    {
     "data": {
      "image/png": "[encoded data removed]",
      "text/plain": [
       "<Figure size 640x480 with 2 Axes>"
      ]
     },
     "metadata": {},
     "output_type": "display_data"
    }
   ],
   "source": [
    "# Visualizando\n",
    "sns.heatmap(confusao, annot=True)"
   ]
  },
  {
   "cell_type": "markdown",
   "metadata": {},
   "source": [
    "### Subamostragem(undersampling) - Tomek Linhs"
   ]
  },
  {
   "cell_type": "code",
   "execution_count": 12,
   "metadata": {},
   "outputs": [],
   "source": [
    "# Biblioteca\n",
    "from imblearn.under_sampling import TomekLinks"
   ]
  },
  {
   "cell_type": "code",
   "execution_count": 13,
   "metadata": {},
   "outputs": [],
   "source": [
    "# Criando a Subamostragem\n",
    "tl = TomekLinks(sampling_strategy='majority')\n",
    "X_under, y_under = tl.fit_resample(previsores, classe)"
   ]
  },
  {
   "cell_type": "code",
   "execution_count": 14,
   "metadata": {},
   "outputs": [
    {
     "data": {
      "text/plain": [
       "((5417, 74), (5417,))"
      ]
     },
     "execution_count": 14,
     "metadata": {},
     "output_type": "execute_result"
    }
   ],
   "source": [
    "# Verificando o tamanho\n",
    "X_under.shape, y_under.shape"
   ]
  },
  {
   "cell_type": "code",
   "execution_count": 15,
   "metadata": {},
   "outputs": [
    {
     "data": {
      "text/plain": [
       "((4333, 74), (1084, 74))"
      ]
     },
     "execution_count": 15,
     "metadata": {},
     "output_type": "execute_result"
    }
   ],
   "source": [
    "# Criando a Variáveis de Treinamento e teste\n",
    "X_treinamento_u, X_teste_u, y_treinamento_u, y_teste_u = train_test_split(\n",
    "    X_under, y_under, test_size=0.2, stratify=y_under\n",
    ")\n",
    "X_treinamento_u.shape, X_teste_u.shape"
   ]
  },
  {
   "cell_type": "code",
   "execution_count": 16,
   "metadata": {},
   "outputs": [
    {
     "data": {
      "text/html": [
       "<style>#sk-container-id-3 {color: black;background-color: white;}#sk-container-id-3 pre{padding: 0;}#sk-container-id-3 div.sk-toggleable {background-color: white;}#sk-container-id-3 label.sk-toggleable__label {cursor: pointer;display: block;width: 100%;margin-bottom: 0;padding: 0.3em;box-sizing: border-box;text-align: center;}#sk-container-id-3 label.sk-toggleable__label-arrow:before {content: \"▸\";float: left;margin-right: 0.25em;color: #696969;}#sk-container-id-3 label.sk-toggleable__label-arrow:hover:before {color: black;}#sk-container-id-3 div.sk-estimator:hover label.sk-toggleable__label-arrow:before {color: black;}#sk-container-id-3 div.sk-toggleable__content {max-height: 0;max-width: 0;overflow: hidden;text-align: left;background-color: #f0f8ff;}#sk-container-id-3 div.sk-toggleable__content pre {margin: 0.2em;color: black;border-radius: 0.25em;background-color: #f0f8ff;}#sk-container-id-3 input.sk-toggleable__control:checked~div.sk-toggleable__content {max-height: 200px;max-width: 100%;overflow: auto;}#sk-container-id-3 input.sk-toggleable__control:checked~label.sk-toggleable__label-arrow:before {content: \"▾\";}#sk-container-id-3 div.sk-estimator input.sk-toggleable__control:checked~label.sk-toggleable__label {background-color: #d4ebff;}#sk-container-id-3 div.sk-label input.sk-toggleable__control:checked~label.sk-toggleable__label {background-color: #d4ebff;}#sk-container-id-3 input.sk-hidden--visually {border: 0;clip: rect(1px 1px 1px 1px);clip: rect(1px, 1px, 1px, 1px);height: 1px;margin: -1px;overflow: hidden;padding: 0;position: absolute;width: 1px;}#sk-container-id-3 div.sk-estimator {font-family: monospace;background-color: #f0f8ff;border: 1px dotted black;border-radius: 0.25em;box-sizing: border-box;margin-bottom: 0.5em;}#sk-container-id-3 div.sk-estimator:hover {background-color: #d4ebff;}#sk-container-id-3 div.sk-parallel-item::after {content: \"\";width: 100%;border-bottom: 1px solid gray;flex-grow: 1;}#sk-container-id-3 div.sk-label:hover label.sk-toggleable__label {background-color: #d4ebff;}#sk-container-id-3 div.sk-serial::before {content: \"\";position: absolute;border-left: 1px solid gray;box-sizing: border-box;top: 0;bottom: 0;left: 50%;z-index: 0;}#sk-container-id-3 div.sk-serial {display: flex;flex-direction: column;align-items: center;background-color: white;padding-right: 0.2em;padding-left: 0.2em;position: relative;}#sk-container-id-3 div.sk-item {position: relative;z-index: 1;}#sk-container-id-3 div.sk-parallel {display: flex;align-items: stretch;justify-content: center;background-color: white;position: relative;}#sk-container-id-3 div.sk-item::before, #sk-container-id-3 div.sk-parallel-item::before {content: \"\";position: absolute;border-left: 1px solid gray;box-sizing: border-box;top: 0;bottom: 0;left: 50%;z-index: -1;}#sk-container-id-3 div.sk-parallel-item {display: flex;flex-direction: column;z-index: 1;position: relative;background-color: white;}#sk-container-id-3 div.sk-parallel-item:first-child::after {align-self: flex-end;width: 50%;}#sk-container-id-3 div.sk-parallel-item:last-child::after {align-self: flex-start;width: 50%;}#sk-container-id-3 div.sk-parallel-item:only-child::after {width: 0;}#sk-container-id-3 div.sk-dashed-wrapped {border: 1px dashed gray;margin: 0 0.4em 0.5em 0.4em;box-sizing: border-box;padding-bottom: 0.4em;background-color: white;}#sk-container-id-3 div.sk-label label {font-family: monospace;font-weight: bold;display: inline-block;line-height: 1.2em;}#sk-container-id-3 div.sk-label-container {text-align: center;}#sk-container-id-3 div.sk-container {/* jupyter's `normalize.less` sets `[hidden] { display: none; }` but bootstrap.min.css set `[hidden] { display: none !important; }` so we also need the `!important` here to be able to override the default hidden behavior on the sphinx rendered scikit-learn.org. See: https://github.com/scikit-learn/scikit-learn/issues/21755 */display: inline-block !important;position: relative;}#sk-container-id-3 div.sk-text-repr-fallback {display: none;}</style><div id=\"sk-container-id-3\" class=\"sk-top-container\"><div class=\"sk-text-repr-fallback\"><pre>RandomForestClassifier()</pre><b>In a Jupyter environment, please rerun this cell to show the HTML representation or trust the notebook. <br />On GitHub, the HTML representation is unable to render, please try loading this page with nbviewer.org.</b></div><div class=\"sk-container\" hidden><div class=\"sk-item\"><div class=\"sk-estimator sk-toggleable\"><input class=\"sk-toggleable__control sk-hidden--visually\" id=\"sk-estimator-id-3\" type=\"checkbox\" checked><label for=\"sk-estimator-id-3\" class=\"sk-toggleable__label sk-toggleable__label-arrow\">RandomForestClassifier</label><div class=\"sk-toggleable__content\"><pre>RandomForestClassifier()</pre></div></div></div></div></div>"
      ],
      "text/plain": [
       "RandomForestClassifier()"
      ]
     },
     "execution_count": 16,
     "metadata": {},
     "output_type": "execute_result"
    }
   ],
   "source": [
    "# Criação do modelo, treinamento, obtenção das previsões e da taxa de acerto\n",
    "floresta_u = RandomForestClassifier()\n",
    "floresta_u.fit(X_treinamento_u, y_treinamento_u)"
   ]
  },
  {
   "cell_type": "code",
   "execution_count": 17,
   "metadata": {},
   "outputs": [
    {
     "data": {
      "text/plain": [
       "0.735239852398524"
      ]
     },
     "execution_count": 17,
     "metadata": {},
     "output_type": "execute_result"
    }
   ],
   "source": [
    "# Previsão\n",
    "previsoes_u = floresta_u.predict(X_teste_u)\n",
    "accuracy_score(previsoes_u, y_teste_u)"
   ]
  },
  {
   "cell_type": "code",
   "execution_count": 18,
   "metadata": {},
   "outputs": [
    {
     "data": {
      "text/plain": [
       "array([[773, 278],\n",
       "       [  9,  24]], dtype=int64)"
      ]
     },
     "execution_count": 18,
     "metadata": {},
     "output_type": "execute_result"
    }
   ],
   "source": [
    "# Criando a matrix de confusão \n",
    "cm_u = confusion_matrix(previsoes_u, y_teste_u)\n",
    "cm_u"
   ]
  },
  {
   "cell_type": "markdown",
   "metadata": {},
   "source": [
    "### Sobreamostragem (Oversampling) - SMOTE"
   ]
  },
  {
   "cell_type": "code",
   "execution_count": 19,
   "metadata": {},
   "outputs": [],
   "source": [
    "# Importação da Biblioteca\n",
    "from imblearn.over_sampling import SMOTE"
   ]
  },
  {
   "cell_type": "code",
   "execution_count": 20,
   "metadata": {},
   "outputs": [
    {
     "data": {
      "text/plain": [
       "((8598, 74), (8598,))"
      ]
     },
     "execution_count": 20,
     "metadata": {},
     "output_type": "execute_result"
    }
   ],
   "source": [
    "# Criando a variável \n",
    "smote = SMOTE(sampling_strategy='minority')\n",
    "X_over, y_over = smote.fit_resample(previsores, classe)\n",
    "# Tamanho\n",
    "X_over.shape, y_over.shape"
   ]
  },
  {
   "cell_type": "code",
   "execution_count": 21,
   "metadata": {},
   "outputs": [
    {
     "data": {
      "text/plain": [
       "((6878, 74), (1720, 74))"
      ]
     },
     "execution_count": 21,
     "metadata": {},
     "output_type": "execute_result"
    }
   ],
   "source": [
    "# Criando o treinamento e o teste\n",
    "X_treinamento_o, X_teste_o, y_treinamento_o, y_teste_o = train_test_split(\n",
    "    X_over, y_over, test_size = 0.2, stratify=y_over\n",
    ")\n",
    "# Tamanho\n",
    "X_treinamento_o.shape, X_teste_o.shape"
   ]
  },
  {
   "cell_type": "code",
   "execution_count": 22,
   "metadata": {},
   "outputs": [
    {
     "data": {
      "text/plain": [
       "0.8220930232558139"
      ]
     },
     "execution_count": 22,
     "metadata": {},
     "output_type": "execute_result"
    }
   ],
   "source": [
    "# Criação do modelo, treinamento, obtenção das previsões e da taxa de acerto\n",
    "floresta_o = RandomForestClassifier()\n",
    "floresta_o.fit(X_treinamento_o, y_treinamento_o)\n",
    "previsoes_o = floresta_o.predict(X_teste_o)\n",
    "accuracy_score(previsoes_o, y_teste_o)"
   ]
  },
  {
   "cell_type": "code",
   "execution_count": 23,
   "metadata": {},
   "outputs": [
    {
     "data": {
      "text/plain": [
       "array([[700, 146],\n",
       "       [160, 714]], dtype=int64)"
      ]
     },
     "execution_count": 23,
     "metadata": {},
     "output_type": "execute_result"
    }
   ],
   "source": [
    "# Criando a matrix de confusão \n",
    "cm_o = confusion_matrix(previsoes_o, y_teste_o)\n",
    "cm_o"
   ]
  },
  {
   "cell_type": "code",
   "execution_count": 24,
   "metadata": {},
   "outputs": [
    {
     "data": {
      "text/plain": [
       "<AxesSubplot: >"
      ]
     },
     "execution_count": 24,
     "metadata": {},
     "output_type": "execute_result"
    },
    {
     "data": {
      "image/png": "[encoded data removed]",
      "text/plain": [
       "<Figure size 640x480 with 2 Axes>"
      ]
     },
     "metadata": {},
     "output_type": "display_data"
    }
   ],
   "source": [
    "# mapa de calor\n",
    "sns.heatmap(cm_o, annot=True)"
   ]
  }
 ],
 "metadata": {
  "kernelspec": {
   "display_name": "Python 3.10.8 ('venv': venv)",
   "language": "python",
   "name": "python3"
  },
  "language_info": {
   "codemirror_mode": {
    "name": "ipython",
    "version": 3
   },
   "file_extension": ".py",
   "mimetype": "text/x-python",
   "name": "python",
   "nbconvert_exporter": "python",
   "pygments_lexer": "ipython3",
   "version": "3.10.8"
  },
  "orig_nbformat": 4,
  "vscode": {
   "interpreter": {
    "hash": "6e33741c762ba601eba819328c4d8c422f54d4c680da98d193b65b9553109624"
   }
  }
 },
 "nbformat": 4,
 "nbformat_minor": 2
}
