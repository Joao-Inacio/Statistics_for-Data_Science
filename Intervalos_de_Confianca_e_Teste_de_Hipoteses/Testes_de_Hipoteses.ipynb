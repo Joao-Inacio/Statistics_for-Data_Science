{
 "cells": [
  {
   "attachments": {},
   "cell_type": "markdown",
   "metadata": {},
   "source": [
    "## Teste de Hipóteses"
   ]
  },
  {
   "attachments": {},
   "cell_type": "markdown",
   "metadata": {},
   "source": [
    "### Bibliotecas"
   ]
  },
  {
   "cell_type": "code",
   "execution_count": 1,
   "metadata": {},
   "outputs": [],
   "source": [
    "# Libs\n",
    "import math as mt\n",
    "import numpy as np\n",
    "from scipy.stats import norm"
   ]
  },
  {
   "attachments": {},
   "cell_type": "markdown",
   "metadata": {},
   "source": [
    "### Base de Dados"
   ]
  },
  {
   "cell_type": "code",
   "execution_count": 2,
   "metadata": {},
   "outputs": [],
   "source": [
    "# Dados\n",
    "dados_originais = np.array(\n",
    "    [\n",
    "        126. , 129.5, 133. , 133. , 136.5, 136.5, 140. , 140. , 140. ,\n",
    "        140. , 143.5, 143.5, 143.5, 143.5, 143.5, 143.5, 147. , 147. ,\n",
    "        147. , 147. , 147. , 147. , 147. , 150.5, 150.5, 150.5, 150.5,\n",
    "        150.5, 150.5, 150.5, 150.5, 154. , 154. , 154. , 154. , 154. ,\n",
    "        154. , 154. , 154. , 154. , 157.5, 157.5, 157.5, 157.5, 157.5,\n",
    "        157.5, 157.5, 157.5, 157.5, 157.5, 161. , 161. , 161. , 161. ,\n",
    "        161. , 161. , 161. , 161. , 161. , 161. , 164.5, 164.5, 164.5,\n",
    "        164.5, 164.5, 164.5, 164.5, 164.5, 164.5, 168. , 168. , 168. ,\n",
    "        168. , 168. , 168. , 168. , 168. , 171.5, 171.5, 171.5, 171.5,\n",
    "        171.5, 171.5, 171.5, 175. , 175. , 175. , 175. , 175. , 175. ,\n",
    "        178.5, 178.5, 178.5, 178.5, 182. , 182. , 185.5, 185.5, 189.,\n",
    "        192.5\n",
    "    ]\n",
    ")"
   ]
  },
  {
   "cell_type": "code",
   "execution_count": 3,
   "metadata": {},
   "outputs": [
    {
     "data": {
      "text/plain": [
       "159.25"
      ]
     },
     "execution_count": 3,
     "metadata": {},
     "output_type": "execute_result"
    }
   ],
   "source": [
    "# Hipótese nula e média\n",
    "H0_media = np.mean(dados_originais)\n",
    "H0_media"
   ]
  },
  {
   "cell_type": "code",
   "execution_count": 4,
   "metadata": {},
   "outputs": [
    {
     "data": {
      "text/plain": [
       "13.65"
      ]
     },
     "execution_count": 4,
     "metadata": {},
     "output_type": "execute_result"
    }
   ],
   "source": [
    "# Hipótese nula e desvio padrão\n",
    "H0_dp = np.std(dados_originais)\n",
    "H0_dp"
   ]
  },
  {
   "cell_type": "code",
   "execution_count": 5,
   "metadata": {},
   "outputs": [
    {
     "data": {
      "text/plain": [
       "array([129.78 , 133.385, 136.99 , 136.99 , 140.595, 140.595, 144.2  ,\n",
       "       144.2  , 144.2  , 144.2  , 147.805, 147.805, 147.805, 147.805,\n",
       "       147.805, 147.805, 151.41 , 151.41 , 151.41 , 151.41 , 151.41 ,\n",
       "       151.41 , 151.41 , 155.015, 155.015, 155.015, 155.015, 155.015,\n",
       "       155.015, 155.015, 155.015, 158.62 , 158.62 , 158.62 , 158.62 ,\n",
       "       158.62 , 158.62 , 158.62 , 158.62 , 158.62 , 162.225, 162.225,\n",
       "       162.225, 162.225, 162.225, 162.225, 162.225, 162.225, 162.225,\n",
       "       162.225, 165.83 , 165.83 , 165.83 , 165.83 , 165.83 , 165.83 ,\n",
       "       165.83 , 165.83 , 165.83 , 165.83 , 169.435, 169.435, 169.435,\n",
       "       169.435, 169.435, 169.435, 169.435, 169.435, 169.435, 173.04 ,\n",
       "       173.04 , 173.04 , 173.04 , 173.04 , 173.04 , 173.04 , 173.04 ,\n",
       "       176.645, 176.645, 176.645, 176.645, 176.645, 176.645, 176.645,\n",
       "       180.25 , 180.25 , 180.25 , 180.25 , 180.25 , 180.25 , 183.855,\n",
       "       183.855, 183.855, 183.855, 187.46 , 187.46 , 191.065, 191.065,\n",
       "       194.67 , 198.275])"
      ]
     },
     "execution_count": 5,
     "metadata": {},
     "output_type": "execute_result"
    }
   ],
   "source": [
    "# Gerando novos dados\n",
    "dados_novos = dados_originais * 1.03\n",
    "dados_novos"
   ]
  },
  {
   "cell_type": "code",
   "execution_count": 6,
   "metadata": {},
   "outputs": [
    {
     "data": {
      "text/plain": [
       "164.0275"
      ]
     },
     "execution_count": 6,
     "metadata": {},
     "output_type": "execute_result"
    }
   ],
   "source": [
    "# Média da hipótese alternativa\n",
    "H1_media = np.mean(dados_novos)\n",
    "H1_media"
   ]
  },
  {
   "cell_type": "code",
   "execution_count": 7,
   "metadata": {},
   "outputs": [
    {
     "data": {
      "text/plain": [
       "14.0595"
      ]
     },
     "execution_count": 7,
     "metadata": {},
     "output_type": "execute_result"
    }
   ],
   "source": [
    "# desvio padrão da hipótese alternativa\n",
    "H1_dp = np.std(dados_novos)\n",
    "H1_dp"
   ]
  },
  {
   "cell_type": "code",
   "execution_count": 8,
   "metadata": {},
   "outputs": [
    {
     "data": {
      "text/plain": [
       "100"
      ]
     },
     "execution_count": 8,
     "metadata": {},
     "output_type": "execute_result"
    }
   ],
   "source": [
    "# Quantidade de elementos\n",
    "H1_n = len(dados_novos)\n",
    "H1_n"
   ]
  },
  {
   "cell_type": "code",
   "execution_count": 9,
   "metadata": {},
   "outputs": [],
   "source": [
    "# Nível de confiança \n",
    "alpha = 0.05"
   ]
  },
  {
   "attachments": {},
   "cell_type": "markdown",
   "metadata": {},
   "source": [
    "### Teste de Hipótese Z"
   ]
  },
  {
   "attachments": {},
   "cell_type": "markdown",
   "metadata": {},
   "source": [
    "#### Teste Manual"
   ]
  },
  {
   "cell_type": "code",
   "execution_count": 10,
   "metadata": {},
   "outputs": [
    {
     "data": {
      "text/plain": [
       "3.398058252427187"
      ]
     },
     "execution_count": 10,
     "metadata": {},
     "output_type": "execute_result"
    }
   ],
   "source": [
    "# Variável Z\n",
    "Z = (H1_media - H0_media) / (H1_dp / mt.sqrt(H1_n))\n",
    "Z"
   ]
  },
  {
   "cell_type": "code",
   "execution_count": 11,
   "metadata": {},
   "outputs": [
    {
     "data": {
      "text/plain": [
       "(0.9996606701617486, 3.3980582524271936)"
      ]
     },
     "execution_count": 11,
     "metadata": {},
     "output_type": "execute_result"
    }
   ],
   "source": [
    "# Visualizando a probabilidade\n",
    "norm.cdf(Z), norm.ppf(0.9996606701617486)"
   ]
  },
  {
   "cell_type": "code",
   "execution_count": 12,
   "metadata": {},
   "outputs": [
    {
     "data": {
      "text/plain": [
       "0.9996606701617486"
      ]
     },
     "execution_count": 12,
     "metadata": {},
     "output_type": "execute_result"
    }
   ],
   "source": [
    "# Refazendo a variável Z\n",
    "Z = norm.cdf(Z)\n",
    "Z"
   ]
  },
  {
   "cell_type": "code",
   "execution_count": 13,
   "metadata": {},
   "outputs": [
    {
     "data": {
      "text/plain": [
       "0.00033932983825135654"
      ]
     },
     "execution_count": 13,
     "metadata": {},
     "output_type": "execute_result"
    }
   ],
   "source": [
    "# Valor p\n",
    "p = 1 - Z\n",
    "p"
   ]
  },
  {
   "cell_type": "code",
   "execution_count": 14,
   "metadata": {},
   "outputs": [
    {
     "name": "stdout",
     "output_type": "stream",
     "text": [
      "Hipótese nula rejeitada\n"
     ]
    }
   ],
   "source": [
    "# Verificando qual hipótese foi rejeitada \n",
    "if p < alpha:\n",
    "    print('Hipótese nula rejeitada')\n",
    "else:\n",
    "    print('Hipótese alternativa rejeitada')"
   ]
  },
  {
   "attachments": {},
   "cell_type": "markdown",
   "metadata": {},
   "source": [
    "### Teste com o statsmodels\n",
    "- https://www.statsmodels.org/devel/generated/statsmodels.stats.weightstats.ztest.html"
   ]
  },
  {
   "attachments": {},
   "cell_type": "markdown",
   "metadata": {},
   "source": [
    "#### Biblioteca"
   ]
  },
  {
   "cell_type": "code",
   "execution_count": 15,
   "metadata": {},
   "outputs": [],
   "source": [
    "# Libs\n",
    "from statsmodels.stats.weightstats import ztest"
   ]
  },
  {
   "cell_type": "code",
   "execution_count": 16,
   "metadata": {},
   "outputs": [],
   "source": [
    "# Teste Z\n",
    "_, p = ztest(\n",
    "    dados_originais, dados_novos,\n",
    "    value=H1_media - H0_media,\n",
    "    alternative='larger'\n",
    ")"
   ]
  },
  {
   "cell_type": "code",
   "execution_count": 17,
   "metadata": {},
   "outputs": [
    {
     "data": {
      "text/plain": [
       "0.9999993877283934"
      ]
     },
     "execution_count": 17,
     "metadata": {},
     "output_type": "execute_result"
    }
   ],
   "source": [
    "# Visualizando o valor de p\n",
    "p"
   ]
  },
  {
   "attachments": {},
   "cell_type": "markdown",
   "metadata": {},
   "source": [
    "### Teste qui quadrado\n",
    "- https://docs.scipy.org/doc/scipy/reference/generated/scipy.stats.chi2_contingency.html"
   ]
  },
  {
   "attachments": {},
   "cell_type": "markdown",
   "metadata": {},
   "source": [
    "#### Biblioteca"
   ]
  },
  {
   "cell_type": "code",
   "execution_count": 18,
   "metadata": {},
   "outputs": [],
   "source": [
    "# Lib\n",
    "from scipy.stats import chi2_contingency"
   ]
  },
  {
   "cell_type": "code",
   "execution_count": 19,
   "metadata": {},
   "outputs": [],
   "source": [
    "# Tabela de Dados\n",
    "# tabela = np.array([[30, 20], [22, 28]])\n",
    "tabela = np.array([[45, 5], [5, 45]])"
   ]
  },
  {
   "cell_type": "code",
   "execution_count": 20,
   "metadata": {},
   "outputs": [
    {
     "data": {
      "text/plain": [
       "(2, 2)"
      ]
     },
     "execution_count": 20,
     "metadata": {},
     "output_type": "execute_result"
    }
   ],
   "source": [
    "# Tamanho \n",
    "tabela.shape"
   ]
  },
  {
   "cell_type": "code",
   "execution_count": 21,
   "metadata": {},
   "outputs": [
    {
     "data": {
      "text/plain": [
       "6.190717543917382e-15"
      ]
     },
     "execution_count": 21,
     "metadata": {},
     "output_type": "execute_result"
    }
   ],
   "source": [
    "# valor de p\n",
    "_, p, _, _ = chi2_contingency(tabela)\n",
    "p"
   ]
  },
  {
   "cell_type": "code",
   "execution_count": 22,
   "metadata": {},
   "outputs": [
    {
     "name": "stdout",
     "output_type": "stream",
     "text": [
      "Hipótese nula rejeitada\n"
     ]
    }
   ],
   "source": [
    "# Testando a Hipótese\n",
    "alpha = 0.05\n",
    "if p <= alpha:\n",
    "    print('Hipótese nula rejeitada')\n",
    "else:\n",
    "    print('Hipótese alternativa rejeitada')"
   ]
  },
  {
   "attachments": {},
   "cell_type": "markdown",
   "metadata": {},
   "source": [
    "### Seleção de atributos com testes de hipóteses - univariate SelectFdr\n",
    "Testes estatísticos univariados são aqueles que envolvem uma variável dependente, por exemplo, teste t ou teste z para comparação de médias\n",
    "\n",
    "- Documentação: https://scikit-learn.org/stable/modules/generated/sklearn.feature_selection.SelectFpr.html#sklearn.feature_selection.SelectFpr\n",
    "\n",
    "- False discovery rate: https://en.wikipedia.org/wiki/False_discovery_rate\n",
    "\n",
    "Proporção esperada de erros do tipo I. Um erro do tipo I é quando a hipótese nula é rejeitada incorretamente, ou seja, é obtido um falso positivo\n",
    "\n",
    "- Erro I: https://www.statisticshowto.datasciencecentral.com/probability-and-statistics/statistics-definitions/type-i-error-type-ii-error-decision/"
   ]
  },
  {
   "attachments": {},
   "cell_type": "markdown",
   "metadata": {},
   "source": [
    "#### Bibliotecas"
   ]
  },
  {
   "cell_type": "code",
   "execution_count": 23,
   "metadata": {},
   "outputs": [],
   "source": [
    "# Lib\n",
    "import pandas as pd\n",
    "from sklearn.feature_selection import SelectFdr\n",
    "from sklearn.feature_selection import chi2\n",
    "from sklearn.naive_bayes import GaussianNB\n",
    "from sklearn.metrics import accuracy_score"
   ]
  },
  {
   "attachments": {},
   "cell_type": "markdown",
   "metadata": {},
   "source": [
    "#### Base de Dados"
   ]
  },
  {
   "cell_type": "code",
   "execution_count": 24,
   "metadata": {},
   "outputs": [
    {
     "data": {
      "text/html": [
       "<div>\n",
       "<style scoped>\n",
       "    .dataframe tbody tr th:only-of-type {\n",
       "        vertical-align: middle;\n",
       "    }\n",
       "\n",
       "    .dataframe tbody tr th {\n",
       "        vertical-align: top;\n",
       "    }\n",
       "\n",
       "    .dataframe thead th {\n",
       "        text-align: right;\n",
       "    }\n",
       "</style>\n",
       "<table border=\"1\" class=\"dataframe\">\n",
       "  <thead>\n",
       "    <tr style=\"text-align: right;\">\n",
       "      <th></th>\n",
       "      <th>0</th>\n",
       "      <th>1</th>\n",
       "      <th>2</th>\n",
       "      <th>3</th>\n",
       "      <th>4</th>\n",
       "      <th>5</th>\n",
       "      <th>6</th>\n",
       "      <th>7</th>\n",
       "      <th>8</th>\n",
       "      <th>9</th>\n",
       "      <th>...</th>\n",
       "      <th>1549</th>\n",
       "      <th>1550</th>\n",
       "      <th>1551</th>\n",
       "      <th>1552</th>\n",
       "      <th>1553</th>\n",
       "      <th>1554</th>\n",
       "      <th>1555</th>\n",
       "      <th>1556</th>\n",
       "      <th>1557</th>\n",
       "      <th>1558</th>\n",
       "    </tr>\n",
       "  </thead>\n",
       "  <tbody>\n",
       "    <tr>\n",
       "      <th>0</th>\n",
       "      <td>125</td>\n",
       "      <td>125</td>\n",
       "      <td>1.0000</td>\n",
       "      <td>1</td>\n",
       "      <td>0</td>\n",
       "      <td>0</td>\n",
       "      <td>0</td>\n",
       "      <td>0</td>\n",
       "      <td>0</td>\n",
       "      <td>0</td>\n",
       "      <td>...</td>\n",
       "      <td>0</td>\n",
       "      <td>0</td>\n",
       "      <td>0</td>\n",
       "      <td>0</td>\n",
       "      <td>0</td>\n",
       "      <td>0</td>\n",
       "      <td>0</td>\n",
       "      <td>0</td>\n",
       "      <td>0</td>\n",
       "      <td>ad.</td>\n",
       "    </tr>\n",
       "    <tr>\n",
       "      <th>1</th>\n",
       "      <td>57</td>\n",
       "      <td>468</td>\n",
       "      <td>8.2105</td>\n",
       "      <td>1</td>\n",
       "      <td>0</td>\n",
       "      <td>0</td>\n",
       "      <td>0</td>\n",
       "      <td>0</td>\n",
       "      <td>0</td>\n",
       "      <td>0</td>\n",
       "      <td>...</td>\n",
       "      <td>0</td>\n",
       "      <td>0</td>\n",
       "      <td>0</td>\n",
       "      <td>0</td>\n",
       "      <td>0</td>\n",
       "      <td>0</td>\n",
       "      <td>0</td>\n",
       "      <td>0</td>\n",
       "      <td>0</td>\n",
       "      <td>ad.</td>\n",
       "    </tr>\n",
       "    <tr>\n",
       "      <th>2</th>\n",
       "      <td>33</td>\n",
       "      <td>230</td>\n",
       "      <td>6.9696</td>\n",
       "      <td>1</td>\n",
       "      <td>0</td>\n",
       "      <td>0</td>\n",
       "      <td>0</td>\n",
       "      <td>0</td>\n",
       "      <td>0</td>\n",
       "      <td>0</td>\n",
       "      <td>...</td>\n",
       "      <td>0</td>\n",
       "      <td>0</td>\n",
       "      <td>0</td>\n",
       "      <td>0</td>\n",
       "      <td>0</td>\n",
       "      <td>0</td>\n",
       "      <td>0</td>\n",
       "      <td>0</td>\n",
       "      <td>0</td>\n",
       "      <td>ad.</td>\n",
       "    </tr>\n",
       "    <tr>\n",
       "      <th>3</th>\n",
       "      <td>60</td>\n",
       "      <td>468</td>\n",
       "      <td>7.8000</td>\n",
       "      <td>1</td>\n",
       "      <td>0</td>\n",
       "      <td>0</td>\n",
       "      <td>0</td>\n",
       "      <td>0</td>\n",
       "      <td>0</td>\n",
       "      <td>0</td>\n",
       "      <td>...</td>\n",
       "      <td>0</td>\n",
       "      <td>0</td>\n",
       "      <td>0</td>\n",
       "      <td>0</td>\n",
       "      <td>0</td>\n",
       "      <td>0</td>\n",
       "      <td>0</td>\n",
       "      <td>0</td>\n",
       "      <td>0</td>\n",
       "      <td>ad.</td>\n",
       "    </tr>\n",
       "    <tr>\n",
       "      <th>4</th>\n",
       "      <td>60</td>\n",
       "      <td>468</td>\n",
       "      <td>7.8000</td>\n",
       "      <td>1</td>\n",
       "      <td>0</td>\n",
       "      <td>0</td>\n",
       "      <td>0</td>\n",
       "      <td>0</td>\n",
       "      <td>0</td>\n",
       "      <td>0</td>\n",
       "      <td>...</td>\n",
       "      <td>0</td>\n",
       "      <td>0</td>\n",
       "      <td>0</td>\n",
       "      <td>0</td>\n",
       "      <td>0</td>\n",
       "      <td>0</td>\n",
       "      <td>0</td>\n",
       "      <td>0</td>\n",
       "      <td>0</td>\n",
       "      <td>ad.</td>\n",
       "    </tr>\n",
       "  </tbody>\n",
       "</table>\n",
       "<p>5 rows × 1559 columns</p>\n",
       "</div>"
      ],
      "text/plain": [
       "   0     1       2     3     4     5     6     7     8     9     ...  1549  \\\n",
       "0   125   125  1.0000     1     0     0     0     0     0     0  ...     0   \n",
       "1    57   468  8.2105     1     0     0     0     0     0     0  ...     0   \n",
       "2    33   230  6.9696     1     0     0     0     0     0     0  ...     0   \n",
       "3    60   468  7.8000     1     0     0     0     0     0     0  ...     0   \n",
       "4    60   468  7.8000     1     0     0     0     0     0     0  ...     0   \n",
       "\n",
       "   1550  1551  1552  1553  1554  1555  1556  1557  1558  \n",
       "0     0     0     0     0     0     0     0     0   ad.  \n",
       "1     0     0     0     0     0     0     0     0   ad.  \n",
       "2     0     0     0     0     0     0     0     0   ad.  \n",
       "3     0     0     0     0     0     0     0     0   ad.  \n",
       "4     0     0     0     0     0     0     0     0   ad.  \n",
       "\n",
       "[5 rows x 1559 columns]"
      ]
     },
     "execution_count": 24,
     "metadata": {},
     "output_type": "execute_result"
    }
   ],
   "source": [
    "# Dados\n",
    "ds = pd.read_csv('./data/ad.data', header=None)\n",
    "ds.head()"
   ]
  },
  {
   "cell_type": "code",
   "execution_count": 25,
   "metadata": {},
   "outputs": [
    {
     "data": {
      "text/plain": [
       "(3279, 1559)"
      ]
     },
     "execution_count": 25,
     "metadata": {},
     "output_type": "execute_result"
    }
   ],
   "source": [
    "# Tamanho \n",
    "ds.shape"
   ]
  },
  {
   "cell_type": "code",
   "execution_count": 26,
   "metadata": {},
   "outputs": [
    {
     "data": {
      "text/plain": [
       "array(['ad.', 'ad.', 'ad.', ..., 'nonad.', 'nonad.', 'nonad.'],\n",
       "      dtype=object)"
      ]
     },
     "execution_count": 26,
     "metadata": {},
     "output_type": "execute_result"
    }
   ],
   "source": [
    "# Dividindo em previsores e classes\n",
    "X = ds.iloc[:, 0:1558].values\n",
    "y = ds.iloc[:, 1558].values\n",
    "y"
   ]
  },
  {
   "cell_type": "code",
   "execution_count": 27,
   "metadata": {},
   "outputs": [
    {
     "data": {
      "text/plain": [
       "(array(['ad.', 'nonad.'], dtype=object), array([ 459, 2820], dtype=int64))"
      ]
     },
     "execution_count": 27,
     "metadata": {},
     "output_type": "execute_result"
    }
   ],
   "source": [
    "# Contando os valores únicos\n",
    "np.unique(y, return_counts=True)"
   ]
  },
  {
   "attachments": {},
   "cell_type": "markdown",
   "metadata": {},
   "source": [
    "#### Sem seleção de Atributos"
   ]
  },
  {
   "cell_type": "code",
   "execution_count": 28,
   "metadata": {},
   "outputs": [
    {
     "data": {
      "text/plain": [
       "0.7813357731015553"
      ]
     },
     "execution_count": 28,
     "metadata": {},
     "output_type": "execute_result"
    }
   ],
   "source": [
    "# Criando e Treinado o modelo\n",
    "naive1 = GaussianNB()\n",
    "naive1.fit(X, y)\n",
    "previsoes1 = naive1.predict(X)\n",
    "accuracy_score(y, previsoes1)"
   ]
  },
  {
   "attachments": {},
   "cell_type": "markdown",
   "metadata": {},
   "source": [
    "#### Seleção de atributos com Qui Quadrado"
   ]
  },
  {
   "cell_type": "code",
   "execution_count": 29,
   "metadata": {},
   "outputs": [],
   "source": [
    "# Criando nova seleção\n",
    "selecao = SelectFdr(chi2, alpha=0.01)\n",
    "X_novo = selecao.fit_transform(X, y)"
   ]
  },
  {
   "cell_type": "code",
   "execution_count": 30,
   "metadata": {},
   "outputs": [
    {
     "data": {
      "text/plain": [
       "((3279, 1558), (3279, 433))"
      ]
     },
     "execution_count": 30,
     "metadata": {},
     "output_type": "execute_result"
    }
   ],
   "source": [
    "# Tamanho\n",
    "X.shape, X_novo.shape"
   ]
  },
  {
   "cell_type": "code",
   "execution_count": 31,
   "metadata": {},
   "outputs": [
    {
     "data": {
      "text/plain": [
       "(array([2.14710304e-268, 0.00000000e+000, 8.98165813e-150, ...,\n",
       "        6.03353380e-041, 5.63437216e-012, 9.37945775e-002]),\n",
       " 1558)"
      ]
     },
     "execution_count": 31,
     "metadata": {},
     "output_type": "execute_result"
    }
   ],
   "source": [
    "# Valor de p\n",
    "selecao.pvalues_, len(selecao.pvalues_)"
   ]
  },
  {
   "cell_type": "code",
   "execution_count": 32,
   "metadata": {},
   "outputs": [
    {
     "data": {
      "text/plain": [
       "476"
      ]
     },
     "execution_count": 32,
     "metadata": {},
     "output_type": "execute_result"
    }
   ],
   "source": [
    "# Seleção de valores menores ou igual ao alpha\n",
    "np.sum(selecao.pvalues_ <= 0.01)"
   ]
  },
  {
   "cell_type": "code",
   "execution_count": 33,
   "metadata": {},
   "outputs": [
    {
     "data": {
      "text/plain": [
       "array([ True,  True,  True, ...,  True,  True, False])"
      ]
     },
     "execution_count": 33,
     "metadata": {},
     "output_type": "execute_result"
    }
   ],
   "source": [
    "# Visualizando os valores \n",
    "colunas = selecao.get_support()\n",
    "colunas"
   ]
  },
  {
   "cell_type": "code",
   "execution_count": 34,
   "metadata": {},
   "outputs": [
    {
     "data": {
      "text/plain": [
       "(array([   0,    1,    2,    9,   11,   14,   20,   21,   26,   31,   34,\n",
       "          36,   49,   58,   59,   64,   65,   69,   70,   86,   91,   95,\n",
       "          96,  102,  104,  106,  113,  133,  134,  139,  155,  158,  163,\n",
       "         167,  172,  175,  180,  181,  183,  185,  186,  189,  190,  192,\n",
       "         193,  224,  242,  246,  248,  249,  251,  259,  264,  265,  266,\n",
       "         267,  268,  269,  270,  274,  276,  278,  287,  290,  293,  304,\n",
       "         307,  310,  312,  317,  321,  329,  330,  336,  341,  345,  346,\n",
       "         350,  351,  355,  356,  357,  359,  366,  367,  370,  372,  381,\n",
       "         386,  388,  389,  398,  405,  418,  420,  426,  427,  429,  430,\n",
       "         432,  435,  440,  455,  457,  460,  465,  470,  472,  477,  478,\n",
       "         482,  508,  511,  518,  528,  532,  533,  540,  542,  548,  551,\n",
       "         556,  572,  573,  574,  576,  586,  622,  625,  627,  638,  643,\n",
       "         648,  653,  658,  661,  663,  666,  683,  688,  694,  703,  704,\n",
       "         709,  711,  720,  723,  729,  732,  734,  735,  738,  739,  744,\n",
       "         759,  762,  772,  773,  774,  783,  800,  807,  812,  813,  819,\n",
       "         825,  840,  848,  849,  860,  863,  869,  870,  873,  874,  875,\n",
       "         884,  890,  914,  917,  925,  927,  930,  942,  943,  944,  947,\n",
       "         948,  951,  955,  960,  962,  963,  967,  968,  969,  972,  973,\n",
       "         976,  983,  986,  987,  990,  992,  993, 1002, 1007, 1008, 1009,\n",
       "        1010, 1014, 1015, 1016, 1017, 1018, 1022, 1024, 1026, 1035, 1040,\n",
       "        1041, 1042, 1043, 1045, 1046, 1047, 1048, 1049, 1052, 1054, 1055,\n",
       "        1057, 1058, 1059, 1060, 1061, 1065, 1073, 1075, 1081, 1084, 1088,\n",
       "        1089, 1090, 1092, 1097, 1100, 1102, 1108, 1110, 1112, 1115, 1116,\n",
       "        1118, 1122, 1125, 1128, 1129, 1130, 1131, 1132, 1135, 1136, 1139,\n",
       "        1140, 1141, 1142, 1143, 1146, 1149, 1150, 1153, 1154, 1157, 1164,\n",
       "        1165, 1169, 1174, 1177, 1178, 1180, 1185, 1188, 1190, 1193, 1195,\n",
       "        1198, 1200, 1201, 1202, 1203, 1204, 1205, 1207, 1208, 1211, 1213,\n",
       "        1218, 1219, 1220, 1222, 1223, 1224, 1227, 1229, 1230, 1232, 1234,\n",
       "        1235, 1236, 1240, 1243, 1247, 1249, 1250, 1254, 1257, 1258, 1260,\n",
       "        1262, 1265, 1266, 1270, 1271, 1276, 1278, 1283, 1284, 1288, 1289,\n",
       "        1293, 1294, 1296, 1301, 1302, 1306, 1309, 1311, 1312, 1313, 1317,\n",
       "        1318, 1321, 1324, 1326, 1327, 1330, 1332, 1335, 1337, 1338, 1339,\n",
       "        1341, 1342, 1344, 1345, 1346, 1347, 1348, 1351, 1353, 1355, 1357,\n",
       "        1358, 1359, 1361, 1362, 1367, 1368, 1373, 1376, 1380, 1382, 1383,\n",
       "        1385, 1391, 1392, 1393, 1394, 1395, 1398, 1399, 1400, 1402, 1404,\n",
       "        1408, 1410, 1411, 1413, 1416, 1422, 1423, 1424, 1426, 1427, 1428,\n",
       "        1429, 1434, 1435, 1436, 1437, 1442, 1445, 1452, 1454, 1455, 1461,\n",
       "        1462, 1465, 1469, 1483, 1484, 1485, 1494, 1500, 1501, 1507, 1510,\n",
       "        1513, 1515, 1519, 1521, 1526, 1527, 1532, 1533, 1535, 1539, 1541,\n",
       "        1544, 1554, 1555, 1556], dtype=int64),)"
      ]
     },
     "execution_count": 34,
     "metadata": {},
     "output_type": "execute_result"
    }
   ],
   "source": [
    "# Selecionado as coluna com valores True\n",
    "indices = np.where(colunas == True)\n",
    "indices"
   ]
  },
  {
   "cell_type": "code",
   "execution_count": 35,
   "metadata": {},
   "outputs": [
    {
     "data": {
      "text/plain": [
       "0.970722781335773"
      ]
     },
     "execution_count": 35,
     "metadata": {},
     "output_type": "execute_result"
    }
   ],
   "source": [
    "# Criando e Treinado o novo modelo com a seleção\n",
    "naive2 = GaussianNB()\n",
    "naive2.fit(X_novo, y)\n",
    "previsoes2 = naive2.predict(X_novo)\n",
    "accuracy_score(y, previsoes2)"
   ]
  },
  {
   "attachments": {},
   "cell_type": "markdown",
   "metadata": {},
   "source": [
    "### Anova"
   ]
  },
  {
   "attachments": {},
   "cell_type": "markdown",
   "metadata": {},
   "source": [
    "#### Dados"
   ]
  },
  {
   "cell_type": "code",
   "execution_count": 36,
   "metadata": {},
   "outputs": [],
   "source": [
    "# Dados\n",
    "grupo_a = np.array([165, 152, 143, 140, 155])\n",
    "grupo_b = np.array([130, 169, 164, 143, 154])\n",
    "grupo_c = np.array([163, 158, 154, 149, 156])"
   ]
  },
  {
   "attachments": {},
   "cell_type": "markdown",
   "metadata": {},
   "source": [
    "#### Biblioteca"
   ]
  },
  {
   "cell_type": "code",
   "execution_count": 37,
   "metadata": {},
   "outputs": [],
   "source": [
    "# Lib\n",
    "from scipy.stats import f"
   ]
  },
  {
   "cell_type": "code",
   "execution_count": 38,
   "metadata": {},
   "outputs": [
    {
     "data": {
      "text/plain": [
       "3.8852938346523946"
      ]
     },
     "execution_count": 38,
     "metadata": {},
     "output_type": "execute_result"
    }
   ],
   "source": [
    "# valor de F crítico\n",
    "f.ppf(1 - 0.05, dfn=2, dfd=12)"
   ]
  },
  {
   "attachments": {},
   "cell_type": "markdown",
   "metadata": {},
   "source": [
    "#### Bibliotecas"
   ]
  },
  {
   "cell_type": "code",
   "execution_count": 39,
   "metadata": {},
   "outputs": [],
   "source": [
    "# Lib\n",
    "from scipy.stats import f_oneway"
   ]
  },
  {
   "cell_type": "code",
   "execution_count": 40,
   "metadata": {},
   "outputs": [
    {
     "data": {
      "text/plain": [
       "0.7613994386091956"
      ]
     },
     "execution_count": 40,
     "metadata": {},
     "output_type": "execute_result"
    }
   ],
   "source": [
    "# Valor de P\n",
    "_, p = f_oneway(grupo_a, grupo_b, grupo_c)\n",
    "p"
   ]
  },
  {
   "cell_type": "code",
   "execution_count": 41,
   "metadata": {},
   "outputs": [
    {
     "name": "stdout",
     "output_type": "stream",
     "text": [
      "Hipótese alternativa rejeitada\n"
     ]
    }
   ],
   "source": [
    "# Teste de Hipótese\n",
    "alpha = 0.05\n",
    "if p <= alpha:\n",
    "    print('Hipótese nula rejeitada')\n",
    "else:\n",
    "    print('Hipótese alternativa rejeitada')"
   ]
  },
  {
   "attachments": {},
   "cell_type": "markdown",
   "metadata": {},
   "source": [
    "#### Teste de Tukey"
   ]
  },
  {
   "cell_type": "code",
   "execution_count": 42,
   "metadata": {},
   "outputs": [],
   "source": [
    "# Dados\n",
    "dados = {\n",
    "    'valores': [165, 152, 143, 140, 155, 130, 169, 164, 143, 154, 163, 158, 154, 149, 156],\n",
    "    'grupo': ['A', 'A', 'A', 'A', 'A', 'B', 'B', 'B', 'B', 'B', 'C', 'C', 'C', 'C', 'C']\n",
    "}"
   ]
  },
  {
   "cell_type": "code",
   "execution_count": 43,
   "metadata": {},
   "outputs": [],
   "source": [
    "# Novos dados \n",
    "dados = {\n",
    "    'valores': [70, 90, 80, 50, 20, 130, 169, 164, 143, 154, 163, 158, 154, 149, 156],\n",
    "    'grupo': ['A', 'A', 'A', 'A', 'A', 'B', 'B', 'B', 'B', 'B', 'C', 'C', 'C', 'C', 'C']\n",
    "}"
   ]
  },
  {
   "cell_type": "code",
   "execution_count": 44,
   "metadata": {},
   "outputs": [
    {
     "data": {
      "text/html": [
       "<div>\n",
       "<style scoped>\n",
       "    .dataframe tbody tr th:only-of-type {\n",
       "        vertical-align: middle;\n",
       "    }\n",
       "\n",
       "    .dataframe tbody tr th {\n",
       "        vertical-align: top;\n",
       "    }\n",
       "\n",
       "    .dataframe thead th {\n",
       "        text-align: right;\n",
       "    }\n",
       "</style>\n",
       "<table border=\"1\" class=\"dataframe\">\n",
       "  <thead>\n",
       "    <tr style=\"text-align: right;\">\n",
       "      <th></th>\n",
       "      <th>valores</th>\n",
       "      <th>grupo</th>\n",
       "    </tr>\n",
       "  </thead>\n",
       "  <tbody>\n",
       "    <tr>\n",
       "      <th>0</th>\n",
       "      <td>70</td>\n",
       "      <td>A</td>\n",
       "    </tr>\n",
       "    <tr>\n",
       "      <th>1</th>\n",
       "      <td>90</td>\n",
       "      <td>A</td>\n",
       "    </tr>\n",
       "    <tr>\n",
       "      <th>2</th>\n",
       "      <td>80</td>\n",
       "      <td>A</td>\n",
       "    </tr>\n",
       "    <tr>\n",
       "      <th>3</th>\n",
       "      <td>50</td>\n",
       "      <td>A</td>\n",
       "    </tr>\n",
       "    <tr>\n",
       "      <th>4</th>\n",
       "      <td>20</td>\n",
       "      <td>A</td>\n",
       "    </tr>\n",
       "  </tbody>\n",
       "</table>\n",
       "</div>"
      ],
      "text/plain": [
       "   valores grupo\n",
       "0       70     A\n",
       "1       90     A\n",
       "2       80     A\n",
       "3       50     A\n",
       "4       20     A"
      ]
     },
     "execution_count": 44,
     "metadata": {},
     "output_type": "execute_result"
    }
   ],
   "source": [
    "# Transformando os dados\n",
    "ds_pd = pd.DataFrame(dados)\n",
    "ds_pd.head()"
   ]
  },
  {
   "attachments": {},
   "cell_type": "markdown",
   "metadata": {},
   "source": [
    "#### Biblioteca"
   ]
  },
  {
   "cell_type": "code",
   "execution_count": 45,
   "metadata": {},
   "outputs": [],
   "source": [
    "# Lib\n",
    "from statsmodels.stats.multicomp import MultiComparison"
   ]
  },
  {
   "cell_type": "code",
   "execution_count": 46,
   "metadata": {},
   "outputs": [],
   "source": [
    "# Criando uma variável para armazenar a comparação \n",
    "compara_grupos = MultiComparison(ds_pd['valores'], ds_pd['grupo'])"
   ]
  },
  {
   "cell_type": "code",
   "execution_count": 47,
   "metadata": {},
   "outputs": [
    {
     "name": "stdout",
     "output_type": "stream",
     "text": [
      " Multiple Comparison of Means - Tukey HSD, FWER=0.05  \n",
      "======================================================\n",
      "group1 group2 meandiff p-adj   lower    upper   reject\n",
      "------------------------------------------------------\n",
      "     A      B     90.0    0.0  58.4785 121.5215   True\n",
      "     A      C     94.0    0.0  62.4785 125.5215   True\n",
      "     B      C      4.0 0.9391 -27.5215  35.5215  False\n",
      "------------------------------------------------------\n"
     ]
    }
   ],
   "source": [
    "# Visualizando o teste\n",
    "teste = compara_grupos.tukeyhsd()\n",
    "print(teste)"
   ]
  },
  {
   "cell_type": "code",
   "execution_count": 48,
   "metadata": {},
   "outputs": [
    {
     "data": {
      "image/png": "[encoded data removed]",
      "text/plain": [
       "<Figure size 1000x600 with 1 Axes>"
      ]
     },
     "metadata": {},
     "output_type": "display_data"
    }
   ],
   "source": [
    "# Gráfico\n",
    "teste.plot_simultaneous();"
   ]
  },
  {
   "attachments": {},
   "cell_type": "markdown",
   "metadata": {},
   "source": [
    "### Seleção de atributos com ANOVA"
   ]
  },
  {
   "attachments": {},
   "cell_type": "markdown",
   "metadata": {},
   "source": [
    "#### Biblioteca"
   ]
  },
  {
   "cell_type": "code",
   "execution_count": 49,
   "metadata": {},
   "outputs": [],
   "source": [
    "# Lib\n",
    "from sklearn.feature_selection import SelectFdr, f_classif"
   ]
  },
  {
   "cell_type": "code",
   "execution_count": 50,
   "metadata": {},
   "outputs": [],
   "source": [
    "# Selecionado\n",
    "selecao = SelectFdr(f_classif, alpha = 0.01)\n",
    "X_novo_2 = selecao.fit_transform(X, y)"
   ]
  },
  {
   "cell_type": "code",
   "execution_count": 51,
   "metadata": {},
   "outputs": [
    {
     "data": {
      "text/plain": [
       "((3279, 1558), (3279, 433), (3279, 433))"
      ]
     },
     "execution_count": 51,
     "metadata": {},
     "output_type": "execute_result"
    }
   ],
   "source": [
    "# Tamanho\n",
    "X.shape, X_novo.shape, X_novo_2.shape"
   ]
  },
  {
   "cell_type": "code",
   "execution_count": 52,
   "metadata": {},
   "outputs": [
    {
     "data": {
      "text/plain": [
       "array([1.31095977e-005, 1.19510994e-200, 4.91337302e-016, ...,\n",
       "       1.35872010e-042, 3.77636040e-012, 9.35989125e-002])"
      ]
     },
     "execution_count": 52,
     "metadata": {},
     "output_type": "execute_result"
    }
   ],
   "source": [
    "# Valor de P\n",
    "selecao.pvalues_"
   ]
  },
  {
   "cell_type": "code",
   "execution_count": 53,
   "metadata": {},
   "outputs": [
    {
     "data": {
      "text/plain": [
       "476"
      ]
     },
     "execution_count": 53,
     "metadata": {},
     "output_type": "execute_result"
    }
   ],
   "source": [
    "# Selecionado valores menor que alpha\n",
    "np.sum(selecao.pvalues_ < 0.01)"
   ]
  },
  {
   "cell_type": "code",
   "execution_count": 54,
   "metadata": {},
   "outputs": [
    {
     "data": {
      "text/plain": [
       "0.970722781335773"
      ]
     },
     "execution_count": 54,
     "metadata": {},
     "output_type": "execute_result"
    }
   ],
   "source": [
    "# Treinado o modelo\n",
    "naive3 = GaussianNB()\n",
    "naive3.fit(X_novo_2, y)\n",
    "previsoes3 = naive3.predict(X_novo_2)\n",
    "accuracy_score(y, previsoes3)"
   ]
  },
  {
   "attachments": {},
   "cell_type": "markdown",
   "metadata": {},
   "source": [
    "### Resultados dos algoritmos de Machine Learning"
   ]
  },
  {
   "attachments": {},
   "cell_type": "markdown",
   "metadata": {},
   "source": [
    "#### Bibliotecas"
   ]
  },
  {
   "cell_type": "code",
   "execution_count": 55,
   "metadata": {},
   "outputs": [],
   "source": [
    "# Libs\n",
    "from sklearn.naive_bayes import GaussianNB\n",
    "from sklearn.linear_model import LogisticRegression\n",
    "from sklearn.ensemble import RandomForestClassifier\n",
    "from sklearn.model_selection import cross_val_score, KFold"
   ]
  },
  {
   "cell_type": "code",
   "execution_count": 56,
   "metadata": {},
   "outputs": [
    {
     "data": {
      "text/html": [
       "<div>\n",
       "<style scoped>\n",
       "    .dataframe tbody tr th:only-of-type {\n",
       "        vertical-align: middle;\n",
       "    }\n",
       "\n",
       "    .dataframe tbody tr th {\n",
       "        vertical-align: top;\n",
       "    }\n",
       "\n",
       "    .dataframe thead th {\n",
       "        text-align: right;\n",
       "    }\n",
       "</style>\n",
       "<table border=\"1\" class=\"dataframe\">\n",
       "  <thead>\n",
       "    <tr style=\"text-align: right;\">\n",
       "      <th></th>\n",
       "      <th>i#clientid</th>\n",
       "      <th>income</th>\n",
       "      <th>age</th>\n",
       "      <th>loan</th>\n",
       "      <th>c#default</th>\n",
       "    </tr>\n",
       "  </thead>\n",
       "  <tbody>\n",
       "    <tr>\n",
       "      <th>0</th>\n",
       "      <td>1</td>\n",
       "      <td>66155.925095</td>\n",
       "      <td>59.017015</td>\n",
       "      <td>8106.532131</td>\n",
       "      <td>0</td>\n",
       "    </tr>\n",
       "    <tr>\n",
       "      <th>1</th>\n",
       "      <td>2</td>\n",
       "      <td>34415.153966</td>\n",
       "      <td>48.117153</td>\n",
       "      <td>6564.745018</td>\n",
       "      <td>0</td>\n",
       "    </tr>\n",
       "    <tr>\n",
       "      <th>2</th>\n",
       "      <td>3</td>\n",
       "      <td>57317.170063</td>\n",
       "      <td>63.108049</td>\n",
       "      <td>8020.953296</td>\n",
       "      <td>0</td>\n",
       "    </tr>\n",
       "    <tr>\n",
       "      <th>3</th>\n",
       "      <td>4</td>\n",
       "      <td>42709.534201</td>\n",
       "      <td>45.751972</td>\n",
       "      <td>6103.642260</td>\n",
       "      <td>0</td>\n",
       "    </tr>\n",
       "    <tr>\n",
       "      <th>4</th>\n",
       "      <td>5</td>\n",
       "      <td>66952.688845</td>\n",
       "      <td>18.584336</td>\n",
       "      <td>8770.099235</td>\n",
       "      <td>1</td>\n",
       "    </tr>\n",
       "  </tbody>\n",
       "</table>\n",
       "</div>"
      ],
      "text/plain": [
       "   i#clientid        income        age         loan  c#default\n",
       "0           1  66155.925095  59.017015  8106.532131          0\n",
       "1           2  34415.153966  48.117153  6564.745018          0\n",
       "2           3  57317.170063  63.108049  8020.953296          0\n",
       "3           4  42709.534201  45.751972  6103.642260          0\n",
       "4           5  66952.688845  18.584336  8770.099235          1"
      ]
     },
     "execution_count": 56,
     "metadata": {},
     "output_type": "execute_result"
    }
   ],
   "source": [
    "# Base de Dados\n",
    "df = pd.read_csv('../Labs/Amostragem/credit_data.csv')\n",
    "df.head()"
   ]
  },
  {
   "cell_type": "code",
   "execution_count": 57,
   "metadata": {},
   "outputs": [
    {
     "data": {
      "text/plain": [
       "i#clientid    0\n",
       "income        0\n",
       "age           3\n",
       "loan          0\n",
       "c#default     0\n",
       "dtype: int64"
      ]
     },
     "execution_count": 57,
     "metadata": {},
     "output_type": "execute_result"
    }
   ],
   "source": [
    "# Valores nulos\n",
    "df.isnull().sum()"
   ]
  },
  {
   "cell_type": "code",
   "execution_count": 58,
   "metadata": {},
   "outputs": [
    {
     "data": {
      "text/plain": [
       "40.807559"
      ]
     },
     "execution_count": 58,
     "metadata": {},
     "output_type": "execute_result"
    }
   ],
   "source": [
    "# Média de idade\n",
    "idade = df['age'].mean()\n",
    "idade = round(idade, 6)\n",
    "idade"
   ]
  },
  {
   "cell_type": "code",
   "execution_count": 59,
   "metadata": {},
   "outputs": [
    {
     "data": {
      "text/plain": [
       "i#clientid    0\n",
       "income        0\n",
       "age           0\n",
       "loan          0\n",
       "c#default     0\n",
       "dtype: int64"
      ]
     },
     "execution_count": 59,
     "metadata": {},
     "output_type": "execute_result"
    }
   ],
   "source": [
    "# Substituindo valores nulos \n",
    "df['age'] = df['age'].fillna(idade)\n",
    "# Valores nulos\n",
    "df.isnull().sum()"
   ]
  },
  {
   "cell_type": "code",
   "execution_count": 60,
   "metadata": {},
   "outputs": [
    {
     "data": {
      "text/plain": [
       "(59.0170150669292, 66155.9250950813)"
      ]
     },
     "execution_count": 60,
     "metadata": {},
     "output_type": "execute_result"
    }
   ],
   "source": [
    "# Valores de Previsão e classe\n",
    "X = df.iloc[:, 1:4].values\n",
    "y = df.iloc[:, 4].values\n",
    "# Valores mínimo e máximo\n",
    "min(X[0]), max(X[0])"
   ]
  },
  {
   "attachments": {},
   "cell_type": "markdown",
   "metadata": {},
   "source": [
    "#### Padronizando os Dados"
   ]
  },
  {
   "cell_type": "code",
   "execution_count": 61,
   "metadata": {},
   "outputs": [
    {
     "data": {
      "text/plain": [
       "(1.2028194204846914, 1.4539339314851303)"
      ]
     },
     "execution_count": 61,
     "metadata": {},
     "output_type": "execute_result"
    }
   ],
   "source": [
    "# Lib e método\n",
    "from sklearn.preprocessing import StandardScaler\n",
    "scaler = StandardScaler()\n",
    "X = scaler.fit_transform(X)\n",
    "# Valores mínimo e máximo\n",
    "min(X[0]), max(X[0])"
   ]
  },
  {
   "cell_type": "code",
   "execution_count": 62,
   "metadata": {},
   "outputs": [],
   "source": [
    "# Realizando o teste do modelo 30 vezes\n",
    "resultados_naive_cv = []\n",
    "resultados_logistica_cv = []\n",
    "resultados_forest_cv = []\n",
    "for i in range(30):\n",
    "    kfold = KFold(n_splits = 10, shuffle = True, random_state = i)\n",
    "    \n",
    "    naive_bayes = GaussianNB()\n",
    "    scores = cross_val_score(naive_bayes, X, y, cv = kfold)\n",
    "    resultados_naive_cv.append(scores.mean())\n",
    "\n",
    "    logistica = LogisticRegression()\n",
    "    scores = cross_val_score(logistica, X, y, cv = kfold)\n",
    "    resultados_logistica_cv.append(scores.mean())  \n",
    "    \n",
    "    random_forest = RandomForestClassifier()\n",
    "    scores = cross_val_score(random_forest, X, y, cv = kfold)\n",
    "    resultados_forest_cv.append(scores.mean())\n",
    "\n",
    "resultados_naive_cv = np.array(resultados_naive_cv)\n",
    "resultados_logistica_cv = np.array(resultados_logistica_cv)\n",
    "resultados_forest_cv = np.array(resultados_forest_cv)"
   ]
  },
  {
   "cell_type": "code",
   "execution_count": 63,
   "metadata": {},
   "outputs": [
    {
     "data": {
      "text/plain": [
       "(0.9250166666666667, 0.9454999999999999, 0.9869500000000001)"
      ]
     },
     "execution_count": 63,
     "metadata": {},
     "output_type": "execute_result"
    }
   ],
   "source": [
    "# A média dos trés resultados\n",
    "resultados_naive_cv.mean(), resultados_logistica_cv.mean(), resultados_forest_cv.mean()"
   ]
  },
  {
   "attachments": {},
   "cell_type": "markdown",
   "metadata": {},
   "source": [
    "#### Teste de hipótese de Shapiro-Wilk\n",
    "- https://en.wikipedia.org/wiki/Shapiro%E2%80%93Wilk_test"
   ]
  },
  {
   "cell_type": "code",
   "execution_count": 64,
   "metadata": {},
   "outputs": [],
   "source": [
    "# Valor de alpha\n",
    "alpha = 0.05"
   ]
  },
  {
   "cell_type": "code",
   "execution_count": 65,
   "metadata": {},
   "outputs": [
    {
     "data": {
      "text/plain": [
       "(ShapiroResult(statistic=0.9446430206298828, pvalue=0.12133526057004929),\n",
       " ShapiroResult(statistic=0.887016773223877, pvalue=0.004102450329810381),\n",
       " ShapiroResult(statistic=0.9334708452224731, pvalue=0.06075560674071312))"
      ]
     },
     "execution_count": 65,
     "metadata": {},
     "output_type": "execute_result"
    }
   ],
   "source": [
    "# Lib e teste \n",
    "from scipy.stats import shapiro\n",
    "shapiro(resultados_naive_cv), shapiro(resultados_logistica_cv), shapiro(resultados_forest_cv)"
   ]
  },
  {
   "attachments": {},
   "cell_type": "markdown",
   "metadata": {},
   "source": [
    "#### Gráficos"
   ]
  },
  {
   "cell_type": "code",
   "execution_count": 66,
   "metadata": {},
   "outputs": [],
   "source": [
    "# Lib\n",
    "import seaborn as sns"
   ]
  },
  {
   "cell_type": "code",
   "execution_count": 67,
   "metadata": {},
   "outputs": [
    {
     "data": {
      "image/png": "[encoded data removed]",
      "text/plain": [
       "<Figure size 640x480 with 1 Axes>"
      ]
     },
     "metadata": {},
     "output_type": "display_data"
    }
   ],
   "source": [
    "# Gráfico\n",
    "sns.histplot(resultados_naive_cv, kde=True);"
   ]
  },
  {
   "cell_type": "code",
   "execution_count": 68,
   "metadata": {},
   "outputs": [
    {
     "data": {
      "image/png": "[encoded data removed]",
      "text/plain": [
       "<Figure size 640x480 with 1 Axes>"
      ]
     },
     "metadata": {},
     "output_type": "display_data"
    }
   ],
   "source": [
    "# Gráfico\n",
    "sns.histplot(resultados_logistica_cv, kde=True);"
   ]
  },
  {
   "cell_type": "code",
   "execution_count": 69,
   "metadata": {},
   "outputs": [
    {
     "data": {
      "image/png": "[encoded data removed]",
      "text/plain": [
       "<Figure size 640x480 with 1 Axes>"
      ]
     },
     "metadata": {},
     "output_type": "display_data"
    }
   ],
   "source": [
    "# Gráfico\n",
    "sns.histplot(resultados_forest_cv, kde=True);"
   ]
  },
  {
   "attachments": {},
   "cell_type": "markdown",
   "metadata": {},
   "source": [
    "#### Teste de hipótese de D'Agostinho K^2\n",
    "- https://en.wikipedia.org/wiki/D%27Agostino%27s_K-squared_test"
   ]
  },
  {
   "cell_type": "code",
   "execution_count": 70,
   "metadata": {},
   "outputs": [
    {
     "data": {
      "text/plain": [
       "(NormaltestResult(statistic=0.7385679479854061, pvalue=0.691229091491905),\n",
       " NormaltestResult(statistic=10.180370628533243, pvalue=0.006156878823960576),\n",
       " NormaltestResult(statistic=2.671557827923343, pvalue=0.2629532776882634))"
      ]
     },
     "execution_count": 70,
     "metadata": {},
     "output_type": "execute_result"
    }
   ],
   "source": [
    "# Lib e teste\n",
    "from scipy.stats import normaltest\n",
    "normaltest(resultados_naive_cv), normaltest(resultados_logistica_cv), normaltest(resultados_forest_cv)"
   ]
  },
  {
   "attachments": {},
   "cell_type": "markdown",
   "metadata": {},
   "source": [
    "#### Teste de hipótese de Anderson-Darling\n",
    "- https://en.wikipedia.org/wiki/Anderson%E2%80%93Darling_test"
   ]
  },
  {
   "cell_type": "code",
   "execution_count": 71,
   "metadata": {},
   "outputs": [
    {
     "data": {
      "text/plain": [
       "(0.6137367855362434, 1.4901425666517376, 0.8255056732902304)"
      ]
     },
     "execution_count": 71,
     "metadata": {},
     "output_type": "execute_result"
    }
   ],
   "source": [
    "from scipy.stats import anderson\n",
    "anderson(resultados_naive_cv).statistic, anderson(resultados_logistica_cv).statistic, anderson(resultados_forest_cv).statistic"
   ]
  },
  {
   "attachments": {},
   "cell_type": "markdown",
   "metadata": {},
   "source": [
    "#### Testes não paramétricos\n",
    "- https://www.statisticshowto.com/parametric-and-non-parametric-data/#:~:text=Nonparametric%20tests%20can%20perform%20well,20%20items%20in%20each%20group).  \n",
    "If at all possible, you should us parametric tests, as they tend to be more accurate. Parametric tests have greater statistical power, which means they are likely to find a true significant effect. Use nonparametric tests only if you have to (i.e. you know that assumptions like normality are being violated). Nonparametric tests can perform well with non-normal continuous data if you have a sufficiently large sample size (generally 15-20 items in each group)."
   ]
  },
  {
   "attachments": {},
   "cell_type": "markdown",
   "metadata": {},
   "source": [
    "#### Teste de Wilcoxon Signed-Rank\n",
    "- https://en.wikipedia.org/wiki/Wilcoxon_signed-rank_test"
   ]
  },
  {
   "cell_type": "code",
   "execution_count": 72,
   "metadata": {},
   "outputs": [
    {
     "data": {
      "text/plain": [
       "1.862645149230957e-09"
      ]
     },
     "execution_count": 72,
     "metadata": {},
     "output_type": "execute_result"
    }
   ],
   "source": [
    "# Lib e o teste\n",
    "from scipy.stats import wilcoxon\n",
    "_, p = wilcoxon(resultados_naive_cv, resultados_logistica_cv)\n",
    "p"
   ]
  },
  {
   "cell_type": "code",
   "execution_count": 73,
   "metadata": {},
   "outputs": [
    {
     "data": {
      "text/plain": [
       "1.862645149230957e-09"
      ]
     },
     "execution_count": 73,
     "metadata": {},
     "output_type": "execute_result"
    }
   ],
   "source": [
    "# Teste\n",
    "_, p = wilcoxon(resultados_naive_cv, resultados_forest_cv)\n",
    "p"
   ]
  },
  {
   "cell_type": "code",
   "execution_count": 74,
   "metadata": {},
   "outputs": [
    {
     "data": {
      "text/plain": [
       "1.862645149230957e-09"
      ]
     },
     "execution_count": 74,
     "metadata": {},
     "output_type": "execute_result"
    }
   ],
   "source": [
    "# Teste\n",
    "_, p = wilcoxon(resultados_logistica_cv, resultados_forest_cv)\n",
    "p"
   ]
  },
  {
   "attachments": {},
   "cell_type": "markdown",
   "metadata": {},
   "source": [
    "#### Teste de Friedman\n",
    "- https://en.wikipedia.org/wiki/Friedman_test\n",
    "- Teste de Nemenyi: https://en.wikipedia.org/wiki/Nemenyi_test"
   ]
  },
  {
   "cell_type": "code",
   "execution_count": 75,
   "metadata": {},
   "outputs": [
    {
     "data": {
      "text/plain": [
       "9.357622968840163e-14"
      ]
     },
     "execution_count": 75,
     "metadata": {},
     "output_type": "execute_result"
    }
   ],
   "source": [
    "# Lib e teste\n",
    "from scipy.stats import friedmanchisquare\n",
    "_, p = friedmanchisquare(\n",
    "    resultados_naive_cv, resultados_logistica_cv, resultados_forest_cv\n",
    ")\n",
    "p"
   ]
  }
 ],
 "metadata": {
  "kernelspec": {
   "display_name": "venv",
   "language": "python",
   "name": "python3"
  },
  "language_info": {
   "codemirror_mode": {
    "name": "ipython",
    "version": 3
   },
   "file_extension": ".py",
   "mimetype": "text/x-python",
   "name": "python",
   "nbconvert_exporter": "python",
   "pygments_lexer": "ipython3",
   "version": "3.10.9"
  },
  "orig_nbformat": 4,
  "vscode": {
   "interpreter": {
    "hash": "6e33741c762ba601eba819328c4d8c422f54d4c680da98d193b65b9553109624"
   }
  }
 },
 "nbformat": 4,
 "nbformat_minor": 2
}
