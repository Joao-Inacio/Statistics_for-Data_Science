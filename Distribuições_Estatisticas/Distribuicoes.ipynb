{
 "cells": [
  {
   "attachments": {},
   "cell_type": "markdown",
   "metadata": {},
   "source": [
    "## Distribuições"
   ]
  },
  {
   "cell_type": "code",
   "execution_count": 1,
   "metadata": {},
   "outputs": [],
   "source": [
    "# Bibliotecas\n",
    "import numpy as np\n",
    "import seaborn as sns\n",
    "import pandas as pd\n",
    "from scipy import stats"
   ]
  },
  {
   "attachments": {},
   "cell_type": "markdown",
   "metadata": {},
   "source": [
    "### Variáveis contínuas\n",
    "- Distribuição normal - Gaussian Distribution (Bell)"
   ]
  },
  {
   "cell_type": "code",
   "execution_count": 2,
   "metadata": {},
   "outputs": [
    {
     "data": {
      "text/plain": [
       "(-3.053764380426305, 3.9586027040379634)"
      ]
     },
     "execution_count": 2,
     "metadata": {},
     "output_type": "execute_result"
    }
   ],
   "source": [
    "# Gerando dados normais\n",
    "ds_normal = stats.norm.rvs(size=1000, random_state=1)\n",
    "# Visualização\n",
    "min(ds_normal), max(ds_normal)"
   ]
  },
  {
   "cell_type": "code",
   "execution_count": 3,
   "metadata": {},
   "outputs": [
    {
     "data": {
      "text/plain": [
       "<AxesSubplot: ylabel='Count'>"
      ]
     },
     "execution_count": 3,
     "metadata": {},
     "output_type": "execute_result"
    },
    {
     "data": {
      "image/png": "[encoded data removed]",
      "text/plain": [
       "<Figure size 640x480 with 1 Axes>"
      ]
     },
     "metadata": {},
     "output_type": "display_data"
    }
   ],
   "source": [
    "# Visualizando o gráfico\n",
    "sns.histplot(ds_normal, kde=True)"
   ]
  },
  {
   "cell_type": "code",
   "execution_count": 4,
   "metadata": {},
   "outputs": [
    {
     "data": {
      "text/plain": [
       "(0.03881247615960185,\n",
       " 0.04129258886921605,\n",
       " ModeResult(mode=array([-3.05376438]), count=array([1])),\n",
       " 0.9623691107920885,\n",
       " 0.9810041339322116)"
      ]
     },
     "execution_count": 4,
     "metadata": {},
     "output_type": "execute_result"
    }
   ],
   "source": [
    "# Média, moda, mediana, variância, desvio padrão\n",
    "ds_normal.mean(), np.median(ds_normal), stats.mode(ds_normal,keepdims=True), np.var(ds_normal), np.std(ds_normal)"
   ]
  },
  {
   "cell_type": "code",
   "execution_count": 5,
   "metadata": {},
   "outputs": [
    {
     "data": {
      "text/plain": [
       "148"
      ]
     },
     "execution_count": 5,
     "metadata": {},
     "output_type": "execute_result"
    }
   ],
   "source": [
    "# Valores centrais \n",
    "np.sum(((ds_normal >= 0.9810041339322116) & (ds_normal <= 0.9810041339322116 + 1)))"
   ]
  },
  {
   "cell_type": "code",
   "execution_count": 6,
   "metadata": {},
   "outputs": [
    {
     "data": {
      "text/plain": [
       "353"
      ]
     },
     "execution_count": 6,
     "metadata": {},
     "output_type": "execute_result"
    }
   ],
   "source": [
    "# Valores centrais \n",
    "np.sum(((ds_normal <= 0.9810041339322116) & (ds_normal >= 0.9810041339322116 - 1)))"
   ]
  },
  {
   "cell_type": "code",
   "execution_count": 7,
   "metadata": {},
   "outputs": [
    {
     "name": "stdout",
     "output_type": "stream",
     "text": [
      "50.1%\n"
     ]
    }
   ],
   "source": [
    "# Visualizando a porcentagem\n",
    "print(f\"{((148 + 353) / 1000) * 100}%\")"
   ]
  },
  {
   "attachments": {},
   "cell_type": "markdown",
   "metadata": {},
   "source": [
    "### Distribuição Normal com Dados das Alturas"
   ]
  },
  {
   "cell_type": "code",
   "execution_count": 8,
   "metadata": {},
   "outputs": [
    {
     "data": {
      "text/plain": [
       "100"
      ]
     },
     "execution_count": 8,
     "metadata": {},
     "output_type": "execute_result"
    }
   ],
   "source": [
    "# Criando os dados\n",
    "dados = np.array(\n",
    "    [\n",
    "        126. , 129.5, 133. , 133. , 136.5, 136.5, 140. , 140. , 140. ,\n",
    "        140. , 143.5, 143.5, 143.5, 143.5, 143.5, 143.5, 147. , 147. ,\n",
    "        147. , 147. , 147. , 147. , 147. , 150.5, 150.5, 150.5, 150.5,\n",
    "        150.5, 150.5, 150.5, 150.5, 154. , 154. , 154. , 154. , 154. ,\n",
    "        154. , 154. , 154. , 154. , 157.5, 157.5, 157.5, 157.5, 157.5,\n",
    "        157.5, 157.5, 157.5, 157.5, 157.5, 161. , 161. , 161. , 161. ,\n",
    "        161. , 161. , 161. , 161. , 161. , 161. , 164.5, 164.5, 164.5,\n",
    "        164.5, 164.5, 164.5, 164.5, 164.5, 164.5, 168. , 168. , 168. ,\n",
    "        168. , 168. , 168. , 168. , 168. , 171.5, 171.5, 171.5, 171.5,\n",
    "        171.5, 171.5, 171.5, 175. , 175. , 175. , 175. , 175. , 175. ,\n",
    "        178.5, 178.5, 178.5, 178.5, 182. , 182. , 185.5, 185.5, 189., 192.5\n",
    "    ]\n",
    ")\n",
    "len(dados)"
   ]
  },
  {
   "cell_type": "code",
   "execution_count": 9,
   "metadata": {},
   "outputs": [
    {
     "data": {
      "text/plain": [
       "(126.0, 192.5)"
      ]
     },
     "execution_count": 9,
     "metadata": {},
     "output_type": "execute_result"
    }
   ],
   "source": [
    "# Mínimo e máximo \n",
    "min(dados), max(dados)"
   ]
  },
  {
   "cell_type": "code",
   "execution_count": 10,
   "metadata": {},
   "outputs": [
    {
     "data": {
      "text/plain": [
       "159.25"
      ]
     },
     "execution_count": 10,
     "metadata": {},
     "output_type": "execute_result"
    }
   ],
   "source": [
    "# Media\n",
    "dados.mean()"
   ]
  },
  {
   "cell_type": "code",
   "execution_count": 11,
   "metadata": {},
   "outputs": [
    {
     "data": {
      "text/plain": [
       "159.25"
      ]
     },
     "execution_count": 11,
     "metadata": {},
     "output_type": "execute_result"
    }
   ],
   "source": [
    "# mediana\n",
    "np.median(dados)"
   ]
  },
  {
   "cell_type": "code",
   "execution_count": 12,
   "metadata": {},
   "outputs": [
    {
     "data": {
      "text/plain": [
       "ModeResult(mode=array([157.5]), count=array([10]))"
      ]
     },
     "execution_count": 12,
     "metadata": {},
     "output_type": "execute_result"
    }
   ],
   "source": [
    "# moda\n",
    "stats.mode(dados, keepdims=True)"
   ]
  },
  {
   "cell_type": "code",
   "execution_count": 13,
   "metadata": {},
   "outputs": [
    {
     "data": {
      "text/plain": [
       "(186.3225, 13.65, 8.571428571428571)"
      ]
     },
     "execution_count": 13,
     "metadata": {},
     "output_type": "execute_result"
    }
   ],
   "source": [
    "# Variação e desvio padrão\n",
    "np.var(dados), np.std(dados), stats.variation(dados) * 100"
   ]
  },
  {
   "cell_type": "code",
   "execution_count": 14,
   "metadata": {},
   "outputs": [
    {
     "data": {
      "text/plain": [
       "(172.9, 145.6)"
      ]
     },
     "execution_count": 14,
     "metadata": {},
     "output_type": "execute_result"
    }
   ],
   "source": [
    "# Pontos para cima ou para baixo\n",
    "159.25 + 13.65, 159.25 - 13.65"
   ]
  },
  {
   "cell_type": "code",
   "execution_count": 15,
   "metadata": {},
   "outputs": [
    {
     "data": {
      "text/plain": [
       "<AxesSubplot: ylabel='Count'>"
      ]
     },
     "execution_count": 15,
     "metadata": {},
     "output_type": "execute_result"
    },
    {
     "data": {
      "image/png": "[encoded data removed]",
      "text/plain": [
       "<Figure size 640x480 with 1 Axes>"
      ]
     },
     "metadata": {},
     "output_type": "display_data"
    }
   ],
   "source": [
    "# Gráficos \n",
    "sns.histplot(dados, kde=True)"
   ]
  },
  {
   "attachments": {},
   "cell_type": "markdown",
   "metadata": {},
   "source": [
    "### Enviesamento "
   ]
  },
  {
   "cell_type": "code",
   "execution_count": 16,
   "metadata": {},
   "outputs": [],
   "source": [
    "# Biblioteca \n",
    "from scipy.stats import skewnorm"
   ]
  },
  {
   "cell_type": "code",
   "execution_count": 17,
   "metadata": {},
   "outputs": [
    {
     "data": {
      "text/plain": [
       "<AxesSubplot: ylabel='Count'>"
      ]
     },
     "execution_count": 17,
     "metadata": {},
     "output_type": "execute_result"
    },
    {
     "data": {
      "image/png": "[encoded data removed]",
      "text/plain": [
       "<Figure size 640x480 with 1 Axes>"
      ]
     },
     "metadata": {},
     "output_type": "display_data"
    }
   ],
   "source": [
    "# Criando dados normal e visualizando o gráficos \n",
    "dados_normal = skewnorm.rvs(a=0, size=1000)\n",
    "sns.histplot(dados_normal, kde=True)"
   ]
  },
  {
   "cell_type": "code",
   "execution_count": 18,
   "metadata": {},
   "outputs": [
    {
     "data": {
      "text/plain": [
       "(0.020248787337602693,\n",
       " -0.001661007362341086,\n",
       " ModeResult(mode=array([-3.29737718]), count=array([1])))"
      ]
     },
     "execution_count": 18,
     "metadata": {},
     "output_type": "execute_result"
    }
   ],
   "source": [
    "# média, mediana e moda\n",
    "dados_normal.mean(), np.median(dados_normal), stats.mode(dados_normal, keepdims=True)"
   ]
  },
  {
   "cell_type": "code",
   "execution_count": 19,
   "metadata": {},
   "outputs": [
    {
     "data": {
      "text/plain": [
       "<AxesSubplot: ylabel='Count'>"
      ]
     },
     "execution_count": 19,
     "metadata": {},
     "output_type": "execute_result"
    },
    {
     "data": {
      "image/png": "[encoded data removed]",
      "text/plain": [
       "<Figure size 640x480 with 1 Axes>"
      ]
     },
     "metadata": {},
     "output_type": "display_data"
    }
   ],
   "source": [
    "# Criando dados enviesado positivo e visualizando o gráficos\n",
    "ds_enve_positivo = skewnorm.rvs(a=10, size=1000)\n",
    "sns.histplot(ds_enve_positivo, kde=True)"
   ]
  },
  {
   "cell_type": "code",
   "execution_count": 20,
   "metadata": {},
   "outputs": [
    {
     "data": {
      "text/plain": [
       "(0.794010060654045,\n",
       " 0.6731506623118619,\n",
       " ModeResult(mode=array([-0.23025699]), count=array([1])))"
      ]
     },
     "execution_count": 20,
     "metadata": {},
     "output_type": "execute_result"
    }
   ],
   "source": [
    "# média, mediana e moda\n",
    "ds_enve_positivo.mean(), np.median(ds_enve_positivo), stats.mode(ds_enve_positivo, keepdims=True)"
   ]
  },
  {
   "cell_type": "code",
   "execution_count": 21,
   "metadata": {},
   "outputs": [
    {
     "data": {
      "text/plain": [
       "<AxesSubplot: ylabel='Count'>"
      ]
     },
     "execution_count": 21,
     "metadata": {},
     "output_type": "execute_result"
    },
    {
     "data": {
      "image/png": "[encoded data removed]",
      "text/plain": [
       "<Figure size 640x480 with 1 Axes>"
      ]
     },
     "metadata": {},
     "output_type": "display_data"
    }
   ],
   "source": [
    "# Criando dados enviesado negativo e visualizando o gráficos\n",
    "ds_enve_negativo = skewnorm.rvs(-10, size=1000)\n",
    "sns.histplot(ds_enve_negativo, kde=True)"
   ]
  },
  {
   "cell_type": "code",
   "execution_count": 22,
   "metadata": {},
   "outputs": [
    {
     "data": {
      "text/plain": [
       "(-0.7925839324779984,\n",
       " -0.687594321848485,\n",
       " ModeResult(mode=array([-3.36438722]), count=array([1])))"
      ]
     },
     "execution_count": 22,
     "metadata": {},
     "output_type": "execute_result"
    }
   ],
   "source": [
    "# média, mediana e moda\n",
    "ds_enve_negativo.mean(), np.median(ds_enve_negativo), stats.mode(ds_enve_negativo, keepdims=True)"
   ]
  },
  {
   "attachments": {},
   "cell_type": "markdown",
   "metadata": {},
   "source": [
    "### Distribuição Normal Padronizado"
   ]
  },
  {
   "cell_type": "code",
   "execution_count": 23,
   "metadata": {},
   "outputs": [],
   "source": [
    "# Criando dados padronizado\n",
    "dados_normal_padronizado = np.random.standard_normal(size=1000)"
   ]
  },
  {
   "cell_type": "code",
   "execution_count": 24,
   "metadata": {},
   "outputs": [
    {
     "data": {
      "text/plain": [
       "(-4.160222848373883, 2.998001728083868)"
      ]
     },
     "execution_count": 24,
     "metadata": {},
     "output_type": "execute_result"
    }
   ],
   "source": [
    "# Mínimo e Máximo \n",
    "min(dados_normal_padronizado), max(dados_normal_padronizado)"
   ]
  },
  {
   "cell_type": "code",
   "execution_count": 25,
   "metadata": {},
   "outputs": [
    {
     "data": {
      "text/plain": [
       "<AxesSubplot: ylabel='Count'>"
      ]
     },
     "execution_count": 25,
     "metadata": {},
     "output_type": "execute_result"
    },
    {
     "data": {
      "image/png": "[encoded data removed]",
      "text/plain": [
       "<Figure size 640x480 with 1 Axes>"
      ]
     },
     "metadata": {},
     "output_type": "display_data"
    }
   ],
   "source": [
    "# Gráfico\n",
    "sns.histplot(dados_normal_padronizado, kde=True)"
   ]
  },
  {
   "cell_type": "code",
   "execution_count": 26,
   "metadata": {},
   "outputs": [
    {
     "data": {
      "text/plain": [
       "(-0.023112610728747297, 1.012012965986646)"
      ]
     },
     "execution_count": 26,
     "metadata": {},
     "output_type": "execute_result"
    }
   ],
   "source": [
    "# Média, desvio padrão\n",
    "dados_normal_padronizado.mean(), np.std(dados_normal_padronizado)"
   ]
  },
  {
   "cell_type": "code",
   "execution_count": 27,
   "metadata": {},
   "outputs": [
    {
     "data": {
      "text/plain": [
       "159.25"
      ]
     },
     "execution_count": 27,
     "metadata": {},
     "output_type": "execute_result"
    }
   ],
   "source": [
    "# Média dos dados\n",
    "media = dados.mean()\n",
    "media"
   ]
  },
  {
   "cell_type": "code",
   "execution_count": 28,
   "metadata": {},
   "outputs": [
    {
     "data": {
      "text/plain": [
       "13.65"
      ]
     },
     "execution_count": 28,
     "metadata": {},
     "output_type": "execute_result"
    }
   ],
   "source": [
    "# Desvio padrão\n",
    "dp = np.std(dados)\n",
    "dp"
   ]
  },
  {
   "cell_type": "code",
   "execution_count": 29,
   "metadata": {},
   "outputs": [
    {
     "data": {
      "text/plain": [
       "array([-2.43589744, -2.17948718, -1.92307692, -1.92307692, -1.66666667,\n",
       "       -1.66666667, -1.41025641, -1.41025641, -1.41025641, -1.41025641,\n",
       "       -1.15384615, -1.15384615, -1.15384615, -1.15384615, -1.15384615,\n",
       "       -1.15384615, -0.8974359 , -0.8974359 , -0.8974359 , -0.8974359 ,\n",
       "       -0.8974359 , -0.8974359 , -0.8974359 , -0.64102564, -0.64102564,\n",
       "       -0.64102564, -0.64102564, -0.64102564, -0.64102564, -0.64102564,\n",
       "       -0.64102564, -0.38461538, -0.38461538, -0.38461538, -0.38461538,\n",
       "       -0.38461538, -0.38461538, -0.38461538, -0.38461538, -0.38461538,\n",
       "       -0.12820513, -0.12820513, -0.12820513, -0.12820513, -0.12820513,\n",
       "       -0.12820513, -0.12820513, -0.12820513, -0.12820513, -0.12820513,\n",
       "        0.12820513,  0.12820513,  0.12820513,  0.12820513,  0.12820513,\n",
       "        0.12820513,  0.12820513,  0.12820513,  0.12820513,  0.12820513,\n",
       "        0.38461538,  0.38461538,  0.38461538,  0.38461538,  0.38461538,\n",
       "        0.38461538,  0.38461538,  0.38461538,  0.38461538,  0.64102564,\n",
       "        0.64102564,  0.64102564,  0.64102564,  0.64102564,  0.64102564,\n",
       "        0.64102564,  0.64102564,  0.8974359 ,  0.8974359 ,  0.8974359 ,\n",
       "        0.8974359 ,  0.8974359 ,  0.8974359 ,  0.8974359 ,  1.15384615,\n",
       "        1.15384615,  1.15384615,  1.15384615,  1.15384615,  1.15384615,\n",
       "        1.41025641,  1.41025641,  1.41025641,  1.41025641,  1.66666667,\n",
       "        1.66666667,  1.92307692,  1.92307692,  2.17948718,  2.43589744])"
      ]
     },
     "execution_count": 29,
     "metadata": {},
     "output_type": "execute_result"
    }
   ],
   "source": [
    "# Padronizado os dados\n",
    "dados_padronizados = (dados - media) / dp\n",
    "dados_padronizados"
   ]
  },
  {
   "cell_type": "code",
   "execution_count": 30,
   "metadata": {},
   "outputs": [
    {
     "data": {
      "text/plain": [
       "(0.0, 0.9999999999999999)"
      ]
     },
     "execution_count": 30,
     "metadata": {},
     "output_type": "execute_result"
    }
   ],
   "source": [
    "# Média, desvio padrão\n",
    "dados_padronizados.mean(), np.std(dados_padronizados)"
   ]
  },
  {
   "cell_type": "code",
   "execution_count": 31,
   "metadata": {},
   "outputs": [
    {
     "data": {
      "text/plain": [
       "<AxesSubplot: ylabel='Count'>"
      ]
     },
     "execution_count": 31,
     "metadata": {},
     "output_type": "execute_result"
    },
    {
     "data": {
      "image/png": "[encoded data removed]",
      "text/plain": [
       "<Figure size 640x480 with 1 Axes>"
      ]
     },
     "metadata": {},
     "output_type": "display_data"
    }
   ],
   "source": [
    "# Gráficos\n",
    "sns.histplot(dados_padronizados, kde=True)"
   ]
  },
  {
   "attachments": {},
   "cell_type": "markdown",
   "metadata": {},
   "source": [
    "### Teorema central do limite\n",
    "- Quando o tamanho da amostra aumenta, a distribuição amostral da sua média aproxima-se cada vez mais de uma distribuição normal"
   ]
  },
  {
   "cell_type": "code",
   "execution_count": 32,
   "metadata": {},
   "outputs": [
    {
     "data": {
      "text/plain": [
       "158.608"
      ]
     },
     "execution_count": 32,
     "metadata": {},
     "output_type": "execute_result"
    }
   ],
   "source": [
    "# Criando os dados de alturas\n",
    "alturas = np.random.randint(126, 192, 500)\n",
    "alturas.mean()"
   ]
  },
  {
   "cell_type": "code",
   "execution_count": 33,
   "metadata": {},
   "outputs": [
    {
     "data": {
      "text/plain": [
       "<AxesSubplot: ylabel='Count'>"
      ]
     },
     "execution_count": 33,
     "metadata": {},
     "output_type": "execute_result"
    },
    {
     "data": {
      "image/png": "[encoded data removed]",
      "text/plain": [
       "<Figure size 640x480 with 1 Axes>"
      ]
     },
     "metadata": {},
     "output_type": "display_data"
    }
   ],
   "source": [
    "# Gráfico\n",
    "sns.histplot(alturas, kde=True)"
   ]
  },
  {
   "cell_type": "code",
   "execution_count": 34,
   "metadata": {},
   "outputs": [
    {
     "data": {
      "text/plain": [
       "(list, 1000)"
      ]
     },
     "execution_count": 34,
     "metadata": {},
     "output_type": "execute_result"
    }
   ],
   "source": [
    "# Construído uma lista com várias médias\n",
    "medias = [np.mean(np.random.randint(126, 192, 500)) for _ in range(1000)]\n",
    "type(medias), len(medias)"
   ]
  },
  {
   "cell_type": "code",
   "execution_count": 35,
   "metadata": {},
   "outputs": [
    {
     "data": {
      "text/plain": [
       "[159.158, 158.932, 158.696, 157.276, 157.718]"
      ]
     },
     "execution_count": 35,
     "metadata": {},
     "output_type": "execute_result"
    }
   ],
   "source": [
    "# Visualizando os valores \n",
    "medias[:5]"
   ]
  },
  {
   "cell_type": "code",
   "execution_count": 36,
   "metadata": {},
   "outputs": [
    {
     "data": {
      "text/plain": [
       "<AxesSubplot: ylabel='Count'>"
      ]
     },
     "execution_count": 36,
     "metadata": {},
     "output_type": "execute_result"
    },
    {
     "data": {
      "image/png": "[encoded data removed]",
      "text/plain": [
       "<Figure size 640x480 with 1 Axes>"
      ]
     },
     "metadata": {},
     "output_type": "display_data"
    }
   ],
   "source": [
    "# Gráfico\n",
    "sns.histplot(medias, kde=True)"
   ]
  },
  {
   "attachments": {},
   "cell_type": "markdown",
   "metadata": {},
   "source": [
    "### Distribuição gamma\n",
    "\n",
    "- Distribuição geral com valores assimétricos à direita\n",
    "- Análise de tempo de vida de produtos\n",
    "- Inadimplência com valores agregados\n",
    "- Quantidade de chuva acumulada em um reservatório\n",
    "- Tempo de reação de um motorista de acordo com a idade"
   ]
  },
  {
   "cell_type": "code",
   "execution_count": 37,
   "metadata": {},
   "outputs": [],
   "source": [
    "# Bibliotecas\n",
    "from scipy.stats import gamma "
   ]
  },
  {
   "cell_type": "code",
   "execution_count": 38,
   "metadata": {},
   "outputs": [
    {
     "data": {
      "text/plain": [
       "<AxesSubplot: ylabel='Count'>"
      ]
     },
     "execution_count": 38,
     "metadata": {},
     "output_type": "execute_result"
    },
    {
     "data": {
      "image/png": "[encoded data removed]",
      "text/plain": [
       "<Figure size 640x480 with 1 Axes>"
      ]
     },
     "metadata": {},
     "output_type": "display_data"
    }
   ],
   "source": [
    "# Gerando dados gama\n",
    "dados_gama = gamma.rvs(a=5, size=1000)\n",
    "# Gráfico\n",
    "sns.histplot(dados_gama, kde=True)"
   ]
  },
  {
   "cell_type": "code",
   "execution_count": 39,
   "metadata": {},
   "outputs": [
    {
     "data": {
      "text/plain": [
       "(0.6062216054827727, 15.681770423440408)"
      ]
     },
     "execution_count": 39,
     "metadata": {},
     "output_type": "execute_result"
    }
   ],
   "source": [
    "# Mínimo e Máximo \n",
    "min(dados_gama), max(dados_gama)"
   ]
  },
  {
   "attachments": {},
   "cell_type": "markdown",
   "metadata": {},
   "source": [
    "### Distribuição exponencial\n",
    "- É um tipo da distribuição gama\n",
    "- Tempo de vida de certos produtos e materiais\n",
    "- Tempo de vida de óleos isolantes e dielétricos, entre outros"
   ]
  },
  {
   "cell_type": "code",
   "execution_count": 40,
   "metadata": {},
   "outputs": [],
   "source": [
    "# Biblioteca\n",
    "from scipy.stats import expon"
   ]
  },
  {
   "cell_type": "code",
   "execution_count": 41,
   "metadata": {},
   "outputs": [
    {
     "data": {
      "text/plain": [
       "<AxesSubplot: ylabel='Count'>"
      ]
     },
     "execution_count": 41,
     "metadata": {},
     "output_type": "execute_result"
    },
    {
     "data": {
      "image/png": "[encoded data removed]",
      "text/plain": [
       "<Figure size 640x480 with 1 Axes>"
      ]
     },
     "metadata": {},
     "output_type": "display_data"
    }
   ],
   "source": [
    "# Gerando dados exponencial\n",
    "dados_exponencial = expon.rvs(size=1000)\n",
    "# Gráfico\n",
    "sns.histplot(dados_exponencial, kde=True)"
   ]
  },
  {
   "cell_type": "code",
   "execution_count": 42,
   "metadata": {},
   "outputs": [
    {
     "data": {
      "text/plain": [
       "(0.000337859850499878, 7.141928602831804)"
      ]
     },
     "execution_count": 42,
     "metadata": {},
     "output_type": "execute_result"
    }
   ],
   "source": [
    "# Mínimo e Máximo \n",
    "min(dados_exponencial), max(dados_exponencial)"
   ]
  },
  {
   "attachments": {},
   "cell_type": "markdown",
   "metadata": {},
   "source": [
    "### Distribuição uniforme\n",
    "\n",
    "- Os números da distribuição possuem a mesma probabilidade\n",
    "- Probabilidade de peças com defeitos em um lote com determinada quantidade de peças\n",
    "- Geração de números aleatórios em linguagens de programação"
   ]
  },
  {
   "cell_type": "code",
   "execution_count": 43,
   "metadata": {},
   "outputs": [],
   "source": [
    "# Biblioteca\n",
    "from scipy.stats import uniform"
   ]
  },
  {
   "cell_type": "code",
   "execution_count": 44,
   "metadata": {},
   "outputs": [
    {
     "data": {
      "image/png": "[encoded data removed]",
      "text/plain": [
       "<Figure size 640x480 with 1 Axes>"
      ]
     },
     "metadata": {},
     "output_type": "display_data"
    }
   ],
   "source": [
    "# Gerando valores uniforme e o gráfico\n",
    "dados_uniforme = uniform.rvs(size=1000)\n",
    "sns.histplot(dados_uniforme, kde=True);"
   ]
  },
  {
   "cell_type": "code",
   "execution_count": 45,
   "metadata": {},
   "outputs": [
    {
     "data": {
      "text/plain": [
       "(0.0003586418819117032, 0.9990649323633196)"
      ]
     },
     "execution_count": 45,
     "metadata": {},
     "output_type": "execute_result"
    }
   ],
   "source": [
    "# Valores mínimos e máximo \n",
    "min(dados_uniforme), max(dados_uniforme)"
   ]
  },
  {
   "cell_type": "code",
   "execution_count": 46,
   "metadata": {},
   "outputs": [
    {
     "data": {
      "text/plain": [
       "(array([3.58641882e-04, 4.39991424e-04, 6.25812440e-04, 1.31564187e-03,\n",
       "        5.11136136e-03, 5.95268138e-03, 6.63272541e-03, 9.45858638e-03,\n",
       "        9.81921165e-03, 1.05951039e-02, 1.06153295e-02, 1.07500826e-02,\n",
       "        1.10376860e-02, 1.12402465e-02, 1.38325366e-02, 1.80974813e-02,\n",
       "        1.88653592e-02, 1.90580045e-02, 2.27315343e-02, 2.29438939e-02,\n",
       "        2.41798215e-02, 2.43842497e-02, 2.80892029e-02, 2.81022241e-02,\n",
       "        3.13357893e-02, 3.19820060e-02, 3.33484188e-02, 3.35338047e-02,\n",
       "        3.46407937e-02, 3.56561318e-02, 3.92224023e-02, 3.94209735e-02,\n",
       "        3.98345851e-02, 3.99017176e-02, 3.99066109e-02, 4.01325007e-02,\n",
       "        4.07955921e-02, 4.08315988e-02, 4.16397906e-02, 4.31058875e-02,\n",
       "        4.54567292e-02, 4.76801685e-02, 4.85802853e-02, 4.89656456e-02,\n",
       "        5.14190732e-02, 5.19942976e-02, 5.29592123e-02, 5.30097802e-02,\n",
       "        5.33766628e-02, 5.37160666e-02, 5.46750839e-02, 5.54781135e-02,\n",
       "        5.64669052e-02, 5.79195318e-02, 6.16242865e-02, 6.17607830e-02,\n",
       "        6.36923813e-02, 6.57665193e-02, 6.60878259e-02, 6.71729388e-02,\n",
       "        6.78076969e-02, 6.90379310e-02, 7.03834684e-02, 7.05706935e-02,\n",
       "        7.08570680e-02, 7.14060626e-02, 7.32707518e-02, 7.41163446e-02,\n",
       "        7.47814015e-02, 7.54601340e-02, 7.55757933e-02, 7.60256499e-02,\n",
       "        7.62525513e-02, 8.00305518e-02, 8.06305668e-02, 8.14566340e-02,\n",
       "        8.28544872e-02, 8.30992202e-02, 8.39094125e-02, 8.55971213e-02,\n",
       "        8.64466451e-02, 8.87555374e-02, 9.17871946e-02, 9.20219763e-02,\n",
       "        9.39654399e-02, 9.77440787e-02, 9.81730366e-02, 1.00280393e-01,\n",
       "        1.02309576e-01, 1.04032226e-01, 1.04630467e-01, 1.05087985e-01,\n",
       "        1.09537447e-01, 1.10659361e-01, 1.11545313e-01, 1.12544317e-01,\n",
       "        1.13704639e-01, 1.14074695e-01, 1.17292671e-01, 1.17381820e-01,\n",
       "        1.18980614e-01, 1.20648903e-01, 1.21750136e-01, 1.21859944e-01,\n",
       "        1.23605759e-01, 1.24399695e-01, 1.24499905e-01, 1.25933722e-01,\n",
       "        1.26292156e-01, 1.26788407e-01, 1.27233644e-01, 1.27415770e-01,\n",
       "        1.28302876e-01, 1.28538272e-01, 1.29441580e-01, 1.31910525e-01,\n",
       "        1.31962628e-01, 1.32981714e-01, 1.33455903e-01, 1.35396926e-01,\n",
       "        1.36168541e-01, 1.37524198e-01, 1.38557333e-01, 1.41423079e-01,\n",
       "        1.41433722e-01, 1.42541069e-01, 1.43418471e-01, 1.43905332e-01,\n",
       "        1.44564364e-01, 1.45755147e-01, 1.46206027e-01, 1.46320165e-01,\n",
       "        1.47109715e-01, 1.48765754e-01, 1.48902817e-01, 1.53312483e-01,\n",
       "        1.53822522e-01, 1.54402535e-01, 1.55155788e-01, 1.56990901e-01,\n",
       "        1.56991519e-01, 1.57612043e-01, 1.60040017e-01, 1.60129237e-01,\n",
       "        1.60759177e-01, 1.61240342e-01, 1.62069210e-01, 1.62382244e-01,\n",
       "        1.66400602e-01, 1.67158831e-01, 1.70813644e-01, 1.72653777e-01,\n",
       "        1.72874145e-01, 1.72984821e-01, 1.73310620e-01, 1.73722048e-01,\n",
       "        1.74535992e-01, 1.76997322e-01, 1.77545736e-01, 1.79806598e-01,\n",
       "        1.80475047e-01, 1.81133505e-01, 1.81310772e-01, 1.82062376e-01,\n",
       "        1.82430100e-01, 1.82757410e-01, 1.83996928e-01, 1.84602987e-01,\n",
       "        1.84995539e-01, 1.86156292e-01, 1.86371646e-01, 1.87264522e-01,\n",
       "        1.88464694e-01, 1.89051213e-01, 1.89127619e-01, 1.89420678e-01,\n",
       "        1.89835605e-01, 1.90279283e-01, 1.90463176e-01, 1.91129465e-01,\n",
       "        1.92563865e-01, 1.92665302e-01, 1.92855238e-01, 1.93380836e-01,\n",
       "        1.94744604e-01, 1.95360540e-01, 1.96879019e-01, 1.97586067e-01,\n",
       "        1.98125864e-01, 1.98631302e-01, 1.99622782e-01, 2.00459156e-01,\n",
       "        2.01026352e-01, 2.01426091e-01, 2.02374479e-01, 2.02498218e-01,\n",
       "        2.04024626e-01, 2.05963266e-01, 2.06459312e-01, 2.08153913e-01,\n",
       "        2.12536339e-01, 2.12709028e-01, 2.12983117e-01, 2.13449024e-01,\n",
       "        2.13501861e-01, 2.15202478e-01, 2.15913425e-01, 2.17396775e-01,\n",
       "        2.18347758e-01, 2.19006577e-01, 2.19814433e-01, 2.20323796e-01,\n",
       "        2.25011317e-01, 2.27242823e-01, 2.28601124e-01, 2.30370022e-01,\n",
       "        2.30640914e-01, 2.31465181e-01, 2.32364997e-01, 2.32557301e-01,\n",
       "        2.33126274e-01, 2.33305156e-01, 2.33674343e-01, 2.33859691e-01,\n",
       "        2.34028423e-01, 2.34037287e-01, 2.35334610e-01, 2.36059673e-01,\n",
       "        2.37276419e-01, 2.38214516e-01, 2.40729332e-01, 2.43325659e-01,\n",
       "        2.44697462e-01, 2.47598496e-01, 2.48818397e-01, 2.48843162e-01,\n",
       "        2.50188321e-01, 2.53349614e-01, 2.53613147e-01, 2.55314644e-01,\n",
       "        2.55420718e-01, 2.55658642e-01, 2.56258641e-01, 2.57224150e-01,\n",
       "        2.58422437e-01, 2.58923715e-01, 2.61298512e-01, 2.63107093e-01,\n",
       "        2.65026114e-01, 2.65232073e-01, 2.66402143e-01, 2.68993258e-01,\n",
       "        2.69081868e-01, 2.69099560e-01, 2.71116901e-01, 2.72661471e-01,\n",
       "        2.72690891e-01, 2.73413028e-01, 2.74861830e-01, 2.74909844e-01,\n",
       "        2.75757261e-01, 2.77730878e-01, 2.79807690e-01, 2.80092156e-01,\n",
       "        2.81707470e-01, 2.81849169e-01, 2.81936157e-01, 2.82391334e-01,\n",
       "        2.83213470e-01, 2.83223286e-01, 2.84146671e-01, 2.84463735e-01,\n",
       "        2.85778614e-01, 2.85781464e-01, 2.86529976e-01, 2.86592428e-01,\n",
       "        2.86596755e-01, 2.86611472e-01, 2.86830736e-01, 2.87517644e-01,\n",
       "        2.89325106e-01, 2.90401507e-01, 2.92330942e-01, 2.93211317e-01,\n",
       "        2.94623460e-01, 2.95012123e-01, 2.95570291e-01, 2.99263979e-01,\n",
       "        3.00366017e-01, 3.00758173e-01, 3.01456878e-01, 3.01742414e-01,\n",
       "        3.02075379e-01, 3.02097199e-01, 3.04398529e-01, 3.04894352e-01,\n",
       "        3.06281861e-01, 3.06387900e-01, 3.07051386e-01, 3.07543896e-01,\n",
       "        3.09843320e-01, 3.10177367e-01, 3.11291603e-01, 3.12188514e-01,\n",
       "        3.12502541e-01, 3.12790721e-01, 3.13901199e-01, 3.14669570e-01,\n",
       "        3.17397046e-01, 3.19966155e-01, 3.23015684e-01, 3.23183056e-01,\n",
       "        3.24334435e-01, 3.25610540e-01, 3.26743178e-01, 3.27054358e-01,\n",
       "        3.27754807e-01, 3.29525911e-01, 3.29650148e-01, 3.30890795e-01,\n",
       "        3.32020633e-01, 3.32289399e-01, 3.34154526e-01, 3.35139123e-01,\n",
       "        3.36666889e-01, 3.36851508e-01, 3.37941341e-01, 3.37964778e-01,\n",
       "        3.38067367e-01, 3.39422776e-01, 3.41830863e-01, 3.41954138e-01,\n",
       "        3.42002950e-01, 3.42570700e-01, 3.43589959e-01, 3.43630653e-01,\n",
       "        3.44807543e-01, 3.44881347e-01, 3.45083656e-01, 3.46148775e-01,\n",
       "        3.49665820e-01, 3.49922986e-01, 3.49989368e-01, 3.51411737e-01,\n",
       "        3.52071885e-01, 3.54121898e-01, 3.54467702e-01, 3.55167219e-01,\n",
       "        3.55278401e-01, 3.55486196e-01, 3.58930646e-01, 3.59485621e-01,\n",
       "        3.59683972e-01, 3.60499051e-01, 3.61651465e-01, 3.63500111e-01,\n",
       "        3.65878705e-01, 3.67789858e-01, 3.68154766e-01, 3.68266654e-01,\n",
       "        3.69938266e-01, 3.70195864e-01, 3.72708790e-01, 3.75696809e-01,\n",
       "        3.76184455e-01, 3.78200133e-01, 3.78218840e-01, 3.79977519e-01,\n",
       "        3.80509024e-01, 3.80565470e-01, 3.81631659e-01, 3.81827105e-01,\n",
       "        3.82660758e-01, 3.82722145e-01, 3.82731823e-01, 3.83138511e-01,\n",
       "        3.83842879e-01, 3.84300365e-01, 3.86539855e-01, 3.88060569e-01,\n",
       "        3.88615249e-01, 3.89608971e-01, 3.91150822e-01, 3.91809828e-01,\n",
       "        3.92018909e-01, 3.93238177e-01, 3.96914798e-01, 3.99211199e-01,\n",
       "        3.99349078e-01, 4.00463407e-01, 4.02079734e-01, 4.02898008e-01,\n",
       "        4.03546990e-01, 4.04021624e-01, 4.04302705e-01, 4.05025615e-01,\n",
       "        4.05286756e-01, 4.05451961e-01, 4.06314134e-01, 4.06701418e-01,\n",
       "        4.07128442e-01, 4.07151959e-01, 4.07152624e-01, 4.08033085e-01,\n",
       "        4.11322104e-01, 4.11847317e-01, 4.13939214e-01, 4.14006506e-01,\n",
       "        4.15709301e-01, 4.18229591e-01, 4.18409352e-01, 4.19371192e-01,\n",
       "        4.19605708e-01, 4.19762845e-01, 4.20051712e-01, 4.21457901e-01,\n",
       "        4.23216151e-01, 4.24809978e-01, 4.25755529e-01, 4.26018111e-01,\n",
       "        4.27400911e-01, 4.28644291e-01, 4.28653508e-01, 4.29340657e-01,\n",
       "        4.29539932e-01, 4.29705157e-01, 4.34030752e-01, 4.35296697e-01,\n",
       "        4.37104029e-01, 4.37245226e-01, 4.38426715e-01, 4.38461909e-01,\n",
       "        4.39548037e-01, 4.40070069e-01, 4.42046877e-01, 4.42792203e-01,\n",
       "        4.44747635e-01, 4.44928098e-01, 4.45371281e-01, 4.45610874e-01,\n",
       "        4.46340740e-01, 4.46716209e-01, 4.47684777e-01, 4.48887459e-01,\n",
       "        4.49188287e-01, 4.49434558e-01, 4.49718967e-01, 4.49957374e-01,\n",
       "        4.53405587e-01, 4.53516120e-01, 4.53995135e-01, 4.54769851e-01,\n",
       "        4.56277743e-01, 4.56813406e-01, 4.57621241e-01, 4.58712204e-01,\n",
       "        4.60530692e-01, 4.60906560e-01, 4.61099807e-01, 4.63358873e-01,\n",
       "        4.64077926e-01, 4.64234710e-01, 4.65021415e-01, 4.66160200e-01,\n",
       "        4.69797942e-01, 4.71574276e-01, 4.71829519e-01, 4.72961295e-01,\n",
       "        4.73248610e-01, 4.73541602e-01, 4.74645387e-01, 4.75423995e-01,\n",
       "        4.79291907e-01, 4.80083647e-01, 4.81372471e-01, 4.83508202e-01,\n",
       "        4.83861992e-01, 4.83875537e-01, 4.85257221e-01, 4.85528652e-01,\n",
       "        4.86243724e-01, 4.86664279e-01, 4.87088061e-01, 4.87904127e-01,\n",
       "        4.88322865e-01, 4.88963748e-01, 4.91511947e-01, 4.91595590e-01,\n",
       "        4.91636442e-01, 4.92014467e-01, 4.92295314e-01, 4.93655689e-01,\n",
       "        4.95354035e-01, 4.97908262e-01, 4.98093608e-01, 4.99354006e-01,\n",
       "        5.00122147e-01, 5.00332705e-01, 5.02350513e-01, 5.02502178e-01,\n",
       "        5.02510166e-01, 5.03703507e-01, 5.04051326e-01, 5.05358080e-01,\n",
       "        5.05785626e-01, 5.06460154e-01, 5.07680147e-01, 5.07842802e-01,\n",
       "        5.10698148e-01, 5.11544603e-01, 5.11750322e-01, 5.13429965e-01,\n",
       "        5.16602264e-01, 5.17003711e-01, 5.20268286e-01, 5.20526352e-01,\n",
       "        5.22047156e-01, 5.22166197e-01, 5.24326683e-01, 5.24337266e-01,\n",
       "        5.24598108e-01, 5.25341478e-01, 5.25997486e-01, 5.27153823e-01,\n",
       "        5.27440230e-01, 5.28115964e-01, 5.28172160e-01, 5.30024515e-01,\n",
       "        5.30156480e-01, 5.30217924e-01, 5.33773272e-01, 5.37092903e-01,\n",
       "        5.38635545e-01, 5.42742775e-01, 5.43634350e-01, 5.44281586e-01,\n",
       "        5.44448120e-01, 5.45702354e-01, 5.47192370e-01, 5.49962587e-01,\n",
       "        5.50465678e-01, 5.50885189e-01, 5.51215728e-01, 5.51600296e-01,\n",
       "        5.52270752e-01, 5.55116830e-01, 5.55288907e-01, 5.55338081e-01,\n",
       "        5.59047858e-01, 5.59363078e-01, 5.59579003e-01, 5.62256886e-01,\n",
       "        5.62665202e-01, 5.62927180e-01, 5.64767982e-01, 5.67895251e-01,\n",
       "        5.68390529e-01, 5.70677773e-01, 5.70744650e-01, 5.72183051e-01,\n",
       "        5.73362948e-01, 5.73452051e-01, 5.73578511e-01, 5.74191853e-01,\n",
       "        5.74841962e-01, 5.75562319e-01, 5.76289701e-01, 5.76722810e-01,\n",
       "        5.77823292e-01, 5.79207833e-01, 5.79273063e-01, 5.80325316e-01,\n",
       "        5.83189487e-01, 5.83805103e-01, 5.87410580e-01, 5.87824162e-01,\n",
       "        5.88294020e-01, 5.92518759e-01, 5.94787504e-01, 6.00457249e-01,\n",
       "        6.00547997e-01, 6.00565232e-01, 6.01144663e-01, 6.03252124e-01,\n",
       "        6.04478285e-01, 6.06000766e-01, 6.06384280e-01, 6.07153101e-01,\n",
       "        6.08263575e-01, 6.08968314e-01, 6.10667664e-01, 6.11649130e-01,\n",
       "        6.12845838e-01, 6.13095896e-01, 6.14013891e-01, 6.14476411e-01,\n",
       "        6.14641974e-01, 6.15457522e-01, 6.16092689e-01, 6.16155361e-01,\n",
       "        6.17497740e-01, 6.18561704e-01, 6.19095398e-01, 6.19656667e-01,\n",
       "        6.20758315e-01, 6.21837470e-01, 6.23360019e-01, 6.24193056e-01,\n",
       "        6.24217919e-01, 6.24688874e-01, 6.25046586e-01, 6.25599247e-01,\n",
       "        6.27792385e-01, 6.28634661e-01, 6.28786315e-01, 6.30367818e-01,\n",
       "        6.30940628e-01, 6.31388983e-01, 6.32144697e-01, 6.33855129e-01,\n",
       "        6.34261195e-01, 6.35695572e-01, 6.36458435e-01, 6.36789189e-01,\n",
       "        6.36811284e-01, 6.36866652e-01, 6.36948003e-01, 6.37097045e-01,\n",
       "        6.37588720e-01, 6.38388785e-01, 6.38837942e-01, 6.38923098e-01,\n",
       "        6.39325576e-01, 6.39507638e-01, 6.39655544e-01, 6.40505096e-01,\n",
       "        6.42185164e-01, 6.42586711e-01, 6.44801801e-01, 6.47532745e-01,\n",
       "        6.48858186e-01, 6.48943396e-01, 6.49381734e-01, 6.49540652e-01,\n",
       "        6.50491408e-01, 6.51122328e-01, 6.51772965e-01, 6.56669685e-01,\n",
       "        6.57047290e-01, 6.57331957e-01, 6.57587286e-01, 6.58600973e-01,\n",
       "        6.60559603e-01, 6.60810422e-01, 6.61752634e-01, 6.61820160e-01,\n",
       "        6.62550809e-01, 6.62598865e-01, 6.63348794e-01, 6.63416004e-01,\n",
       "        6.64822561e-01, 6.65743514e-01, 6.68773220e-01, 6.68777070e-01,\n",
       "        6.71116999e-01, 6.73204402e-01, 6.74287552e-01, 6.74788223e-01,\n",
       "        6.75704850e-01, 6.75842983e-01, 6.76307523e-01, 6.76451614e-01,\n",
       "        6.76541511e-01, 6.76992068e-01, 6.77098037e-01, 6.77194877e-01,\n",
       "        6.77469625e-01, 6.79814217e-01, 6.81300775e-01, 6.83489548e-01,\n",
       "        6.83520843e-01, 6.85634447e-01, 6.86233275e-01, 6.87329633e-01,\n",
       "        6.87497611e-01, 6.88809595e-01, 6.89100329e-01, 6.91491614e-01,\n",
       "        6.91769073e-01, 6.91836586e-01, 6.92539371e-01, 6.92850143e-01,\n",
       "        6.93395962e-01, 6.93567224e-01, 6.96770035e-01, 6.96812665e-01,\n",
       "        6.96974785e-01, 6.97113755e-01, 6.99430318e-01, 6.99447681e-01,\n",
       "        7.00266529e-01, 7.00565457e-01, 7.01608645e-01, 7.02041840e-01,\n",
       "        7.03389974e-01, 7.03798792e-01, 7.04663992e-01, 7.04946909e-01,\n",
       "        7.06805989e-01, 7.07254670e-01, 7.08286765e-01, 7.10116533e-01,\n",
       "        7.11816290e-01, 7.13276320e-01, 7.13373312e-01, 7.15328957e-01,\n",
       "        7.15467888e-01, 7.16605452e-01, 7.16964730e-01, 7.17045914e-01,\n",
       "        7.17335925e-01, 7.19208660e-01, 7.19360727e-01, 7.21886285e-01,\n",
       "        7.22764210e-01, 7.23473349e-01, 7.24380098e-01, 7.24685623e-01,\n",
       "        7.24804248e-01, 7.25100277e-01, 7.25283979e-01, 7.26215054e-01,\n",
       "        7.28041384e-01, 7.32094564e-01, 7.33140869e-01, 7.33805321e-01,\n",
       "        7.33820759e-01, 7.36043589e-01, 7.36045575e-01, 7.36521426e-01,\n",
       "        7.36692896e-01, 7.36966244e-01, 7.38369303e-01, 7.39287172e-01,\n",
       "        7.39837951e-01, 7.42261168e-01, 7.44391336e-01, 7.44751980e-01,\n",
       "        7.46643904e-01, 7.47207209e-01, 7.47478159e-01, 7.48065759e-01,\n",
       "        7.48781070e-01, 7.49000870e-01, 7.50548032e-01, 7.51773371e-01,\n",
       "        7.52364075e-01, 7.53054346e-01, 7.53982819e-01, 7.54029802e-01,\n",
       "        7.56319208e-01, 7.58931010e-01, 7.58980831e-01, 7.60259373e-01,\n",
       "        7.60524691e-01, 7.61126350e-01, 7.61267712e-01, 7.61599622e-01,\n",
       "        7.62154363e-01, 7.62341299e-01, 7.63087683e-01, 7.64521376e-01,\n",
       "        7.65838155e-01, 7.66728490e-01, 7.66768546e-01, 7.66948796e-01,\n",
       "        7.69591607e-01, 7.69700558e-01, 7.70546747e-01, 7.70933910e-01,\n",
       "        7.70973477e-01, 7.70981152e-01, 7.71864641e-01, 7.72142481e-01,\n",
       "        7.73040556e-01, 7.74147441e-01, 7.76423073e-01, 7.78194483e-01,\n",
       "        7.78214752e-01, 7.78860376e-01, 7.79247737e-01, 7.80064365e-01,\n",
       "        7.81644782e-01, 7.84085489e-01, 7.86879293e-01, 7.87780418e-01,\n",
       "        7.89409439e-01, 7.91861983e-01, 7.92903521e-01, 7.94346769e-01,\n",
       "        7.96752006e-01, 7.98149740e-01, 7.98164507e-01, 7.98420567e-01,\n",
       "        8.00126784e-01, 8.01595796e-01, 8.04875088e-01, 8.05434630e-01,\n",
       "        8.06604922e-01, 8.06939517e-01, 8.08433544e-01, 8.09026382e-01,\n",
       "        8.09074323e-01, 8.11102559e-01, 8.13890148e-01, 8.14292693e-01,\n",
       "        8.15506216e-01, 8.15982802e-01, 8.15985170e-01, 8.16670003e-01,\n",
       "        8.17253844e-01, 8.17520272e-01, 8.17663939e-01, 8.18593857e-01,\n",
       "        8.18869088e-01, 8.19262290e-01, 8.19516802e-01, 8.19595698e-01,\n",
       "        8.19697704e-01, 8.19729451e-01, 8.20646996e-01, 8.20654199e-01,\n",
       "        8.21756352e-01, 8.23076316e-01, 8.23174335e-01, 8.23785989e-01,\n",
       "        8.24166821e-01, 8.24322324e-01, 8.25679155e-01, 8.29284578e-01,\n",
       "        8.33818237e-01, 8.33874369e-01, 8.36377248e-01, 8.37018511e-01,\n",
       "        8.37552533e-01, 8.39346056e-01, 8.39356438e-01, 8.43841371e-01,\n",
       "        8.47571167e-01, 8.49367311e-01, 8.50824347e-01, 8.51508589e-01,\n",
       "        8.52761875e-01, 8.53195483e-01, 8.53873397e-01, 8.54562320e-01,\n",
       "        8.60903310e-01, 8.60946055e-01, 8.62425419e-01, 8.62940369e-01,\n",
       "        8.64777785e-01, 8.65100069e-01, 8.66763900e-01, 8.67149435e-01,\n",
       "        8.68752319e-01, 8.68863059e-01, 8.69425699e-01, 8.69748180e-01,\n",
       "        8.72313587e-01, 8.73417114e-01, 8.73508577e-01, 8.73644389e-01,\n",
       "        8.74068942e-01, 8.76135005e-01, 8.76927257e-01, 8.79735350e-01,\n",
       "        8.80428758e-01, 8.81732512e-01, 8.82774715e-01, 8.84567003e-01,\n",
       "        8.86473837e-01, 8.86760121e-01, 8.87907975e-01, 8.88962739e-01,\n",
       "        8.91166415e-01, 8.91396899e-01, 8.94969839e-01, 8.95249866e-01,\n",
       "        8.96010270e-01, 9.01543174e-01, 9.02632533e-01, 9.02970666e-01,\n",
       "        9.03676628e-01, 9.03826777e-01, 9.03848921e-01, 9.04387989e-01,\n",
       "        9.04974465e-01, 9.06565004e-01, 9.06706217e-01, 9.06991146e-01,\n",
       "        9.08224099e-01, 9.09434132e-01, 9.09900588e-01, 9.10579718e-01,\n",
       "        9.11734836e-01, 9.11993079e-01, 9.13733890e-01, 9.13919080e-01,\n",
       "        9.14298772e-01, 9.15466223e-01, 9.16317329e-01, 9.16592709e-01,\n",
       "        9.17528415e-01, 9.17599787e-01, 9.18454234e-01, 9.19027826e-01,\n",
       "        9.19167604e-01, 9.19499690e-01, 9.20309916e-01, 9.20644905e-01,\n",
       "        9.21598822e-01, 9.22379415e-01, 9.22767032e-01, 9.22836008e-01,\n",
       "        9.24261678e-01, 9.24593291e-01, 9.25456705e-01, 9.26414923e-01,\n",
       "        9.26974439e-01, 9.27743253e-01, 9.28228286e-01, 9.29410514e-01,\n",
       "        9.29860807e-01, 9.31435430e-01, 9.31439643e-01, 9.31966132e-01,\n",
       "        9.33309746e-01, 9.33671746e-01, 9.35381937e-01, 9.36360639e-01,\n",
       "        9.37402922e-01, 9.39556221e-01, 9.39582838e-01, 9.41240877e-01,\n",
       "        9.42608753e-01, 9.44035664e-01, 9.44712270e-01, 9.46708628e-01,\n",
       "        9.47169982e-01, 9.47732282e-01, 9.48176600e-01, 9.50649062e-01,\n",
       "        9.50734282e-01, 9.51408285e-01, 9.52411598e-01, 9.53533040e-01,\n",
       "        9.55628179e-01, 9.57483979e-01, 9.57927480e-01, 9.58113254e-01,\n",
       "        9.58437537e-01, 9.60579530e-01, 9.62263984e-01, 9.62622310e-01,\n",
       "        9.63102891e-01, 9.64432608e-01, 9.65450572e-01, 9.67006324e-01,\n",
       "        9.67207594e-01, 9.69035545e-01, 9.69695084e-01, 9.71469337e-01,\n",
       "        9.71576450e-01, 9.71586781e-01, 9.73483407e-01, 9.74550051e-01,\n",
       "        9.74622387e-01, 9.75688142e-01, 9.76267830e-01, 9.76335187e-01,\n",
       "        9.79047308e-01, 9.81771021e-01, 9.83986182e-01, 9.84653204e-01,\n",
       "        9.84945488e-01, 9.85399141e-01, 9.85872791e-01, 9.86475833e-01,\n",
       "        9.86939385e-01, 9.87532120e-01, 9.90529132e-01, 9.91255279e-01,\n",
       "        9.91885162e-01, 9.92368072e-01, 9.93072660e-01, 9.93768780e-01,\n",
       "        9.93967595e-01, 9.97285420e-01, 9.98723546e-01, 9.99064932e-01]),\n",
       " array([1, 1, 1, 1, 1, 1, 1, 1, 1, 1, 1, 1, 1, 1, 1, 1, 1, 1, 1, 1, 1, 1,\n",
       "        1, 1, 1, 1, 1, 1, 1, 1, 1, 1, 1, 1, 1, 1, 1, 1, 1, 1, 1, 1, 1, 1,\n",
       "        1, 1, 1, 1, 1, 1, 1, 1, 1, 1, 1, 1, 1, 1, 1, 1, 1, 1, 1, 1, 1, 1,\n",
       "        1, 1, 1, 1, 1, 1, 1, 1, 1, 1, 1, 1, 1, 1, 1, 1, 1, 1, 1, 1, 1, 1,\n",
       "        1, 1, 1, 1, 1, 1, 1, 1, 1, 1, 1, 1, 1, 1, 1, 1, 1, 1, 1, 1, 1, 1,\n",
       "        1, 1, 1, 1, 1, 1, 1, 1, 1, 1, 1, 1, 1, 1, 1, 1, 1, 1, 1, 1, 1, 1,\n",
       "        1, 1, 1, 1, 1, 1, 1, 1, 1, 1, 1, 1, 1, 1, 1, 1, 1, 1, 1, 1, 1, 1,\n",
       "        1, 1, 1, 1, 1, 1, 1, 1, 1, 1, 1, 1, 1, 1, 1, 1, 1, 1, 1, 1, 1, 1,\n",
       "        1, 1, 1, 1, 1, 1, 1, 1, 1, 1, 1, 1, 1, 1, 1, 1, 1, 1, 1, 1, 1, 1,\n",
       "        1, 1, 1, 1, 1, 1, 1, 1, 1, 1, 1, 1, 1, 1, 1, 1, 1, 1, 1, 1, 1, 1,\n",
       "        1, 1, 1, 1, 1, 1, 1, 1, 1, 1, 1, 1, 1, 1, 1, 1, 1, 1, 1, 1, 1, 1,\n",
       "        1, 1, 1, 1, 1, 1, 1, 1, 1, 1, 1, 1, 1, 1, 1, 1, 1, 1, 1, 1, 1, 1,\n",
       "        1, 1, 1, 1, 1, 1, 1, 1, 1, 1, 1, 1, 1, 1, 1, 1, 1, 1, 1, 1, 1, 1,\n",
       "        1, 1, 1, 1, 1, 1, 1, 1, 1, 1, 1, 1, 1, 1, 1, 1, 1, 1, 1, 1, 1, 1,\n",
       "        1, 1, 1, 1, 1, 1, 1, 1, 1, 1, 1, 1, 1, 1, 1, 1, 1, 1, 1, 1, 1, 1,\n",
       "        1, 1, 1, 1, 1, 1, 1, 1, 1, 1, 1, 1, 1, 1, 1, 1, 1, 1, 1, 1, 1, 1,\n",
       "        1, 1, 1, 1, 1, 1, 1, 1, 1, 1, 1, 1, 1, 1, 1, 1, 1, 1, 1, 1, 1, 1,\n",
       "        1, 1, 1, 1, 1, 1, 1, 1, 1, 1, 1, 1, 1, 1, 1, 1, 1, 1, 1, 1, 1, 1,\n",
       "        1, 1, 1, 1, 1, 1, 1, 1, 1, 1, 1, 1, 1, 1, 1, 1, 1, 1, 1, 1, 1, 1,\n",
       "        1, 1, 1, 1, 1, 1, 1, 1, 1, 1, 1, 1, 1, 1, 1, 1, 1, 1, 1, 1, 1, 1,\n",
       "        1, 1, 1, 1, 1, 1, 1, 1, 1, 1, 1, 1, 1, 1, 1, 1, 1, 1, 1, 1, 1, 1,\n",
       "        1, 1, 1, 1, 1, 1, 1, 1, 1, 1, 1, 1, 1, 1, 1, 1, 1, 1, 1, 1, 1, 1,\n",
       "        1, 1, 1, 1, 1, 1, 1, 1, 1, 1, 1, 1, 1, 1, 1, 1, 1, 1, 1, 1, 1, 1,\n",
       "        1, 1, 1, 1, 1, 1, 1, 1, 1, 1, 1, 1, 1, 1, 1, 1, 1, 1, 1, 1, 1, 1,\n",
       "        1, 1, 1, 1, 1, 1, 1, 1, 1, 1, 1, 1, 1, 1, 1, 1, 1, 1, 1, 1, 1, 1,\n",
       "        1, 1, 1, 1, 1, 1, 1, 1, 1, 1, 1, 1, 1, 1, 1, 1, 1, 1, 1, 1, 1, 1,\n",
       "        1, 1, 1, 1, 1, 1, 1, 1, 1, 1, 1, 1, 1, 1, 1, 1, 1, 1, 1, 1, 1, 1,\n",
       "        1, 1, 1, 1, 1, 1, 1, 1, 1, 1, 1, 1, 1, 1, 1, 1, 1, 1, 1, 1, 1, 1,\n",
       "        1, 1, 1, 1, 1, 1, 1, 1, 1, 1, 1, 1, 1, 1, 1, 1, 1, 1, 1, 1, 1, 1,\n",
       "        1, 1, 1, 1, 1, 1, 1, 1, 1, 1, 1, 1, 1, 1, 1, 1, 1, 1, 1, 1, 1, 1,\n",
       "        1, 1, 1, 1, 1, 1, 1, 1, 1, 1, 1, 1, 1, 1, 1, 1, 1, 1, 1, 1, 1, 1,\n",
       "        1, 1, 1, 1, 1, 1, 1, 1, 1, 1, 1, 1, 1, 1, 1, 1, 1, 1, 1, 1, 1, 1,\n",
       "        1, 1, 1, 1, 1, 1, 1, 1, 1, 1, 1, 1, 1, 1, 1, 1, 1, 1, 1, 1, 1, 1,\n",
       "        1, 1, 1, 1, 1, 1, 1, 1, 1, 1, 1, 1, 1, 1, 1, 1, 1, 1, 1, 1, 1, 1,\n",
       "        1, 1, 1, 1, 1, 1, 1, 1, 1, 1, 1, 1, 1, 1, 1, 1, 1, 1, 1, 1, 1, 1,\n",
       "        1, 1, 1, 1, 1, 1, 1, 1, 1, 1, 1, 1, 1, 1, 1, 1, 1, 1, 1, 1, 1, 1,\n",
       "        1, 1, 1, 1, 1, 1, 1, 1, 1, 1, 1, 1, 1, 1, 1, 1, 1, 1, 1, 1, 1, 1,\n",
       "        1, 1, 1, 1, 1, 1, 1, 1, 1, 1, 1, 1, 1, 1, 1, 1, 1, 1, 1, 1, 1, 1,\n",
       "        1, 1, 1, 1, 1, 1, 1, 1, 1, 1, 1, 1, 1, 1, 1, 1, 1, 1, 1, 1, 1, 1,\n",
       "        1, 1, 1, 1, 1, 1, 1, 1, 1, 1, 1, 1, 1, 1, 1, 1, 1, 1, 1, 1, 1, 1,\n",
       "        1, 1, 1, 1, 1, 1, 1, 1, 1, 1, 1, 1, 1, 1, 1, 1, 1, 1, 1, 1, 1, 1,\n",
       "        1, 1, 1, 1, 1, 1, 1, 1, 1, 1, 1, 1, 1, 1, 1, 1, 1, 1, 1, 1, 1, 1,\n",
       "        1, 1, 1, 1, 1, 1, 1, 1, 1, 1, 1, 1, 1, 1, 1, 1, 1, 1, 1, 1, 1, 1,\n",
       "        1, 1, 1, 1, 1, 1, 1, 1, 1, 1, 1, 1, 1, 1, 1, 1, 1, 1, 1, 1, 1, 1,\n",
       "        1, 1, 1, 1, 1, 1, 1, 1, 1, 1, 1, 1, 1, 1, 1, 1, 1, 1, 1, 1, 1, 1,\n",
       "        1, 1, 1, 1, 1, 1, 1, 1, 1, 1], dtype=int64))"
      ]
     },
     "execution_count": 46,
     "metadata": {},
     "output_type": "execute_result"
    }
   ],
   "source": [
    "# Valores únicos \n",
    "np.unique(dados_uniforme, return_counts=True)"
   ]
  },
  {
   "cell_type": "code",
   "execution_count": 47,
   "metadata": {},
   "outputs": [
    {
     "data": {
      "text/plain": [
       "(1997, 5)"
      ]
     },
     "execution_count": 47,
     "metadata": {},
     "output_type": "execute_result"
    }
   ],
   "source": [
    "# Carregando a base de dados\n",
    "ds = pd.read_csv('.././Labs/Amostragem/credit_data.csv')\n",
    "ds.dropna(inplace=True)\n",
    "ds.shape"
   ]
  },
  {
   "cell_type": "code",
   "execution_count": 48,
   "metadata": {},
   "outputs": [
    {
     "data": {
      "text/html": [
       "<div>\n",
       "<style scoped>\n",
       "    .dataframe tbody tr th:only-of-type {\n",
       "        vertical-align: middle;\n",
       "    }\n",
       "\n",
       "    .dataframe tbody tr th {\n",
       "        vertical-align: top;\n",
       "    }\n",
       "\n",
       "    .dataframe thead th {\n",
       "        text-align: right;\n",
       "    }\n",
       "</style>\n",
       "<table border=\"1\" class=\"dataframe\">\n",
       "  <thead>\n",
       "    <tr style=\"text-align: right;\">\n",
       "      <th></th>\n",
       "      <th>i#clientid</th>\n",
       "      <th>income</th>\n",
       "      <th>age</th>\n",
       "      <th>loan</th>\n",
       "      <th>c#default</th>\n",
       "    </tr>\n",
       "  </thead>\n",
       "  <tbody>\n",
       "    <tr>\n",
       "      <th>0</th>\n",
       "      <td>1</td>\n",
       "      <td>66155.925095</td>\n",
       "      <td>59.017015</td>\n",
       "      <td>8106.532131</td>\n",
       "      <td>0</td>\n",
       "    </tr>\n",
       "    <tr>\n",
       "      <th>1</th>\n",
       "      <td>2</td>\n",
       "      <td>34415.153966</td>\n",
       "      <td>48.117153</td>\n",
       "      <td>6564.745018</td>\n",
       "      <td>0</td>\n",
       "    </tr>\n",
       "    <tr>\n",
       "      <th>2</th>\n",
       "      <td>3</td>\n",
       "      <td>57317.170063</td>\n",
       "      <td>63.108049</td>\n",
       "      <td>8020.953296</td>\n",
       "      <td>0</td>\n",
       "    </tr>\n",
       "    <tr>\n",
       "      <th>3</th>\n",
       "      <td>4</td>\n",
       "      <td>42709.534201</td>\n",
       "      <td>45.751972</td>\n",
       "      <td>6103.642260</td>\n",
       "      <td>0</td>\n",
       "    </tr>\n",
       "    <tr>\n",
       "      <th>4</th>\n",
       "      <td>5</td>\n",
       "      <td>66952.688845</td>\n",
       "      <td>18.584336</td>\n",
       "      <td>8770.099235</td>\n",
       "      <td>1</td>\n",
       "    </tr>\n",
       "  </tbody>\n",
       "</table>\n",
       "</div>"
      ],
      "text/plain": [
       "   i#clientid        income        age         loan  c#default\n",
       "0           1  66155.925095  59.017015  8106.532131          0\n",
       "1           2  34415.153966  48.117153  6564.745018          0\n",
       "2           3  57317.170063  63.108049  8020.953296          0\n",
       "3           4  42709.534201  45.751972  6103.642260          0\n",
       "4           5  66952.688845  18.584336  8770.099235          1"
      ]
     },
     "execution_count": 48,
     "metadata": {},
     "output_type": "execute_result"
    }
   ],
   "source": [
    "# Visualizando o dataset\n",
    "ds.head()"
   ]
  },
  {
   "cell_type": "code",
   "execution_count": 49,
   "metadata": {},
   "outputs": [
    {
     "data": {
      "text/plain": [
       "array([[6.61559251e+04, 5.90170151e+01, 8.10653213e+03],\n",
       "       [3.44151540e+04, 4.81171531e+01, 6.56474502e+03],\n",
       "       [5.73171701e+04, 6.31080495e+01, 8.02095330e+03],\n",
       "       ...,\n",
       "       [4.43114493e+04, 2.80171669e+01, 5.52278669e+03],\n",
       "       [4.37560566e+04, 6.39717958e+01, 1.62272260e+03],\n",
       "       [6.94365796e+04, 5.61526170e+01, 7.37883360e+03]])"
      ]
     },
     "execution_count": 49,
     "metadata": {},
     "output_type": "execute_result"
    }
   ],
   "source": [
    "# Dividido a base em classe e previsores \n",
    "X = ds.iloc[:, 1:4].values\n",
    "y = ds.iloc[:, 4].values\n",
    "X"
   ]
  },
  {
   "cell_type": "code",
   "execution_count": 50,
   "metadata": {},
   "outputs": [],
   "source": [
    "# Bibliotecas\n",
    "from sklearn.naive_bayes import GaussianNB\n",
    "from sklearn.metrics import accuracy_score\n",
    "from sklearn.model_selection import train_test_split"
   ]
  },
  {
   "cell_type": "code",
   "execution_count": 51,
   "metadata": {},
   "outputs": [],
   "source": [
    "# Treinado e testando o modelo\n",
    "resultados_naive_bayes = []\n",
    "for i in range(50):\n",
    "    X_train, X_test, y_train, y_test = train_test_split(\n",
    "        X, y, test_size=0.2, stratify=y ,random_state=i \n",
    "    )\n",
    "\n",
    "    naive_bayes = GaussianNB()\n",
    "    naive_bayes.fit(X_train, y_train)\n",
    "    resultados_naive_bayes.append(\n",
    "        accuracy_score(y_test, naive_bayes.predict(X_test))\n",
    "    )"
   ]
  },
  {
   "cell_type": "code",
   "execution_count": 52,
   "metadata": {},
   "outputs": [
    {
     "name": "stdout",
     "output_type": "stream",
     "text": [
      "0.945\n"
     ]
    }
   ],
   "source": [
    "# Valores Máximo\n",
    "print(max(resultados_naive_bayes))"
   ]
  },
  {
   "cell_type": "code",
   "execution_count": 53,
   "metadata": {},
   "outputs": [
    {
     "data": {
      "image/png": "[encoded data removed]",
      "text/plain": [
       "<Figure size 640x480 with 1 Axes>"
      ]
     },
     "metadata": {},
     "output_type": "display_data"
    }
   ],
   "source": [
    "# Gráfico\n",
    "sns.histplot(resultados_naive_bayes, bins=5);"
   ]
  },
  {
   "attachments": {},
   "cell_type": "markdown",
   "metadata": {},
   "source": [
    "## Variáveis discretas\n",
    "### Distribuição de Bernoulli\n",
    "- Tipo específico da distribuição binomial\n",
    "- Possui somente duas respostas: sucesso ou fracasso"
   ]
  },
  {
   "cell_type": "code",
   "execution_count": 54,
   "metadata": {},
   "outputs": [],
   "source": [
    "# Biblioteca\n",
    "from scipy.stats import bernoulli"
   ]
  },
  {
   "cell_type": "code",
   "execution_count": 55,
   "metadata": {},
   "outputs": [],
   "source": [
    "# Gerando os dados\n",
    "dados_bernoulli = bernoulli.rvs(size=1000, p=0.5)"
   ]
  },
  {
   "cell_type": "code",
   "execution_count": 56,
   "metadata": {},
   "outputs": [
    {
     "data": {
      "text/plain": [
       "(array([0, 1], dtype=int64), array([503, 497], dtype=int64))"
      ]
     },
     "execution_count": 56,
     "metadata": {},
     "output_type": "execute_result"
    }
   ],
   "source": [
    "# Valores únicos \n",
    "np.unique(dados_bernoulli, return_counts=True)"
   ]
  },
  {
   "cell_type": "code",
   "execution_count": 57,
   "metadata": {},
   "outputs": [
    {
     "data": {
      "image/png": "[encoded data removed]",
      "text/plain": [
       "<Figure size 640x480 with 1 Axes>"
      ]
     },
     "metadata": {},
     "output_type": "display_data"
    }
   ],
   "source": [
    "# Gráfico\n",
    "sns.histplot(dados_bernoulli);"
   ]
  },
  {
   "attachments": {},
   "cell_type": "markdown",
   "metadata": {},
   "source": [
    "### Distribuição binomial\n",
    "- Somente duas possibilidades (sucesso ou falha)\n",
    "- Probabilidade de sucesso ou falha"
   ]
  },
  {
   "cell_type": "code",
   "execution_count": 58,
   "metadata": {},
   "outputs": [],
   "source": [
    "# Biblioteca\n",
    "from scipy.stats import binom"
   ]
  },
  {
   "cell_type": "code",
   "execution_count": 59,
   "metadata": {},
   "outputs": [],
   "source": [
    "# Gerando dados\n",
    "dados_binomial = binom.rvs(size=1000, n=10, p=0.5)"
   ]
  },
  {
   "cell_type": "code",
   "execution_count": 60,
   "metadata": {},
   "outputs": [
    {
     "data": {
      "text/plain": [
       "(array([ 0,  1,  2,  3,  4,  5,  6,  7,  8,  9, 10], dtype=int64),\n",
       " array([  1,  11,  32, 131, 229, 231, 196, 111,  40,  17,   1], dtype=int64))"
      ]
     },
     "execution_count": 60,
     "metadata": {},
     "output_type": "execute_result"
    }
   ],
   "source": [
    "# Valores unicos \n",
    "np.unique(dados_binomial, return_counts=True)"
   ]
  },
  {
   "cell_type": "code",
   "execution_count": 61,
   "metadata": {},
   "outputs": [
    {
     "data": {
      "image/png": "[encoded data removed]",
      "text/plain": [
       "<Figure size 640x480 with 1 Axes>"
      ]
     },
     "metadata": {},
     "output_type": "display_data"
    }
   ],
   "source": [
    "# Gráfico\n",
    "sns.histplot(dados_binomial);"
   ]
  },
  {
   "attachments": {},
   "cell_type": "markdown",
   "metadata": {},
   "source": [
    "### Distribuição de Poisson\n",
    "- Número de vezes que um evento aconteceu em um intervalo de tempo\n",
    "- Exemplo: número de usuários que visitaram um website em um intervalo\n",
    "- Quantidade de vezes que um evento aconteceu nesse intervalo (número de ligações em um call center)"
   ]
  },
  {
   "cell_type": "code",
   "execution_count": 62,
   "metadata": {},
   "outputs": [],
   "source": [
    "# Biblioteca\n",
    "from scipy.stats import poisson"
   ]
  },
  {
   "cell_type": "code",
   "execution_count": 63,
   "metadata": {},
   "outputs": [
    {
     "data": {
      "text/plain": [
       "(0, 13)"
      ]
     },
     "execution_count": 63,
     "metadata": {},
     "output_type": "execute_result"
    }
   ],
   "source": [
    "# Gerando os dados\n",
    "dados_poisson = poisson.rvs(size=1000, mu=5)\n",
    "min(dados_poisson), max(dados_poisson)"
   ]
  },
  {
   "cell_type": "code",
   "execution_count": 64,
   "metadata": {},
   "outputs": [
    {
     "data": {
      "text/plain": [
       "(array([ 0,  1,  2,  3,  4,  5,  6,  7,  8,  9, 10, 11, 12, 13],\n",
       "       dtype=int64),\n",
       " array([ 10,  34,  78, 149, 158, 193, 150, 104,  51,  36,  19,  10,   6,\n",
       "          2], dtype=int64))"
      ]
     },
     "execution_count": 64,
     "metadata": {},
     "output_type": "execute_result"
    }
   ],
   "source": [
    "# Valores únicos\n",
    "np.unique(dados_poisson, return_counts=True)"
   ]
  },
  {
   "cell_type": "code",
   "execution_count": 65,
   "metadata": {},
   "outputs": [
    {
     "data": {
      "image/png": "[encoded data removed]",
      "text/plain": [
       "<Figure size 640x480 with 1 Axes>"
      ]
     },
     "metadata": {},
     "output_type": "display_data"
    }
   ],
   "source": [
    "# Gráficos\n",
    "sns.histplot(dados_poisson);"
   ]
  },
  {
   "attachments": {},
   "cell_type": "markdown",
   "metadata": {},
   "source": [
    "### Naïve Bayes e distribuições\n",
    "#### Bernoulli"
   ]
  },
  {
   "cell_type": "code",
   "execution_count": 66,
   "metadata": {},
   "outputs": [],
   "source": [
    "# Bibliotecas\n",
    "from sklearn.naive_bayes import BernoulliNB\n",
    "from sklearn.metrics import accuracy_score"
   ]
  },
  {
   "cell_type": "code",
   "execution_count": 67,
   "metadata": {},
   "outputs": [
    {
     "data": {
      "text/html": [
       "<div>\n",
       "<style scoped>\n",
       "    .dataframe tbody tr th:only-of-type {\n",
       "        vertical-align: middle;\n",
       "    }\n",
       "\n",
       "    .dataframe tbody tr th {\n",
       "        vertical-align: top;\n",
       "    }\n",
       "\n",
       "    .dataframe thead th {\n",
       "        text-align: right;\n",
       "    }\n",
       "</style>\n",
       "<table border=\"1\" class=\"dataframe\">\n",
       "  <thead>\n",
       "    <tr style=\"text-align: right;\">\n",
       "      <th></th>\n",
       "      <th>age</th>\n",
       "      <th>workclass</th>\n",
       "      <th>final-weight</th>\n",
       "      <th>education</th>\n",
       "      <th>education-num</th>\n",
       "      <th>marital-status</th>\n",
       "      <th>occupation</th>\n",
       "      <th>relationship</th>\n",
       "      <th>race</th>\n",
       "      <th>sex</th>\n",
       "      <th>capital-gain</th>\n",
       "      <th>capital-loos</th>\n",
       "      <th>hour-per-week</th>\n",
       "      <th>native-country</th>\n",
       "      <th>income</th>\n",
       "    </tr>\n",
       "  </thead>\n",
       "  <tbody>\n",
       "    <tr>\n",
       "      <th>0</th>\n",
       "      <td>39</td>\n",
       "      <td>State-gov</td>\n",
       "      <td>77516</td>\n",
       "      <td>Bachelors</td>\n",
       "      <td>13</td>\n",
       "      <td>Never-married</td>\n",
       "      <td>Adm-clerical</td>\n",
       "      <td>Not-in-family</td>\n",
       "      <td>White</td>\n",
       "      <td>Male</td>\n",
       "      <td>2174</td>\n",
       "      <td>0</td>\n",
       "      <td>40</td>\n",
       "      <td>United-States</td>\n",
       "      <td>&lt;=50K</td>\n",
       "    </tr>\n",
       "    <tr>\n",
       "      <th>1</th>\n",
       "      <td>50</td>\n",
       "      <td>Self-emp-not-inc</td>\n",
       "      <td>83311</td>\n",
       "      <td>Bachelors</td>\n",
       "      <td>13</td>\n",
       "      <td>Married-civ-spouse</td>\n",
       "      <td>Exec-managerial</td>\n",
       "      <td>Husband</td>\n",
       "      <td>White</td>\n",
       "      <td>Male</td>\n",
       "      <td>0</td>\n",
       "      <td>0</td>\n",
       "      <td>13</td>\n",
       "      <td>United-States</td>\n",
       "      <td>&lt;=50K</td>\n",
       "    </tr>\n",
       "    <tr>\n",
       "      <th>2</th>\n",
       "      <td>38</td>\n",
       "      <td>Private</td>\n",
       "      <td>215646</td>\n",
       "      <td>HS-grad</td>\n",
       "      <td>9</td>\n",
       "      <td>Divorced</td>\n",
       "      <td>Handlers-cleaners</td>\n",
       "      <td>Not-in-family</td>\n",
       "      <td>White</td>\n",
       "      <td>Male</td>\n",
       "      <td>0</td>\n",
       "      <td>0</td>\n",
       "      <td>40</td>\n",
       "      <td>United-States</td>\n",
       "      <td>&lt;=50K</td>\n",
       "    </tr>\n",
       "    <tr>\n",
       "      <th>3</th>\n",
       "      <td>53</td>\n",
       "      <td>Private</td>\n",
       "      <td>234721</td>\n",
       "      <td>11th</td>\n",
       "      <td>7</td>\n",
       "      <td>Married-civ-spouse</td>\n",
       "      <td>Handlers-cleaners</td>\n",
       "      <td>Husband</td>\n",
       "      <td>Black</td>\n",
       "      <td>Male</td>\n",
       "      <td>0</td>\n",
       "      <td>0</td>\n",
       "      <td>40</td>\n",
       "      <td>United-States</td>\n",
       "      <td>&lt;=50K</td>\n",
       "    </tr>\n",
       "    <tr>\n",
       "      <th>4</th>\n",
       "      <td>28</td>\n",
       "      <td>Private</td>\n",
       "      <td>338409</td>\n",
       "      <td>Bachelors</td>\n",
       "      <td>13</td>\n",
       "      <td>Married-civ-spouse</td>\n",
       "      <td>Prof-specialty</td>\n",
       "      <td>Wife</td>\n",
       "      <td>Black</td>\n",
       "      <td>Female</td>\n",
       "      <td>0</td>\n",
       "      <td>0</td>\n",
       "      <td>40</td>\n",
       "      <td>Cuba</td>\n",
       "      <td>&lt;=50K</td>\n",
       "    </tr>\n",
       "  </tbody>\n",
       "</table>\n",
       "</div>"
      ],
      "text/plain": [
       "   age          workclass  final-weight   education  education-num  \\\n",
       "0   39          State-gov         77516   Bachelors             13   \n",
       "1   50   Self-emp-not-inc         83311   Bachelors             13   \n",
       "2   38            Private        215646     HS-grad              9   \n",
       "3   53            Private        234721        11th              7   \n",
       "4   28            Private        338409   Bachelors             13   \n",
       "\n",
       "        marital-status          occupation    relationship    race      sex  \\\n",
       "0        Never-married        Adm-clerical   Not-in-family   White     Male   \n",
       "1   Married-civ-spouse     Exec-managerial         Husband   White     Male   \n",
       "2             Divorced   Handlers-cleaners   Not-in-family   White     Male   \n",
       "3   Married-civ-spouse   Handlers-cleaners         Husband   Black     Male   \n",
       "4   Married-civ-spouse      Prof-specialty            Wife   Black   Female   \n",
       "\n",
       "   capital-gain  capital-loos  hour-per-week  native-country  income  \n",
       "0          2174             0             40   United-States   <=50K  \n",
       "1             0             0             13   United-States   <=50K  \n",
       "2             0             0             40   United-States   <=50K  \n",
       "3             0             0             40   United-States   <=50K  \n",
       "4             0             0             40            Cuba   <=50K  "
      ]
     },
     "execution_count": 67,
     "metadata": {},
     "output_type": "execute_result"
    }
   ],
   "source": [
    "# Base de Dados\n",
    "df = pd.read_csv('.././populacao_e_amostra/census.csv')\n",
    "df.head()"
   ]
  },
  {
   "cell_type": "code",
   "execution_count": 68,
   "metadata": {},
   "outputs": [
    {
     "data": {
      "text/plain": [
       "array([' Male', ' Female'], dtype=object)"
      ]
     },
     "execution_count": 68,
     "metadata": {},
     "output_type": "execute_result"
    }
   ],
   "source": [
    "# Valores únicos de sex\n",
    "df['sex'].unique()"
   ]
  },
  {
   "cell_type": "code",
   "execution_count": 69,
   "metadata": {},
   "outputs": [
    {
     "data": {
      "text/plain": [
       "array([' Male', ' Male', ' Male', ..., ' Female', ' Male', ' Female'],\n",
       "      dtype=object)"
      ]
     },
     "execution_count": 69,
     "metadata": {},
     "output_type": "execute_result"
    }
   ],
   "source": [
    "# Separando a variável previsores\n",
    "X = df['sex'].values\n",
    "X"
   ]
  },
  {
   "cell_type": "code",
   "execution_count": 70,
   "metadata": {},
   "outputs": [],
   "source": [
    "# Lib e transformando dados categóricos em dados numéricos \n",
    "from sklearn.preprocessing import LabelEncoder\n",
    "Label_Encoder = LabelEncoder()\n",
    "X = Label_Encoder.fit_transform(X)"
   ]
  },
  {
   "cell_type": "code",
   "execution_count": 71,
   "metadata": {},
   "outputs": [
    {
     "data": {
      "text/plain": [
       "(array([1, 1, 1, ..., 0, 1, 0]), array([0, 1]))"
      ]
     },
     "execution_count": 71,
     "metadata": {},
     "output_type": "execute_result"
    }
   ],
   "source": [
    "# Visualizando os valores\n",
    "X, np.unique(X)"
   ]
  },
  {
   "cell_type": "code",
   "execution_count": 72,
   "metadata": {},
   "outputs": [
    {
     "data": {
      "image/png": "[encoded data removed]",
      "text/plain": [
       "<Figure size 500x500 with 1 Axes>"
      ]
     },
     "metadata": {},
     "output_type": "display_data"
    }
   ],
   "source": [
    "# Gráfico\n",
    "sns.displot(X);"
   ]
  },
  {
   "cell_type": "code",
   "execution_count": 73,
   "metadata": {},
   "outputs": [
    {
     "data": {
      "text/plain": [
       "(32561, 1)"
      ]
     },
     "execution_count": 73,
     "metadata": {},
     "output_type": "execute_result"
    }
   ],
   "source": [
    "# Transformando em matriz\n",
    "X = X.reshape(-1, 1)\n",
    "X.shape"
   ]
  },
  {
   "cell_type": "code",
   "execution_count": 74,
   "metadata": {},
   "outputs": [
    {
     "data": {
      "text/plain": [
       "array([' <=50K', ' <=50K', ' <=50K', ..., ' <=50K', ' <=50K', ' >50K'],\n",
       "      dtype=object)"
      ]
     },
     "execution_count": 74,
     "metadata": {},
     "output_type": "execute_result"
    }
   ],
   "source": [
    "# Variavas de classe\n",
    "y = df['income'].values\n",
    "y"
   ]
  },
  {
   "cell_type": "code",
   "execution_count": 75,
   "metadata": {},
   "outputs": [
    {
     "data": {
      "text/html": [
       "<style>#sk-container-id-1 {color: black;background-color: white;}#sk-container-id-1 pre{padding: 0;}#sk-container-id-1 div.sk-toggleable {background-color: white;}#sk-container-id-1 label.sk-toggleable__label {cursor: pointer;display: block;width: 100%;margin-bottom: 0;padding: 0.3em;box-sizing: border-box;text-align: center;}#sk-container-id-1 label.sk-toggleable__label-arrow:before {content: \"▸\";float: left;margin-right: 0.25em;color: #696969;}#sk-container-id-1 label.sk-toggleable__label-arrow:hover:before {color: black;}#sk-container-id-1 div.sk-estimator:hover label.sk-toggleable__label-arrow:before {color: black;}#sk-container-id-1 div.sk-toggleable__content {max-height: 0;max-width: 0;overflow: hidden;text-align: left;background-color: #f0f8ff;}#sk-container-id-1 div.sk-toggleable__content pre {margin: 0.2em;color: black;border-radius: 0.25em;background-color: #f0f8ff;}#sk-container-id-1 input.sk-toggleable__control:checked~div.sk-toggleable__content {max-height: 200px;max-width: 100%;overflow: auto;}#sk-container-id-1 input.sk-toggleable__control:checked~label.sk-toggleable__label-arrow:before {content: \"▾\";}#sk-container-id-1 div.sk-estimator input.sk-toggleable__control:checked~label.sk-toggleable__label {background-color: #d4ebff;}#sk-container-id-1 div.sk-label input.sk-toggleable__control:checked~label.sk-toggleable__label {background-color: #d4ebff;}#sk-container-id-1 input.sk-hidden--visually {border: 0;clip: rect(1px 1px 1px 1px);clip: rect(1px, 1px, 1px, 1px);height: 1px;margin: -1px;overflow: hidden;padding: 0;position: absolute;width: 1px;}#sk-container-id-1 div.sk-estimator {font-family: monospace;background-color: #f0f8ff;border: 1px dotted black;border-radius: 0.25em;box-sizing: border-box;margin-bottom: 0.5em;}#sk-container-id-1 div.sk-estimator:hover {background-color: #d4ebff;}#sk-container-id-1 div.sk-parallel-item::after {content: \"\";width: 100%;border-bottom: 1px solid gray;flex-grow: 1;}#sk-container-id-1 div.sk-label:hover label.sk-toggleable__label {background-color: #d4ebff;}#sk-container-id-1 div.sk-serial::before {content: \"\";position: absolute;border-left: 1px solid gray;box-sizing: border-box;top: 0;bottom: 0;left: 50%;z-index: 0;}#sk-container-id-1 div.sk-serial {display: flex;flex-direction: column;align-items: center;background-color: white;padding-right: 0.2em;padding-left: 0.2em;position: relative;}#sk-container-id-1 div.sk-item {position: relative;z-index: 1;}#sk-container-id-1 div.sk-parallel {display: flex;align-items: stretch;justify-content: center;background-color: white;position: relative;}#sk-container-id-1 div.sk-item::before, #sk-container-id-1 div.sk-parallel-item::before {content: \"\";position: absolute;border-left: 1px solid gray;box-sizing: border-box;top: 0;bottom: 0;left: 50%;z-index: -1;}#sk-container-id-1 div.sk-parallel-item {display: flex;flex-direction: column;z-index: 1;position: relative;background-color: white;}#sk-container-id-1 div.sk-parallel-item:first-child::after {align-self: flex-end;width: 50%;}#sk-container-id-1 div.sk-parallel-item:last-child::after {align-self: flex-start;width: 50%;}#sk-container-id-1 div.sk-parallel-item:only-child::after {width: 0;}#sk-container-id-1 div.sk-dashed-wrapped {border: 1px dashed gray;margin: 0 0.4em 0.5em 0.4em;box-sizing: border-box;padding-bottom: 0.4em;background-color: white;}#sk-container-id-1 div.sk-label label {font-family: monospace;font-weight: bold;display: inline-block;line-height: 1.2em;}#sk-container-id-1 div.sk-label-container {text-align: center;}#sk-container-id-1 div.sk-container {/* jupyter's `normalize.less` sets `[hidden] { display: none; }` but bootstrap.min.css set `[hidden] { display: none !important; }` so we also need the `!important` here to be able to override the default hidden behavior on the sphinx rendered scikit-learn.org. See: https://github.com/scikit-learn/scikit-learn/issues/21755 */display: inline-block !important;position: relative;}#sk-container-id-1 div.sk-text-repr-fallback {display: none;}</style><div id=\"sk-container-id-1\" class=\"sk-top-container\"><div class=\"sk-text-repr-fallback\"><pre>BernoulliNB()</pre><b>In a Jupyter environment, please rerun this cell to show the HTML representation or trust the notebook. <br />On GitHub, the HTML representation is unable to render, please try loading this page with nbviewer.org.</b></div><div class=\"sk-container\" hidden><div class=\"sk-item\"><div class=\"sk-estimator sk-toggleable\"><input class=\"sk-toggleable__control sk-hidden--visually\" id=\"sk-estimator-id-1\" type=\"checkbox\" checked><label for=\"sk-estimator-id-1\" class=\"sk-toggleable__label sk-toggleable__label-arrow\">BernoulliNB</label><div class=\"sk-toggleable__content\"><pre>BernoulliNB()</pre></div></div></div></div></div>"
      ],
      "text/plain": [
       "BernoulliNB()"
      ]
     },
     "execution_count": 75,
     "metadata": {},
     "output_type": "execute_result"
    }
   ],
   "source": [
    "# Criando e treinado o modelo\n",
    "bernoulli_naive_bayes = BernoulliNB()\n",
    "bernoulli_naive_bayes.fit(X, y)"
   ]
  },
  {
   "cell_type": "code",
   "execution_count": 76,
   "metadata": {},
   "outputs": [],
   "source": [
    "# Criando a variável de previsão\n",
    "previsoes = bernoulli_naive_bayes.predict(X)"
   ]
  },
  {
   "cell_type": "code",
   "execution_count": 77,
   "metadata": {},
   "outputs": [
    {
     "data": {
      "text/plain": [
       "0.7591904425539756"
      ]
     },
     "execution_count": 77,
     "metadata": {},
     "output_type": "execute_result"
    }
   ],
   "source": [
    "# Visualizando a accuracy\n",
    "accuracy_score(y, previsoes)"
   ]
  },
  {
   "attachments": {},
   "cell_type": "markdown",
   "metadata": {},
   "source": [
    "### Multinomial"
   ]
  },
  {
   "cell_type": "code",
   "execution_count": 78,
   "metadata": {},
   "outputs": [],
   "source": [
    "# Biblioteca\n",
    "from sklearn.naive_bayes import MultinomialNB"
   ]
  },
  {
   "cell_type": "code",
   "execution_count": 79,
   "metadata": {},
   "outputs": [
    {
     "data": {
      "text/html": [
       "<div>\n",
       "<style scoped>\n",
       "    .dataframe tbody tr th:only-of-type {\n",
       "        vertical-align: middle;\n",
       "    }\n",
       "\n",
       "    .dataframe tbody tr th {\n",
       "        vertical-align: top;\n",
       "    }\n",
       "\n",
       "    .dataframe thead th {\n",
       "        text-align: right;\n",
       "    }\n",
       "</style>\n",
       "<table border=\"1\" class=\"dataframe\">\n",
       "  <thead>\n",
       "    <tr style=\"text-align: right;\">\n",
       "      <th></th>\n",
       "      <th>age</th>\n",
       "      <th>workclass</th>\n",
       "      <th>final-weight</th>\n",
       "      <th>education</th>\n",
       "      <th>education-num</th>\n",
       "      <th>marital-status</th>\n",
       "      <th>occupation</th>\n",
       "      <th>relationship</th>\n",
       "      <th>race</th>\n",
       "      <th>sex</th>\n",
       "      <th>capital-gain</th>\n",
       "      <th>capital-loos</th>\n",
       "      <th>hour-per-week</th>\n",
       "      <th>native-country</th>\n",
       "      <th>income</th>\n",
       "    </tr>\n",
       "  </thead>\n",
       "  <tbody>\n",
       "    <tr>\n",
       "      <th>0</th>\n",
       "      <td>39</td>\n",
       "      <td>State-gov</td>\n",
       "      <td>77516</td>\n",
       "      <td>Bachelors</td>\n",
       "      <td>13</td>\n",
       "      <td>Never-married</td>\n",
       "      <td>Adm-clerical</td>\n",
       "      <td>Not-in-family</td>\n",
       "      <td>White</td>\n",
       "      <td>Male</td>\n",
       "      <td>2174</td>\n",
       "      <td>0</td>\n",
       "      <td>40</td>\n",
       "      <td>United-States</td>\n",
       "      <td>&lt;=50K</td>\n",
       "    </tr>\n",
       "    <tr>\n",
       "      <th>1</th>\n",
       "      <td>50</td>\n",
       "      <td>Self-emp-not-inc</td>\n",
       "      <td>83311</td>\n",
       "      <td>Bachelors</td>\n",
       "      <td>13</td>\n",
       "      <td>Married-civ-spouse</td>\n",
       "      <td>Exec-managerial</td>\n",
       "      <td>Husband</td>\n",
       "      <td>White</td>\n",
       "      <td>Male</td>\n",
       "      <td>0</td>\n",
       "      <td>0</td>\n",
       "      <td>13</td>\n",
       "      <td>United-States</td>\n",
       "      <td>&lt;=50K</td>\n",
       "    </tr>\n",
       "    <tr>\n",
       "      <th>2</th>\n",
       "      <td>38</td>\n",
       "      <td>Private</td>\n",
       "      <td>215646</td>\n",
       "      <td>HS-grad</td>\n",
       "      <td>9</td>\n",
       "      <td>Divorced</td>\n",
       "      <td>Handlers-cleaners</td>\n",
       "      <td>Not-in-family</td>\n",
       "      <td>White</td>\n",
       "      <td>Male</td>\n",
       "      <td>0</td>\n",
       "      <td>0</td>\n",
       "      <td>40</td>\n",
       "      <td>United-States</td>\n",
       "      <td>&lt;=50K</td>\n",
       "    </tr>\n",
       "    <tr>\n",
       "      <th>3</th>\n",
       "      <td>53</td>\n",
       "      <td>Private</td>\n",
       "      <td>234721</td>\n",
       "      <td>11th</td>\n",
       "      <td>7</td>\n",
       "      <td>Married-civ-spouse</td>\n",
       "      <td>Handlers-cleaners</td>\n",
       "      <td>Husband</td>\n",
       "      <td>Black</td>\n",
       "      <td>Male</td>\n",
       "      <td>0</td>\n",
       "      <td>0</td>\n",
       "      <td>40</td>\n",
       "      <td>United-States</td>\n",
       "      <td>&lt;=50K</td>\n",
       "    </tr>\n",
       "    <tr>\n",
       "      <th>4</th>\n",
       "      <td>28</td>\n",
       "      <td>Private</td>\n",
       "      <td>338409</td>\n",
       "      <td>Bachelors</td>\n",
       "      <td>13</td>\n",
       "      <td>Married-civ-spouse</td>\n",
       "      <td>Prof-specialty</td>\n",
       "      <td>Wife</td>\n",
       "      <td>Black</td>\n",
       "      <td>Female</td>\n",
       "      <td>0</td>\n",
       "      <td>0</td>\n",
       "      <td>40</td>\n",
       "      <td>Cuba</td>\n",
       "      <td>&lt;=50K</td>\n",
       "    </tr>\n",
       "  </tbody>\n",
       "</table>\n",
       "</div>"
      ],
      "text/plain": [
       "   age          workclass  final-weight   education  education-num  \\\n",
       "0   39          State-gov         77516   Bachelors             13   \n",
       "1   50   Self-emp-not-inc         83311   Bachelors             13   \n",
       "2   38            Private        215646     HS-grad              9   \n",
       "3   53            Private        234721        11th              7   \n",
       "4   28            Private        338409   Bachelors             13   \n",
       "\n",
       "        marital-status          occupation    relationship    race      sex  \\\n",
       "0        Never-married        Adm-clerical   Not-in-family   White     Male   \n",
       "1   Married-civ-spouse     Exec-managerial         Husband   White     Male   \n",
       "2             Divorced   Handlers-cleaners   Not-in-family   White     Male   \n",
       "3   Married-civ-spouse   Handlers-cleaners         Husband   Black     Male   \n",
       "4   Married-civ-spouse      Prof-specialty            Wife   Black   Female   \n",
       "\n",
       "   capital-gain  capital-loos  hour-per-week  native-country  income  \n",
       "0          2174             0             40   United-States   <=50K  \n",
       "1             0             0             13   United-States   <=50K  \n",
       "2             0             0             40   United-States   <=50K  \n",
       "3             0             0             40   United-States   <=50K  \n",
       "4             0             0             40            Cuba   <=50K  "
      ]
     },
     "execution_count": 79,
     "metadata": {},
     "output_type": "execute_result"
    }
   ],
   "source": [
    "# Base de Dados\n",
    "df.head()"
   ]
  },
  {
   "cell_type": "code",
   "execution_count": 80,
   "metadata": {},
   "outputs": [],
   "source": [
    "# transformando dados categóricos em dados numéricos\n",
    "label_encoder0 = LabelEncoder()\n",
    "label_encoder1 = LabelEncoder()\n",
    "label_encoder2 = LabelEncoder()\n",
    "label_encoder3 = LabelEncoder()\n",
    "label_encoder4 = LabelEncoder()\n",
    "label_encoder5 = LabelEncoder()\n",
    "label_encoder6 = LabelEncoder()\n",
    "\n",
    "df['workclass'] = label_encoder0.fit_transform(df['workclass'])\n",
    "df['education'] = label_encoder1.fit_transform(df['education'])\n",
    "df['marital-status'] = label_encoder2.fit_transform(df['marital-status'])\n",
    "df['occupation'] = label_encoder3.fit_transform(df['occupation'])\n",
    "df['relationship'] = label_encoder4.fit_transform(df['relationship'])\n",
    "df['race'] = label_encoder5.fit_transform(df['race'])\n",
    "df['native-country'] = label_encoder6.fit_transform(df['native-country'])"
   ]
  },
  {
   "cell_type": "code",
   "execution_count": 81,
   "metadata": {},
   "outputs": [
    {
     "data": {
      "text/html": [
       "<div>\n",
       "<style scoped>\n",
       "    .dataframe tbody tr th:only-of-type {\n",
       "        vertical-align: middle;\n",
       "    }\n",
       "\n",
       "    .dataframe tbody tr th {\n",
       "        vertical-align: top;\n",
       "    }\n",
       "\n",
       "    .dataframe thead th {\n",
       "        text-align: right;\n",
       "    }\n",
       "</style>\n",
       "<table border=\"1\" class=\"dataframe\">\n",
       "  <thead>\n",
       "    <tr style=\"text-align: right;\">\n",
       "      <th></th>\n",
       "      <th>age</th>\n",
       "      <th>workclass</th>\n",
       "      <th>final-weight</th>\n",
       "      <th>education</th>\n",
       "      <th>education-num</th>\n",
       "      <th>marital-status</th>\n",
       "      <th>occupation</th>\n",
       "      <th>relationship</th>\n",
       "      <th>race</th>\n",
       "      <th>sex</th>\n",
       "      <th>capital-gain</th>\n",
       "      <th>capital-loos</th>\n",
       "      <th>hour-per-week</th>\n",
       "      <th>native-country</th>\n",
       "      <th>income</th>\n",
       "    </tr>\n",
       "  </thead>\n",
       "  <tbody>\n",
       "    <tr>\n",
       "      <th>0</th>\n",
       "      <td>39</td>\n",
       "      <td>7</td>\n",
       "      <td>77516</td>\n",
       "      <td>9</td>\n",
       "      <td>13</td>\n",
       "      <td>4</td>\n",
       "      <td>1</td>\n",
       "      <td>1</td>\n",
       "      <td>4</td>\n",
       "      <td>Male</td>\n",
       "      <td>2174</td>\n",
       "      <td>0</td>\n",
       "      <td>40</td>\n",
       "      <td>39</td>\n",
       "      <td>&lt;=50K</td>\n",
       "    </tr>\n",
       "    <tr>\n",
       "      <th>1</th>\n",
       "      <td>50</td>\n",
       "      <td>6</td>\n",
       "      <td>83311</td>\n",
       "      <td>9</td>\n",
       "      <td>13</td>\n",
       "      <td>2</td>\n",
       "      <td>4</td>\n",
       "      <td>0</td>\n",
       "      <td>4</td>\n",
       "      <td>Male</td>\n",
       "      <td>0</td>\n",
       "      <td>0</td>\n",
       "      <td>13</td>\n",
       "      <td>39</td>\n",
       "      <td>&lt;=50K</td>\n",
       "    </tr>\n",
       "    <tr>\n",
       "      <th>2</th>\n",
       "      <td>38</td>\n",
       "      <td>4</td>\n",
       "      <td>215646</td>\n",
       "      <td>11</td>\n",
       "      <td>9</td>\n",
       "      <td>0</td>\n",
       "      <td>6</td>\n",
       "      <td>1</td>\n",
       "      <td>4</td>\n",
       "      <td>Male</td>\n",
       "      <td>0</td>\n",
       "      <td>0</td>\n",
       "      <td>40</td>\n",
       "      <td>39</td>\n",
       "      <td>&lt;=50K</td>\n",
       "    </tr>\n",
       "    <tr>\n",
       "      <th>3</th>\n",
       "      <td>53</td>\n",
       "      <td>4</td>\n",
       "      <td>234721</td>\n",
       "      <td>1</td>\n",
       "      <td>7</td>\n",
       "      <td>2</td>\n",
       "      <td>6</td>\n",
       "      <td>0</td>\n",
       "      <td>2</td>\n",
       "      <td>Male</td>\n",
       "      <td>0</td>\n",
       "      <td>0</td>\n",
       "      <td>40</td>\n",
       "      <td>39</td>\n",
       "      <td>&lt;=50K</td>\n",
       "    </tr>\n",
       "    <tr>\n",
       "      <th>4</th>\n",
       "      <td>28</td>\n",
       "      <td>4</td>\n",
       "      <td>338409</td>\n",
       "      <td>9</td>\n",
       "      <td>13</td>\n",
       "      <td>2</td>\n",
       "      <td>10</td>\n",
       "      <td>5</td>\n",
       "      <td>2</td>\n",
       "      <td>Female</td>\n",
       "      <td>0</td>\n",
       "      <td>0</td>\n",
       "      <td>40</td>\n",
       "      <td>5</td>\n",
       "      <td>&lt;=50K</td>\n",
       "    </tr>\n",
       "  </tbody>\n",
       "</table>\n",
       "</div>"
      ],
      "text/plain": [
       "   age  workclass  final-weight  education  education-num  marital-status  \\\n",
       "0   39          7         77516          9             13               4   \n",
       "1   50          6         83311          9             13               2   \n",
       "2   38          4        215646         11              9               0   \n",
       "3   53          4        234721          1              7               2   \n",
       "4   28          4        338409          9             13               2   \n",
       "\n",
       "   occupation  relationship  race      sex  capital-gain  capital-loos  \\\n",
       "0           1             1     4     Male          2174             0   \n",
       "1           4             0     4     Male             0             0   \n",
       "2           6             1     4     Male             0             0   \n",
       "3           6             0     2     Male             0             0   \n",
       "4          10             5     2   Female             0             0   \n",
       "\n",
       "   hour-per-week  native-country  income  \n",
       "0             40              39   <=50K  \n",
       "1             13              39   <=50K  \n",
       "2             40              39   <=50K  \n",
       "3             40              39   <=50K  \n",
       "4             40               5   <=50K  "
      ]
     },
     "execution_count": 81,
     "metadata": {},
     "output_type": "execute_result"
    }
   ],
   "source": [
    "# Visualizando\n",
    "df.head()"
   ]
  },
  {
   "cell_type": "code",
   "execution_count": 82,
   "metadata": {},
   "outputs": [
    {
     "data": {
      "text/plain": [
       "array([[ 7,  9,  4, ...,  1,  4, 39],\n",
       "       [ 6,  9,  2, ...,  0,  4, 39],\n",
       "       [ 4, 11,  0, ...,  1,  4, 39],\n",
       "       ...,\n",
       "       [ 4, 11,  6, ...,  4,  4, 39],\n",
       "       [ 4, 11,  4, ...,  3,  4, 39],\n",
       "       [ 5, 11,  2, ...,  5,  4, 39]])"
      ]
     },
     "execution_count": 82,
     "metadata": {},
     "output_type": "execute_result"
    }
   ],
   "source": [
    "# Variáveis previsoras \n",
    "X = df.iloc[:, [1,3,5,6,7,8,13]].values\n",
    "X"
   ]
  },
  {
   "cell_type": "code",
   "execution_count": 83,
   "metadata": {},
   "outputs": [
    {
     "data": {
      "text/plain": [
       "array([' <=50K', ' <=50K', ' <=50K', ..., ' <=50K', ' <=50K', ' >50K'],\n",
       "      dtype=object)"
      ]
     },
     "execution_count": 83,
     "metadata": {},
     "output_type": "execute_result"
    }
   ],
   "source": [
    "# Classe\n",
    "y = df['income'].values\n",
    "y"
   ]
  },
  {
   "cell_type": "code",
   "execution_count": 84,
   "metadata": {},
   "outputs": [
    {
     "data": {
      "text/html": [
       "<style>#sk-container-id-2 {color: black;background-color: white;}#sk-container-id-2 pre{padding: 0;}#sk-container-id-2 div.sk-toggleable {background-color: white;}#sk-container-id-2 label.sk-toggleable__label {cursor: pointer;display: block;width: 100%;margin-bottom: 0;padding: 0.3em;box-sizing: border-box;text-align: center;}#sk-container-id-2 label.sk-toggleable__label-arrow:before {content: \"▸\";float: left;margin-right: 0.25em;color: #696969;}#sk-container-id-2 label.sk-toggleable__label-arrow:hover:before {color: black;}#sk-container-id-2 div.sk-estimator:hover label.sk-toggleable__label-arrow:before {color: black;}#sk-container-id-2 div.sk-toggleable__content {max-height: 0;max-width: 0;overflow: hidden;text-align: left;background-color: #f0f8ff;}#sk-container-id-2 div.sk-toggleable__content pre {margin: 0.2em;color: black;border-radius: 0.25em;background-color: #f0f8ff;}#sk-container-id-2 input.sk-toggleable__control:checked~div.sk-toggleable__content {max-height: 200px;max-width: 100%;overflow: auto;}#sk-container-id-2 input.sk-toggleable__control:checked~label.sk-toggleable__label-arrow:before {content: \"▾\";}#sk-container-id-2 div.sk-estimator input.sk-toggleable__control:checked~label.sk-toggleable__label {background-color: #d4ebff;}#sk-container-id-2 div.sk-label input.sk-toggleable__control:checked~label.sk-toggleable__label {background-color: #d4ebff;}#sk-container-id-2 input.sk-hidden--visually {border: 0;clip: rect(1px 1px 1px 1px);clip: rect(1px, 1px, 1px, 1px);height: 1px;margin: -1px;overflow: hidden;padding: 0;position: absolute;width: 1px;}#sk-container-id-2 div.sk-estimator {font-family: monospace;background-color: #f0f8ff;border: 1px dotted black;border-radius: 0.25em;box-sizing: border-box;margin-bottom: 0.5em;}#sk-container-id-2 div.sk-estimator:hover {background-color: #d4ebff;}#sk-container-id-2 div.sk-parallel-item::after {content: \"\";width: 100%;border-bottom: 1px solid gray;flex-grow: 1;}#sk-container-id-2 div.sk-label:hover label.sk-toggleable__label {background-color: #d4ebff;}#sk-container-id-2 div.sk-serial::before {content: \"\";position: absolute;border-left: 1px solid gray;box-sizing: border-box;top: 0;bottom: 0;left: 50%;z-index: 0;}#sk-container-id-2 div.sk-serial {display: flex;flex-direction: column;align-items: center;background-color: white;padding-right: 0.2em;padding-left: 0.2em;position: relative;}#sk-container-id-2 div.sk-item {position: relative;z-index: 1;}#sk-container-id-2 div.sk-parallel {display: flex;align-items: stretch;justify-content: center;background-color: white;position: relative;}#sk-container-id-2 div.sk-item::before, #sk-container-id-2 div.sk-parallel-item::before {content: \"\";position: absolute;border-left: 1px solid gray;box-sizing: border-box;top: 0;bottom: 0;left: 50%;z-index: -1;}#sk-container-id-2 div.sk-parallel-item {display: flex;flex-direction: column;z-index: 1;position: relative;background-color: white;}#sk-container-id-2 div.sk-parallel-item:first-child::after {align-self: flex-end;width: 50%;}#sk-container-id-2 div.sk-parallel-item:last-child::after {align-self: flex-start;width: 50%;}#sk-container-id-2 div.sk-parallel-item:only-child::after {width: 0;}#sk-container-id-2 div.sk-dashed-wrapped {border: 1px dashed gray;margin: 0 0.4em 0.5em 0.4em;box-sizing: border-box;padding-bottom: 0.4em;background-color: white;}#sk-container-id-2 div.sk-label label {font-family: monospace;font-weight: bold;display: inline-block;line-height: 1.2em;}#sk-container-id-2 div.sk-label-container {text-align: center;}#sk-container-id-2 div.sk-container {/* jupyter's `normalize.less` sets `[hidden] { display: none; }` but bootstrap.min.css set `[hidden] { display: none !important; }` so we also need the `!important` here to be able to override the default hidden behavior on the sphinx rendered scikit-learn.org. See: https://github.com/scikit-learn/scikit-learn/issues/21755 */display: inline-block !important;position: relative;}#sk-container-id-2 div.sk-text-repr-fallback {display: none;}</style><div id=\"sk-container-id-2\" class=\"sk-top-container\"><div class=\"sk-text-repr-fallback\"><pre>MultinomialNB()</pre><b>In a Jupyter environment, please rerun this cell to show the HTML representation or trust the notebook. <br />On GitHub, the HTML representation is unable to render, please try loading this page with nbviewer.org.</b></div><div class=\"sk-container\" hidden><div class=\"sk-item\"><div class=\"sk-estimator sk-toggleable\"><input class=\"sk-toggleable__control sk-hidden--visually\" id=\"sk-estimator-id-2\" type=\"checkbox\" checked><label for=\"sk-estimator-id-2\" class=\"sk-toggleable__label sk-toggleable__label-arrow\">MultinomialNB</label><div class=\"sk-toggleable__content\"><pre>MultinomialNB()</pre></div></div></div></div></div>"
      ],
      "text/plain": [
       "MultinomialNB()"
      ]
     },
     "execution_count": 84,
     "metadata": {},
     "output_type": "execute_result"
    }
   ],
   "source": [
    "# Criando e treinado o modelo\n",
    "Multinomial_naive_bayes = MultinomialNB()\n",
    "Multinomial_naive_bayes.fit(X, y)"
   ]
  },
  {
   "cell_type": "code",
   "execution_count": 85,
   "metadata": {},
   "outputs": [
    {
     "data": {
      "text/plain": [
       "0.7485949448727005"
      ]
     },
     "execution_count": 85,
     "metadata": {},
     "output_type": "execute_result"
    }
   ],
   "source": [
    "# Criando a variável de previsão\n",
    "previsoes = Multinomial_naive_bayes.predict(X)\n",
    "accuracy_score(y, previsoes)"
   ]
  }
 ],
 "metadata": {
  "kernelspec": {
   "display_name": "venv",
   "language": "python",
   "name": "python3"
  },
  "language_info": {
   "codemirror_mode": {
    "name": "ipython",
    "version": 3
   },
   "file_extension": ".py",
   "mimetype": "text/x-python",
   "name": "python",
   "nbconvert_exporter": "python",
   "pygments_lexer": "ipython3",
   "version": "3.10.9"
  },
  "orig_nbformat": 4,
  "vscode": {
   "interpreter": {
    "hash": "6e33741c762ba601eba819328c4d8c422f54d4c680da98d193b65b9553109624"
   }
  }
 },
 "nbformat": 4,
 "nbformat_minor": 2
}
