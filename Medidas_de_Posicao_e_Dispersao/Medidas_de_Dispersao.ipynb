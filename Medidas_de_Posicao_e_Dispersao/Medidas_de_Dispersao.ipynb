{
 "cells": [
  {
   "attachments": {},
   "cell_type": "markdown",
   "metadata": {},
   "source": [
    "## Amplitude amostral e diferença interquartil"
   ]
  },
  {
   "cell_type": "code",
   "execution_count": 1,
   "metadata": {},
   "outputs": [],
   "source": [
    "# Libs\n",
    "import numpy as np"
   ]
  },
  {
   "cell_type": "code",
   "execution_count": 2,
   "metadata": {},
   "outputs": [],
   "source": [
    "# Dados\n",
    "dados = np.array(\n",
    "    [\n",
    "        150, 151, 152, 152, 153, 154, 155, 155, 155, 155, 156, 156, 156,\n",
    "        157, 158, 158, 160, 160, 160, 160, 160, 161, 161, 161, 161, 162,\n",
    "        163, 163, 164, 164, 164, 165, 166, 167, 168, 168, 169, 170, 172,\n",
    "        173\n",
    "    ]\n",
    ")"
   ]
  },
  {
   "cell_type": "code",
   "execution_count": 3,
   "metadata": {},
   "outputs": [
    {
     "data": {
      "text/plain": [
       "23"
      ]
     },
     "execution_count": 3,
     "metadata": {},
     "output_type": "execute_result"
    }
   ],
   "source": [
    "# Visualizando a amplitude amostral\n",
    "dados.max() - dados.min()"
   ]
  },
  {
   "cell_type": "code",
   "execution_count": 4,
   "metadata": {},
   "outputs": [
    {
     "data": {
      "text/plain": [
       "(155.75, 164.0)"
      ]
     },
     "execution_count": 4,
     "metadata": {},
     "output_type": "execute_result"
    }
   ],
   "source": [
    "# Atribuído os quartis \n",
    "q1 = np.quantile(dados, 0.25)\n",
    "q3 = np.quantile(dados, 0.75)\n",
    "q1, q3"
   ]
  },
  {
   "cell_type": "code",
   "execution_count": 5,
   "metadata": {},
   "outputs": [
    {
     "data": {
      "text/plain": [
       "8.25"
      ]
     },
     "execution_count": 5,
     "metadata": {},
     "output_type": "execute_result"
    }
   ],
   "source": [
    "# Calculando a diferença interquartil\n",
    "diferenca_interquartil = q3 - q1\n",
    "diferenca_interquartil"
   ]
  },
  {
   "cell_type": "code",
   "execution_count": 6,
   "metadata": {},
   "outputs": [
    {
     "data": {
      "text/plain": [
       "(143.375, 176.375)"
      ]
     },
     "execution_count": 6,
     "metadata": {},
     "output_type": "execute_result"
    }
   ],
   "source": [
    "# Calculando os Outliers\n",
    "inferior = q1 - (1.5 * diferenca_interquartil)\n",
    "superior = q3 + (1.5 * diferenca_interquartil)\n",
    "inferior, superior "
   ]
  }
 ],
 "metadata": {
  "kernelspec": {
   "display_name": "venv",
   "language": "python",
   "name": "python3"
  },
  "language_info": {
   "codemirror_mode": {
    "name": "ipython",
    "version": 3
   },
   "file_extension": ".py",
   "mimetype": "text/x-python",
   "name": "python",
   "nbconvert_exporter": "python",
   "pygments_lexer": "ipython3",
   "version": "3.10.8"
  },
  "orig_nbformat": 4,
  "vscode": {
   "interpreter": {
    "hash": "6e33741c762ba601eba819328c4d8c422f54d4c680da98d193b65b9553109624"
   }
  }
 },
 "nbformat": 4,
 "nbformat_minor": 2
}
