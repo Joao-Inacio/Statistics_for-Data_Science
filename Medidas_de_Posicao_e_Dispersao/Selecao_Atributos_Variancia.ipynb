{
 "cells": [
  {
   "attachments": {},
   "cell_type": "markdown",
   "metadata": {},
   "source": [
    "## Seleção de atributos utilizando variância"
   ]
  },
  {
   "cell_type": "code",
   "execution_count": 1,
   "metadata": {},
   "outputs": [],
   "source": [
    "# Bibliotecas\n",
    "import math\n",
    "import pandas as pd\n",
    "import numpy as np"
   ]
  },
  {
   "cell_type": "code",
   "execution_count": 2,
   "metadata": {},
   "outputs": [
    {
     "data": {
      "text/plain": [
       "array([0.82787145, 0.8424722 , 0.73006625, 0.2470767 , 0.14059202,\n",
       "       0.86926498, 0.35104466, 0.3792922 , 0.75376552, 0.6895043 ,\n",
       "       0.44520021, 0.00989566, 0.71681079, 0.32481213, 0.56705459,\n",
       "       0.57594503, 0.79777476, 0.02931123, 0.99641512, 0.99827822,\n",
       "       0.40644159, 0.07487425, 0.95168228, 0.10765832, 0.78883261,\n",
       "       0.50088134, 0.724192  , 0.92333686, 0.92406957, 0.48047649,\n",
       "       0.74504871, 0.41466333, 0.71181903, 0.0387578 , 0.12349541,\n",
       "       0.59828122, 0.86166199, 0.63501442, 0.66553625, 0.58119929,\n",
       "       0.67152971, 0.25591516, 0.54433632, 0.82831536, 0.11385971,\n",
       "       0.88022228, 0.54091267, 0.93259872, 0.80930703, 0.40672127])"
      ]
     },
     "execution_count": 2,
     "metadata": {},
     "output_type": "execute_result"
    }
   ],
   "source": [
    "# Criando um grupo de dados\n",
    "np.random.rand(50)"
   ]
  },
  {
   "cell_type": "code",
   "execution_count": 3,
   "metadata": {},
   "outputs": [
    {
     "data": {
      "text/plain": [
       "0"
      ]
     },
     "execution_count": 3,
     "metadata": {},
     "output_type": "execute_result"
    }
   ],
   "source": [
    "# Gerando um número entre 0 e 1\n",
    "np.random.randint(0, 2)"
   ]
  },
  {
   "cell_type": "code",
   "execution_count": 4,
   "metadata": {},
   "outputs": [
    {
     "data": {
      "text/plain": [
       "{'a': array([0.57511305, 0.73856752, 0.19347051, 0.95383634, 0.80620465,\n",
       "        0.33028575, 0.90205323, 0.07210399, 0.78184501, 0.7816085 ,\n",
       "        0.21183064, 0.90055596, 0.93293625, 0.58120267, 0.29684161,\n",
       "        0.27275874, 0.61427804, 0.25975987, 0.12289049, 0.02256181]),\n",
       " 'b': array([0.5, 0.5, 0.5, 0.5, 0.5, 0.5, 0.5, 0.5, 0.5, 0.5, 0.5, 0.5, 0.5,\n",
       "        0.5, 0.5, 0.5, 0.5, 0.5, 0.5, 0.5]),\n",
       " 'classe': array([0, 0, 1, 0, 0, 0, 1, 1, 1, 0, 0, 0, 0, 0, 1, 0, 0, 1, 1, 0])}"
      ]
     },
     "execution_count": 4,
     "metadata": {},
     "output_type": "execute_result"
    }
   ],
   "source": [
    "# Criando uma base de dados\n",
    "bs = {\n",
    "    'a': np.random.rand(20),\n",
    "    'b': np.array([0.5] * 20),\n",
    "    'classe': np.random.randint(0, 2, size=20)\n",
    "}\n",
    "bs"
   ]
  },
  {
   "cell_type": "code",
   "execution_count": 5,
   "metadata": {},
   "outputs": [
    {
     "data": {
      "text/html": [
       "<div>\n",
       "<style scoped>\n",
       "    .dataframe tbody tr th:only-of-type {\n",
       "        vertical-align: middle;\n",
       "    }\n",
       "\n",
       "    .dataframe tbody tr th {\n",
       "        vertical-align: top;\n",
       "    }\n",
       "\n",
       "    .dataframe thead th {\n",
       "        text-align: right;\n",
       "    }\n",
       "</style>\n",
       "<table border=\"1\" class=\"dataframe\">\n",
       "  <thead>\n",
       "    <tr style=\"text-align: right;\">\n",
       "      <th></th>\n",
       "      <th>a</th>\n",
       "      <th>b</th>\n",
       "      <th>classe</th>\n",
       "    </tr>\n",
       "  </thead>\n",
       "  <tbody>\n",
       "    <tr>\n",
       "      <th>0</th>\n",
       "      <td>0.575113</td>\n",
       "      <td>0.5</td>\n",
       "      <td>0</td>\n",
       "    </tr>\n",
       "    <tr>\n",
       "      <th>1</th>\n",
       "      <td>0.738568</td>\n",
       "      <td>0.5</td>\n",
       "      <td>0</td>\n",
       "    </tr>\n",
       "    <tr>\n",
       "      <th>2</th>\n",
       "      <td>0.193471</td>\n",
       "      <td>0.5</td>\n",
       "      <td>1</td>\n",
       "    </tr>\n",
       "    <tr>\n",
       "      <th>3</th>\n",
       "      <td>0.953836</td>\n",
       "      <td>0.5</td>\n",
       "      <td>0</td>\n",
       "    </tr>\n",
       "    <tr>\n",
       "      <th>4</th>\n",
       "      <td>0.806205</td>\n",
       "      <td>0.5</td>\n",
       "      <td>0</td>\n",
       "    </tr>\n",
       "  </tbody>\n",
       "</table>\n",
       "</div>"
      ],
      "text/plain": [
       "          a    b  classe\n",
       "0  0.575113  0.5       0\n",
       "1  0.738568  0.5       0\n",
       "2  0.193471  0.5       1\n",
       "3  0.953836  0.5       0\n",
       "4  0.806205  0.5       0"
      ]
     },
     "execution_count": 5,
     "metadata": {},
     "output_type": "execute_result"
    }
   ],
   "source": [
    "# Transformando a base de dados em um DataSet\n",
    "ds = pd.DataFrame(bs)\n",
    "ds.head()"
   ]
  },
  {
   "cell_type": "code",
   "execution_count": 6,
   "metadata": {},
   "outputs": [
    {
     "data": {
      "text/html": [
       "<div>\n",
       "<style scoped>\n",
       "    .dataframe tbody tr th:only-of-type {\n",
       "        vertical-align: middle;\n",
       "    }\n",
       "\n",
       "    .dataframe tbody tr th {\n",
       "        vertical-align: top;\n",
       "    }\n",
       "\n",
       "    .dataframe thead th {\n",
       "        text-align: right;\n",
       "    }\n",
       "</style>\n",
       "<table border=\"1\" class=\"dataframe\">\n",
       "  <thead>\n",
       "    <tr style=\"text-align: right;\">\n",
       "      <th></th>\n",
       "      <th>a</th>\n",
       "      <th>b</th>\n",
       "      <th>classe</th>\n",
       "    </tr>\n",
       "  </thead>\n",
       "  <tbody>\n",
       "    <tr>\n",
       "      <th>count</th>\n",
       "      <td>20.000000</td>\n",
       "      <td>20.0</td>\n",
       "      <td>20.00000</td>\n",
       "    </tr>\n",
       "    <tr>\n",
       "      <th>mean</th>\n",
       "      <td>0.517535</td>\n",
       "      <td>0.5</td>\n",
       "      <td>0.35000</td>\n",
       "    </tr>\n",
       "    <tr>\n",
       "      <th>std</th>\n",
       "      <td>0.320669</td>\n",
       "      <td>0.0</td>\n",
       "      <td>0.48936</td>\n",
       "    </tr>\n",
       "    <tr>\n",
       "      <th>min</th>\n",
       "      <td>0.022562</td>\n",
       "      <td>0.5</td>\n",
       "      <td>0.00000</td>\n",
       "    </tr>\n",
       "    <tr>\n",
       "      <th>25%</th>\n",
       "      <td>0.247778</td>\n",
       "      <td>0.5</td>\n",
       "      <td>0.00000</td>\n",
       "    </tr>\n",
       "    <tr>\n",
       "      <th>50%</th>\n",
       "      <td>0.578158</td>\n",
       "      <td>0.5</td>\n",
       "      <td>0.00000</td>\n",
       "    </tr>\n",
       "    <tr>\n",
       "      <th>75%</th>\n",
       "      <td>0.787935</td>\n",
       "      <td>0.5</td>\n",
       "      <td>1.00000</td>\n",
       "    </tr>\n",
       "    <tr>\n",
       "      <th>max</th>\n",
       "      <td>0.953836</td>\n",
       "      <td>0.5</td>\n",
       "      <td>1.00000</td>\n",
       "    </tr>\n",
       "  </tbody>\n",
       "</table>\n",
       "</div>"
      ],
      "text/plain": [
       "               a     b    classe\n",
       "count  20.000000  20.0  20.00000\n",
       "mean    0.517535   0.5   0.35000\n",
       "std     0.320669   0.0   0.48936\n",
       "min     0.022562   0.5   0.00000\n",
       "25%     0.247778   0.5   0.00000\n",
       "50%     0.578158   0.5   0.00000\n",
       "75%     0.787935   0.5   1.00000\n",
       "max     0.953836   0.5   1.00000"
      ]
     },
     "execution_count": 6,
     "metadata": {},
     "output_type": "execute_result"
    }
   ],
   "source": [
    "# Visualizando a descrição do ds\n",
    "ds.describe()"
   ]
  },
  {
   "cell_type": "code",
   "execution_count": 7,
   "metadata": {},
   "outputs": [
    {
     "data": {
      "text/plain": [
       "(0.09768701583283776, 0.0)"
      ]
     },
     "execution_count": 7,
     "metadata": {},
     "output_type": "execute_result"
    }
   ],
   "source": [
    "# A Variância das colunas A e B\n",
    "np.var(ds['a']), np.var(ds['b'])"
   ]
  },
  {
   "cell_type": "code",
   "execution_count": 8,
   "metadata": {},
   "outputs": [
    {
     "data": {
      "text/plain": [
       "0.3125492214561376"
      ]
     },
     "execution_count": 8,
     "metadata": {},
     "output_type": "execute_result"
    }
   ],
   "source": [
    "# A raiz quadrada da variância da coluna A\n",
    "math.sqrt(np.var(ds['a']))"
   ]
  },
  {
   "cell_type": "code",
   "execution_count": 9,
   "metadata": {},
   "outputs": [
    {
     "data": {
      "text/plain": [
       "array([[0.57511305, 0.5       ],\n",
       "       [0.73856752, 0.5       ],\n",
       "       [0.19347051, 0.5       ],\n",
       "       [0.95383634, 0.5       ],\n",
       "       [0.80620465, 0.5       ],\n",
       "       [0.33028575, 0.5       ],\n",
       "       [0.90205323, 0.5       ],\n",
       "       [0.07210399, 0.5       ],\n",
       "       [0.78184501, 0.5       ],\n",
       "       [0.7816085 , 0.5       ],\n",
       "       [0.21183064, 0.5       ],\n",
       "       [0.90055596, 0.5       ],\n",
       "       [0.93293625, 0.5       ],\n",
       "       [0.58120267, 0.5       ],\n",
       "       [0.29684161, 0.5       ],\n",
       "       [0.27275874, 0.5       ],\n",
       "       [0.61427804, 0.5       ],\n",
       "       [0.25975987, 0.5       ],\n",
       "       [0.12289049, 0.5       ],\n",
       "       [0.02256181, 0.5       ]])"
      ]
     },
     "execution_count": 9,
     "metadata": {},
     "output_type": "execute_result"
    }
   ],
   "source": [
    "# Selecionado as colunas A e B \n",
    "X = ds.iloc[:, 0:2].values\n",
    "X"
   ]
  },
  {
   "cell_type": "code",
   "execution_count": 10,
   "metadata": {},
   "outputs": [],
   "source": [
    "# Lib\n",
    "from sklearn.feature_selection import VarianceThreshold"
   ]
  },
  {
   "cell_type": "code",
   "execution_count": 11,
   "metadata": {},
   "outputs": [],
   "source": [
    "# Criando a seleção\n",
    "selecao = VarianceThreshold(threshold=0.08)\n",
    "x_novo = selecao.fit_transform(X)"
   ]
  },
  {
   "cell_type": "code",
   "execution_count": 12,
   "metadata": {},
   "outputs": [
    {
     "data": {
      "text/plain": [
       "(array([[0.57511305],\n",
       "        [0.73856752],\n",
       "        [0.19347051],\n",
       "        [0.95383634],\n",
       "        [0.80620465],\n",
       "        [0.33028575],\n",
       "        [0.90205323],\n",
       "        [0.07210399],\n",
       "        [0.78184501],\n",
       "        [0.7816085 ],\n",
       "        [0.21183064],\n",
       "        [0.90055596],\n",
       "        [0.93293625],\n",
       "        [0.58120267],\n",
       "        [0.29684161],\n",
       "        [0.27275874],\n",
       "        [0.61427804],\n",
       "        [0.25975987],\n",
       "        [0.12289049],\n",
       "        [0.02256181]]),\n",
       " (20, 1))"
      ]
     },
     "execution_count": 12,
     "metadata": {},
     "output_type": "execute_result"
    }
   ],
   "source": [
    "# Visualizando o X_novo e o tamanho\n",
    "x_novo, x_novo.shape"
   ]
  },
  {
   "cell_type": "code",
   "execution_count": 13,
   "metadata": {},
   "outputs": [
    {
     "data": {
      "text/plain": [
       "array([0.09768702, 0.        ])"
      ]
     },
     "execution_count": 13,
     "metadata": {},
     "output_type": "execute_result"
    }
   ],
   "source": [
    "# A Variância\n",
    "selecao.variances_"
   ]
  },
  {
   "cell_type": "code",
   "execution_count": 14,
   "metadata": {},
   "outputs": [
    {
     "data": {
      "text/plain": [
       "(array([0], dtype=int64),)"
      ]
     },
     "execution_count": 14,
     "metadata": {},
     "output_type": "execute_result"
    }
   ],
   "source": [
    "# Onde a variância é maior\n",
    "indices = np.where(selecao.variances_ > 0.08)\n",
    "indices"
   ]
  }
 ],
 "metadata": {
  "kernelspec": {
   "display_name": "venv",
   "language": "python",
   "name": "python3"
  },
  "language_info": {
   "codemirror_mode": {
    "name": "ipython",
    "version": 3
   },
   "file_extension": ".py",
   "mimetype": "text/x-python",
   "name": "python",
   "nbconvert_exporter": "python",
   "pygments_lexer": "ipython3",
   "version": "3.10.8"
  },
  "orig_nbformat": 4,
  "vscode": {
   "interpreter": {
    "hash": "6e33741c762ba601eba819328c4d8c422f54d4c680da98d193b65b9553109624"
   }
  }
 },
 "nbformat": 4,
 "nbformat_minor": 2
}
