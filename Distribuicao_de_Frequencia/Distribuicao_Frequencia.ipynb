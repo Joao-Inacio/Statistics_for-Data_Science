{
 "cells": [
  {
   "attachments": {},
   "cell_type": "markdown",
   "metadata": {},
   "source": [
    "## Distribuição de Frequência "
   ]
  },
  {
   "cell_type": "code",
   "execution_count": 1,
   "metadata": {},
   "outputs": [],
   "source": [
    "# Bibliotecas\n",
    "import matplotlib.pyplot as plt\n",
    "import pandas as pd\n",
    "import numpy as np\n",
    "import seaborn as sns"
   ]
  },
  {
   "cell_type": "code",
   "execution_count": 2,
   "metadata": {},
   "outputs": [],
   "source": [
    "# Criando os dados\n",
    "dados = np.array(\n",
    "    [\n",
    "        160, 165, 167, 164, 160, 166, 160, 161, 150, 152, 173, 160, 155,\n",
    "        164, 168, 162, 161, 168, 163, 156, 155, 169, 151, 170, 164,\n",
    "        155, 152, 163, 160, 155, 157, 156, 158, 158, 161, 154, 161, 156, 172, 153\n",
    "    ]\n",
    ")"
   ]
  },
  {
   "attachments": {},
   "cell_type": "markdown",
   "metadata": {},
   "source": [
    "### Ordenação"
   ]
  },
  {
   "cell_type": "code",
   "execution_count": 3,
   "metadata": {},
   "outputs": [
    {
     "data": {
      "text/plain": [
       "array([150, 151, 152, 152, 153, 154, 155, 155, 155, 155, 156, 156, 156,\n",
       "       157, 158, 158, 160, 160, 160, 160, 160, 161, 161, 161, 161, 162,\n",
       "       163, 163, 164, 164, 164, 165, 166, 167, 168, 168, 169, 170, 172,\n",
       "       173])"
      ]
     },
     "execution_count": 3,
     "metadata": {},
     "output_type": "execute_result"
    }
   ],
   "source": [
    "# Ordenados os dados\n",
    "dados = np.sort(dados)\n",
    "dados"
   ]
  },
  {
   "cell_type": "code",
   "execution_count": 4,
   "metadata": {},
   "outputs": [
    {
     "data": {
      "text/plain": [
       "(150, 173)"
      ]
     },
     "execution_count": 4,
     "metadata": {},
     "output_type": "execute_result"
    }
   ],
   "source": [
    "# Criando as variáveis miníma e máxima \n",
    "minimo = dados.min()\n",
    "maximo = dados.max()\n",
    "minimo, maximo"
   ]
  },
  {
   "cell_type": "code",
   "execution_count": 5,
   "metadata": {},
   "outputs": [
    {
     "data": {
      "text/plain": [
       "(array([150, 151, 152, 153, 154, 155, 156, 157, 158, 160, 161, 162, 163,\n",
       "        164, 165, 166, 167, 168, 169, 170, 172, 173]),\n",
       " array([1, 1, 2, 1, 1, 4, 3, 1, 2, 5, 4, 1, 2, 3, 1, 1, 1, 2, 1, 1, 1, 1],\n",
       "       dtype=int64))"
      ]
     },
     "execution_count": 5,
     "metadata": {},
     "output_type": "execute_result"
    }
   ],
   "source": [
    "# Valores únicos \n",
    "np.unique(dados, return_counts=True)"
   ]
  },
  {
   "cell_type": "code",
   "execution_count": 6,
   "metadata": {},
   "outputs": [
    {
     "data": {
      "text/plain": [
       "<BarContainer object of 40 artists>"
      ]
     },
     "execution_count": 6,
     "metadata": {},
     "output_type": "execute_result"
    },
    {
     "data": {
      "image/png": "[encoded data removed]",
      "text/plain": [
       "<Figure size 640x480 with 1 Axes>"
      ]
     },
     "metadata": {},
     "output_type": "display_data"
    }
   ],
   "source": [
    "# Visualizando o gráfico \n",
    "plt.barh(dados, dados, color='cyan')"
   ]
  },
  {
   "attachments": {},
   "cell_type": "markdown",
   "metadata": {},
   "source": [
    "## Número de classes\n",
    "\n",
    "- i = 1 + 3.3 log n"
   ]
  },
  {
   "cell_type": "code",
   "execution_count": 7,
   "metadata": {},
   "outputs": [
    {
     "data": {
      "text/plain": [
       "40"
      ]
     },
     "execution_count": 7,
     "metadata": {},
     "output_type": "execute_result"
    }
   ],
   "source": [
    "# definido o N\n",
    "n = len(dados)\n",
    "n"
   ]
  },
  {
   "cell_type": "code",
   "execution_count": 8,
   "metadata": {},
   "outputs": [
    {
     "data": {
      "text/plain": [
       "6.286797971382275"
      ]
     },
     "execution_count": 8,
     "metadata": {},
     "output_type": "execute_result"
    }
   ],
   "source": [
    "# Formula de Sturger\n",
    "i = 1 + 3.3 * np.log10(n)\n",
    "i"
   ]
  },
  {
   "cell_type": "code",
   "execution_count": 9,
   "metadata": {},
   "outputs": [
    {
     "data": {
      "text/plain": [
       "6"
      ]
     },
     "execution_count": 9,
     "metadata": {},
     "output_type": "execute_result"
    }
   ],
   "source": [
    "# Arrendondado o valor de i\n",
    "i = round(i)\n",
    "i"
   ]
  },
  {
   "attachments": {},
   "cell_type": "markdown",
   "metadata": {},
   "source": [
    "## Amplitude do intervalo\n",
    "h = AA / i\n",
    "AA = Xmax - Xmin"
   ]
  },
  {
   "cell_type": "code",
   "execution_count": 10,
   "metadata": {},
   "outputs": [
    {
     "data": {
      "text/plain": [
       "23"
      ]
     },
     "execution_count": 10,
     "metadata": {},
     "output_type": "execute_result"
    }
   ],
   "source": [
    "# Amplitude amostral\n",
    "AA = maximo - minimo\n",
    "AA"
   ]
  },
  {
   "cell_type": "code",
   "execution_count": 11,
   "metadata": {},
   "outputs": [
    {
     "data": {
      "text/plain": [
       "3.8333333333333335"
      ]
     },
     "execution_count": 11,
     "metadata": {},
     "output_type": "execute_result"
    }
   ],
   "source": [
    "# Amplitude do intervalo de classe\n",
    "h = AA / i\n",
    "h"
   ]
  },
  {
   "cell_type": "code",
   "execution_count": 12,
   "metadata": {},
   "outputs": [
    {
     "data": {
      "text/plain": [
       "4"
      ]
     },
     "execution_count": 12,
     "metadata": {},
     "output_type": "execute_result"
    }
   ],
   "source": [
    "# Biblioteca\n",
    "from math import ceil\n",
    "h = ceil(h)\n",
    "h"
   ]
  },
  {
   "attachments": {},
   "cell_type": "markdown",
   "metadata": {},
   "source": [
    "## Construção da Distribuição de Frequência"
   ]
  },
  {
   "cell_type": "code",
   "execution_count": 13,
   "metadata": {},
   "outputs": [
    {
     "data": {
      "text/plain": [
       "array([150, 154, 158, 162, 166, 170, 174])"
      ]
     },
     "execution_count": 13,
     "metadata": {},
     "output_type": "execute_result"
    }
   ],
   "source": [
    "# Criando o intervalo da distribuição\n",
    "intervalos = np.arange(minimo, maximo + 2, step=h)\n",
    "intervalos"
   ]
  },
  {
   "cell_type": "code",
   "execution_count": 14,
   "metadata": {},
   "outputs": [],
   "source": [
    "# Criando a contagem dos intervalos\n",
    "intervalo1, intervalo2, intervalo3, intervalo4, intervalo5, intervalo6 = 0, 0, 0, 0, 0, 0\n",
    "for i in range(n):\n",
    "    if dados[i] >= intervalos[0] and dados[i] < intervalos[1]:\n",
    "        intervalo1 += 1\n",
    "    elif dados[i] >= intervalos[1] and dados[i] < intervalos[2]:\n",
    "        intervalo2 += 1\n",
    "    elif dados[i] >= intervalos[2] and dados[i] < intervalos[3]:\n",
    "        intervalo3 += 1\n",
    "    elif dados[i] >= intervalos[3] and dados[i] < intervalos[4]:\n",
    "        intervalo4 += 1\n",
    "    elif dados[i] >= intervalos[4] and dados[i] < intervalos[5]:\n",
    "        intervalo5 += 1\n",
    "    elif dados[i] >= intervalos[5] and dados[i] < intervalos[6]:\n",
    "        intervalo6 += 1"
   ]
  },
  {
   "cell_type": "code",
   "execution_count": 15,
   "metadata": {},
   "outputs": [
    {
     "data": {
      "text/plain": [
       "[5, 9, 11, 7, 5, 3]"
      ]
     },
     "execution_count": 15,
     "metadata": {},
     "output_type": "execute_result"
    }
   ],
   "source": [
    "# Adicionado os intervalas em uma lista\n",
    "lista_intervalos = []\n",
    "lista_intervalos.append(intervalo1)\n",
    "lista_intervalos.append(intervalo2)\n",
    "lista_intervalos.append(intervalo3)\n",
    "lista_intervalos.append(intervalo4)\n",
    "lista_intervalos.append(intervalo5)\n",
    "lista_intervalos.append(intervalo6)\n",
    "lista_intervalos"
   ]
  },
  {
   "cell_type": "code",
   "execution_count": 16,
   "metadata": {},
   "outputs": [
    {
     "data": {
      "text/plain": [
       "['150|-154', '154|-158', '158|-162', '162|-166', '166|-170', '170|-174']"
      ]
     },
     "execution_count": 16,
     "metadata": {},
     "output_type": "execute_result"
    }
   ],
   "source": [
    "# Criando a lista de classes\n",
    "lista_classe = []\n",
    "for i in range(len(lista_intervalos)):\n",
    "    lista_classe.append(f'{str(intervalos[i])}|-{str(intervalos[i + 1])}')\n",
    "\n",
    "lista_classe"
   ]
  },
  {
   "cell_type": "code",
   "execution_count": 17,
   "metadata": {},
   "outputs": [
    {
     "data": {
      "image/png": "[encoded data removed]",
      "text/plain": [
       "<Figure size 640x480 with 1 Axes>"
      ]
     },
     "metadata": {},
     "output_type": "display_data"
    }
   ],
   "source": [
    "# Visualizando o gráfico\n",
    "plt.bar(lista_classe, lista_intervalos)\n",
    "plt.title('Distribuição de Frequência - Histograma')\n",
    "plt.xlabel('Intervalos')\n",
    "plt.ylabel('Valores');"
   ]
  },
  {
   "attachments": {},
   "cell_type": "markdown",
   "metadata": {},
   "source": [
    "## Distribuição de Frequência e Histograma com Numpy e Matplotlib"
   ]
  },
  {
   "cell_type": "code",
   "execution_count": 18,
   "metadata": {},
   "outputs": [
    {
     "data": {
      "text/plain": [
       "(array([4, 2, 7, 3, 9, 3, 5, 3, 2, 2], dtype=int64),\n",
       " array([150. , 152.3, 154.6, 156.9, 159.2, 161.5, 163.8, 166.1, 168.4,\n",
       "        170.7, 173. ]),\n",
       " 11)"
      ]
     },
     "execution_count": 18,
     "metadata": {},
     "output_type": "execute_result"
    }
   ],
   "source": [
    "# Criando a frequência e o intervalo de classes\n",
    "frequencia, classes = np.histogram(dados)\n",
    "frequencia, classes, len(classes)"
   ]
  },
  {
   "cell_type": "code",
   "execution_count": 19,
   "metadata": {},
   "outputs": [
    {
     "data": {
      "image/png": "[encoded data removed]",
      "text/plain": [
       "<Figure size 640x480 with 1 Axes>"
      ]
     },
     "metadata": {},
     "output_type": "display_data"
    }
   ],
   "source": [
    "# Gráfico\n",
    "plt.hist(dados, bins=classes);"
   ]
  },
  {
   "cell_type": "code",
   "execution_count": 20,
   "metadata": {},
   "outputs": [
    {
     "data": {
      "text/plain": [
       "(array([ 6, 10, 12,  8,  4], dtype=int64),\n",
       " array([150. , 154.6, 159.2, 163.8, 168.4, 173. ]))"
      ]
     },
     "execution_count": 20,
     "metadata": {},
     "output_type": "execute_result"
    }
   ],
   "source": [
    "# Com bins=5\n",
    "frequencia, classes = np.histogram(dados, bins=5)\n",
    "frequencia, classes"
   ]
  },
  {
   "cell_type": "code",
   "execution_count": 21,
   "metadata": {},
   "outputs": [
    {
     "data": {
      "text/plain": [
       "(array([ 6., 10., 12.,  8.,  4.]),\n",
       " array([150. , 154.6, 159.2, 163.8, 168.4, 173. ]),\n",
       " <BarContainer object of 5 artists>)"
      ]
     },
     "execution_count": 21,
     "metadata": {},
     "output_type": "execute_result"
    },
    {
     "data": {
      "image/png": "[encoded data removed]",
      "text/plain": [
       "<Figure size 640x480 with 1 Axes>"
      ]
     },
     "metadata": {},
     "output_type": "display_data"
    }
   ],
   "source": [
    "# Gráfico\n",
    "plt.hist(dados, classes)"
   ]
  },
  {
   "cell_type": "code",
   "execution_count": 22,
   "metadata": {},
   "outputs": [
    {
     "data": {
      "text/plain": [
       "(array([ 5,  8,  3, 12,  5,  4,  3], dtype=int64),\n",
       " array([150.        , 153.28571429, 156.57142857, 159.85714286,\n",
       "        163.14285714, 166.42857143, 169.71428571, 173.        ]))"
      ]
     },
     "execution_count": 22,
     "metadata": {},
     "output_type": "execute_result"
    }
   ],
   "source": [
    "# Distribuição de Frequência com bins='sturges'\n",
    "frequencia, classes = np.histogram(dados, bins='sturges')\n",
    "frequencia, classes"
   ]
  },
  {
   "cell_type": "code",
   "execution_count": 23,
   "metadata": {},
   "outputs": [
    {
     "data": {
      "image/png": "[encoded data removed]",
      "text/plain": [
       "<Figure size 640x480 with 1 Axes>"
      ]
     },
     "metadata": {},
     "output_type": "display_data"
    }
   ],
   "source": [
    "# gráfico\n",
    "plt.hist(dados, classes);"
   ]
  },
  {
   "attachments": {},
   "cell_type": "markdown",
   "metadata": {},
   "source": [
    "## Distribuição de Frequência e histograma com pandas e seaborn"
   ]
  },
  {
   "cell_type": "code",
   "execution_count": 24,
   "metadata": {},
   "outputs": [
    {
     "data": {
      "text/html": [
       "<div>\n",
       "<style scoped>\n",
       "    .dataframe tbody tr th:only-of-type {\n",
       "        vertical-align: middle;\n",
       "    }\n",
       "\n",
       "    .dataframe tbody tr th {\n",
       "        vertical-align: top;\n",
       "    }\n",
       "\n",
       "    .dataframe thead th {\n",
       "        text-align: right;\n",
       "    }\n",
       "</style>\n",
       "<table border=\"1\" class=\"dataframe\">\n",
       "  <thead>\n",
       "    <tr style=\"text-align: right;\">\n",
       "      <th></th>\n",
       "      <th>dados</th>\n",
       "    </tr>\n",
       "  </thead>\n",
       "  <tbody>\n",
       "    <tr>\n",
       "      <th>0</th>\n",
       "      <td>150</td>\n",
       "    </tr>\n",
       "    <tr>\n",
       "      <th>1</th>\n",
       "      <td>151</td>\n",
       "    </tr>\n",
       "    <tr>\n",
       "      <th>2</th>\n",
       "      <td>152</td>\n",
       "    </tr>\n",
       "    <tr>\n",
       "      <th>3</th>\n",
       "      <td>152</td>\n",
       "    </tr>\n",
       "    <tr>\n",
       "      <th>4</th>\n",
       "      <td>153</td>\n",
       "    </tr>\n",
       "  </tbody>\n",
       "</table>\n",
       "</div>"
      ],
      "text/plain": [
       "   dados\n",
       "0    150\n",
       "1    151\n",
       "2    152\n",
       "3    152\n",
       "4    153"
      ]
     },
     "execution_count": 24,
     "metadata": {},
     "output_type": "execute_result"
    }
   ],
   "source": [
    "# Criando o dataset\n",
    "ds = pd.DataFrame({'dados': dados})\n",
    "ds.head()"
   ]
  },
  {
   "cell_type": "code",
   "execution_count": 25,
   "metadata": {},
   "outputs": [
    {
     "data": {
      "image/png": "[encoded data removed]",
      "text/plain": [
       "<Figure size 640x480 with 1 Axes>"
      ]
     },
     "metadata": {},
     "output_type": "display_data"
    }
   ],
   "source": [
    "# Gráfico\n",
    "ds.plot.hist();"
   ]
  },
  {
   "cell_type": "code",
   "execution_count": 26,
   "metadata": {},
   "outputs": [
    {
     "data": {
      "image/png": "[encoded data removed]",
      "text/plain": [
       "<Figure size 640x480 with 1 Axes>"
      ]
     },
     "metadata": {},
     "output_type": "display_data"
    }
   ],
   "source": [
    "# Gráfico com seaborn\n",
    "sns.histplot(dados, kde=True);"
   ]
  }
 ],
 "metadata": {
  "kernelspec": {
   "display_name": "venv",
   "language": "python",
   "name": "python3"
  },
  "language_info": {
   "codemirror_mode": {
    "name": "ipython",
    "version": 3
   },
   "file_extension": ".py",
   "mimetype": "text/x-python",
   "name": "python",
   "nbconvert_exporter": "python",
   "pygments_lexer": "ipython3",
   "version": "3.10.8"
  },
  "orig_nbformat": 4,
  "vscode": {
   "interpreter": {
    "hash": "6e33741c762ba601eba819328c4d8c422f54d4c680da98d193b65b9553109624"
   }
  }
 },
 "nbformat": 4,
 "nbformat_minor": 2
}
